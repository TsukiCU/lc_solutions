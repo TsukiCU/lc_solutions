{
 "cells": [
  {
   "cell_type": "markdown",
   "metadata": {},
   "source": [
    "# Beautiful Towers I\n",
    "\n",
    "**Problem**:\n",
    "Given an array `maxHeights` of `n` integers, you are to build `n` towers such that the `i`th tower is at coordinate `i` with a height of `heights[i]`. A configuration of towers is considered beautiful if it satisfies the following conditions:\n",
    "1. `1 <= heights[i] <= maxHeights[i]`\n",
    "2. `heights` is a mountain array, meaning there exists an index `i` such that:\n",
    "   - For all `0 < j <= i`, `heights[j - 1] <= heights[j]`\n",
    "   - For all `i <= k < n - 1`, `heights[k + 1] <= heights[k]`\n",
    "\n",
    "Return the maximum possible sum of heights of a beautiful configuration of towers.\n",
    "\n",
    "<br>\n",
    "\n",
    "**Examples**:\n",
    "\n",
    "1. **Input**:\n",
    "   `maxHeights = [5,3,4,1,1]`\n",
    "   \n",
    "   **Output**: `13`\n",
    "   \n",
    "   **Explanation**:\n",
    "   A beautiful configuration is `heights = [5,3,3,1,1]`. It has a maximum sum of 13.\n",
    "\n",
    "2. **Input**:\n",
    "   `maxHeights = [6,5,3,9,2,7]`\n",
    "   \n",
    "   **Output**: `22`\n",
    "   \n",
    "   **Explanation**:\n",
    "   A beautiful configuration is `heights = [3,3,3,9,2,2]`. It has a maximum sum of 22.\n",
    "\n",
    "<br>\n",
    "\n",
    "3. **Input**:\n",
    "   `maxHeights = [3,2,5,5,2,3]`\n",
    "   \n",
    "   **Output**: `18`\n",
    "   \n",
    "   **Explanation**:\n",
    "   A beautiful configuration is `heights = [2,2,5,5,2,2]`. It has a maximum sum of 18.\n",
    "\n",
    "<br>\n",
    "\n",
    "**Constraints**:\n",
    "- `1 <= n == maxHeights <= 10^3`\n",
    "- `1 <= maxHeights[i] <= 10^9`\n"
   ]
  },
  {
   "cell_type": "code",
   "execution_count": 1,
   "metadata": {},
   "outputs": [],
   "source": [
    "from typing import List\n",
    "def test(s):\n",
    "    test_cases = [\n",
    "        ([5,3,4,1,1], 13),\n",
    "        ([6,5,3,9,2,7], 22),\n",
    "        ([3,2,5,5,2,3], 18)\n",
    "    ]\n",
    "    for i, (maxHeights, expected) in enumerate(test_cases):\n",
    "        assert s.maxSumOfBeautifulConfiguration(maxHeights) == expected, f\"wrong answer at test case {i + 1}: maxHeights = {maxHeights}\"\n",
    "    print(\"Succeed\")\n",
    "\n",
    "# Example usage\n",
    "# s = Solution()\n",
    "# test(s)\n"
   ]
  },
  {
   "cell_type": "code",
   "execution_count": null,
   "metadata": {},
   "outputs": [],
   "source": [
    "'''\n",
    "    Brute force. The data range is managable so we can resort to brute force to safe us some time lol.\n",
    "'''\n",
    "\n",
    "class Solution1:\n",
    "    def maximumSumOfHeights(self, maxHeights: List[int]) -> int:\n"
   ]
  }
 ],
 "metadata": {
  "kernelspec": {
   "display_name": "Python 3",
   "language": "python",
   "name": "python3"
  },
  "language_info": {
   "codemirror_mode": {
    "name": "ipython",
    "version": 3
   },
   "file_extension": ".py",
   "mimetype": "text/x-python",
   "name": "python",
   "nbconvert_exporter": "python",
   "pygments_lexer": "ipython3",
   "version": "3.10.11"
  }
 },
 "nbformat": 4,
 "nbformat_minor": 2
}
