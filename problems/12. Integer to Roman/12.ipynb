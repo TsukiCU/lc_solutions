{
 "cells": [
  {
   "cell_type": "markdown",
   "metadata": {},
   "source": [
    "# Integer to Roman\n",
    "\n",
    "**Problem**:\n",
    "Convert a given integer to its Roman numeral representation. Roman numerals are represented by seven different symbols: I, V, X, L, C, D, and M.\n",
    "\n",
    "**Symbol Values**:\n",
    "- I: 1\n",
    "- V: 5\n",
    "- X: 10\n",
    "- L: 50\n",
    "- C: 100\n",
    "- D: 500\n",
    "- M: 1000\n",
    "\n",
    "For instance, 2 is written as 'II' (I + I), 12 as 'XII' (X + II), and 27 as 'XXVII' (XX + V + II). Notably, the numeral for four is not 'IIII' but 'IV' due to the subtraction principle, which also applies to other cases like nine ('IX').\n",
    "\n",
    "**Subtraction Cases**:\n",
    "- 'I' before 'V' (5) and 'X' (10) to make 4 (IV) and 9 (IX).\n",
    "- 'X' before 'L' (50) and 'C' (100) to make 40 (XL) and 90 (XC).\n",
    "- 'C' before 'D' (500) and 'M' (1000) to make 400 (CD) and 900 (CM).\n",
    "\n",
    "**Examples**:\n",
    "\n",
    "1. **Input**: `num = 3`\n",
    "   **Output**: `\"III\"`\n",
    "   **Explanation**: 3 is represented as three ones.\n",
    "\n",
    "2. **Input**: `num = 58`\n",
    "   **Output**: `\"LVIII\"`\n",
    "   **Explanation**: L = 50, V = 5, III = 3.\n",
    "\n",
    "3. **Input**: `num = 1994`\n",
    "   **Output**: `\"MCMXCIV\"`\n",
    "   **Explanation**: M = 1000, CM = 900, XC = 90, IV = 4.\n",
    "\n",
    "**Constraints**:\n",
    "- `1 <= num <= 3999`\n"
   ]
  },
  {
   "cell_type": "code",
   "execution_count": 11,
   "metadata": {},
   "outputs": [],
   "source": [
    "def test(s):\n",
    "    test_cases = [3, 58, 1994]\n",
    "    ref = [\"III\", \"LVIII\", \"MCMXCIV\"]\n",
    "    for i in range(len(test_cases)):\n",
    "        assert s.intToRoman(test_cases[i]) == ref[i], f\"wrong answer at test case {test_cases[i]}\"\n",
    "    print(\"Succeed\")\n"
   ]
  },
  {
   "cell_type": "code",
   "execution_count": 6,
   "metadata": {},
   "outputs": [
    {
     "data": {
      "text/plain": [
       "'CCIXIIII'"
      ]
     },
     "execution_count": 6,
     "metadata": {},
     "output_type": "execute_result"
    }
   ],
   "source": [
    "class Solution1:\n",
    "    def intToRoman(self, num: int) -> str:\n",
    "        '''\n",
    "        h = \\\n",
    "        {\n",
    "            1: 'I',\n",
    "            5: 'V',\n",
    "            10: 'X',\n",
    "            50: 'L',\n",
    "            100: 'C',\n",
    "            500: 'D',\n",
    "            1000: 'M',\n",
    "            4: 'IV',\n",
    "            9: 'IX',\n",
    "            40: 'XL',\n",
    "            90: 'XC',\n",
    "            400: 'CD',\n",
    "            900: 'CM'\n",
    "        }\n",
    "        '''\n",
    "        res = \"\"\n",
    "        res += \"M\" * (res//1000)\n",
    "        num %= 1000\n",
    "\n",
    "        # ... continue doing so. Too dull to write them all. Eh.."
   ]
  },
  {
   "cell_type": "code",
   "execution_count": 13,
   "metadata": {},
   "outputs": [
    {
     "name": "stdout",
     "output_type": "stream",
     "text": [
      "Succeed\n"
     ]
    }
   ],
   "source": [
    "class Solution2:\n",
    "    def intToRoman(self, num: int) -> str:\n",
    "        index = [1000, 900, 500, 400, 100, 90, 50, 40, 10, 9, 5, 4, 1]\n",
    "        roman_ = ['M', 'CM', 'D', 'CD', 'C', 'XC', 'L', 'XL', 'X', 'IX', 'V', 'IV', 'I']\n",
    "        res = \"\"\n",
    "        for i in range(13):\n",
    "            res += roman_[i] * (num//index[i])\n",
    "            num %= index[i]\n",
    "            if num == 0:\n",
    "                return res\n",
    "\n",
    "        return res\n",
    "\n",
    "test(Solution2())"
   ]
  },
  {
   "cell_type": "code",
   "execution_count": 40,
   "metadata": {},
   "outputs": [
    {
     "name": "stdout",
     "output_type": "stream",
     "text": [
      "Succeed\n"
     ]
    }
   ],
   "source": [
    "# 1: 'I',\n",
    "# 5: 'V',\n",
    "# 10: 'X',\n",
    "# 50: 'L',\n",
    "# 100: 'C',\n",
    "# 500: 'D',\n",
    "# 1000: 'M',\n",
    "# 4: 'IV',\n",
    "# 9: 'IX',\n",
    "# 40: 'XL',\n",
    "# 90: 'XC',\n",
    "# 400: 'CD',\n",
    "# 900: 'CM'\n",
    "\n",
    "'''\n",
    "    Very interesting\n",
    "'''\n",
    "class Solution3:\n",
    "    def intToRoman(self, num:int) -> str:\n",
    "        '''\n",
    "            For the digits, tens and hundreds, there are two *basic characters* per bit:\n",
    "            one for the *base values* (1, 10, 100) and the other for the *intermediate values* (5, 50, 500).\n",
    "            For the thousands place, on the other hand, only one character, M, is required.\n",
    "            *Index* represents the digits, tens, hundreds and thousands of the number\n",
    "        '''\n",
    "        index = [('I', 'V'), ('X', 'L'), ('C', 'D'), ('M')]\n",
    "        res = \"\"\n",
    "        i = 0\n",
    "        while num:\n",
    "            last = num % 10\n",
    "            if last == 9:\n",
    "                res += index[i+1][0] + index[i][0]\n",
    "            elif last > 5 and last < 9:\n",
    "                res += index[i][0] * (last-5) + index[i][1]\n",
    "            elif last == 5:\n",
    "                res += index[i][1]\n",
    "            elif last == 4:\n",
    "                res += index[i][1] + index[i][0]\n",
    "            elif last > 0 and last < 4:\n",
    "                res += index[i][0] * last\n",
    "\n",
    "            num //= 10\n",
    "            i += 1\n",
    "        return res[::-1]\n",
    "\n",
    "test(Solution3())\n"
   ]
  },
  {
   "cell_type": "code",
   "execution_count": 35,
   "metadata": {},
   "outputs": [
    {
     "data": {
      "text/plain": [
       "0"
      ]
     },
     "execution_count": 35,
     "metadata": {},
     "output_type": "execute_result"
    }
   ],
   "source": [
    "5//10"
   ]
  },
  {
   "cell_type": "code",
   "execution_count": null,
   "metadata": {},
   "outputs": [],
   "source": []
  }
 ],
 "metadata": {
  "kernelspec": {
   "display_name": "Python 3",
   "language": "python",
   "name": "python3"
  },
  "language_info": {
   "codemirror_mode": {
    "name": "ipython",
    "version": 3
   },
   "file_extension": ".py",
   "mimetype": "text/x-python",
   "name": "python",
   "nbconvert_exporter": "python",
   "pygments_lexer": "ipython3",
   "version": "3.10.11"
  }
 },
 "nbformat": 4,
 "nbformat_minor": 2
}
