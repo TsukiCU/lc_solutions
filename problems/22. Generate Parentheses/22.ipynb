{
 "cells": [
  {
   "cell_type": "markdown",
   "metadata": {},
   "source": [
    "# Generate Parentheses\n",
    "\n",
    "**Problem**:\n",
    "Given `n` pairs of parentheses, write a function to generate all combinations of well-formed parentheses.\n",
    "\n",
    "**Examples**:\n",
    "\n",
    "1. **Input**:\n",
    "   `n = 3`\n",
    "   \n",
    "   **Output**: `[\"((()))\", \"(()())\", \"(())()\", \"()(())\", \"()()()\"]`\n",
    "   \n",
    "   **Explanation**:\n",
    "   All combinations of well-formed parentheses with three pairs are listed.\n",
    "\n",
    "2. **Input**:\n",
    "   `n = 1`\n",
    "   \n",
    "   **Output**: `[\"()\"]`\n",
    "   \n",
    "   **Explanation**:\n",
    "   The only combination of well-formed parentheses with one pair is \"()\".\n",
    "\n",
    "**Constraints**:\n",
    "- `1 <= n <= 8`\n"
   ]
  },
  {
   "cell_type": "code",
   "execution_count": 2,
   "metadata": {},
   "outputs": [],
   "source": [
    "from typing import List\n",
    "def test(s):\n",
    "    test_cases = [3, 1]\n",
    "    ref = [\n",
    "        [\"((()))\", \"(()())\", \"(())()\", \"()(())\", \"()()()\"],\n",
    "        [\"()\"]\n",
    "    ]\n",
    "    for i, (n, expected) in enumerate(zip(test_cases, ref)):\n",
    "        result = s.generateParenthesis(n)\n",
    "        assert sorted(result) == sorted(expected), f\"wrong answer at test case {i + 1}: n = {n}\"\n",
    "    print(\"Succeed\")\n",
    "\n",
    "# Example usage\n",
    "# s = Solution()\n",
    "# test(s)\n"
   ]
  },
  {
   "cell_type": "code",
   "execution_count": null,
   "metadata": {},
   "outputs": [],
   "source": [
    "'''\n",
    "    very classic backtracking.\n",
    "'''\n",
    "class Solution:\n",
    "    def generateParenthesis(self, n: int) -> List[str]:\n",
    "        def backtrack(index, path):\n",
    "            if len(path) == 2*n:\n",
    "                res.append(path.copy())\n",
    "                return\n",
    "\n"
   ]
  },
  {
   "cell_type": "code",
   "execution_count": 3,
   "metadata": {},
   "outputs": [
    {
     "data": {
      "text/plain": [
       "[[1, 2], [1, 3], [1, 4], [2, 3], [2, 4], [3, 4]]"
      ]
     },
     "execution_count": 3,
     "metadata": {},
     "output_type": "execute_result"
    }
   ],
   "source": [
    "def combine(n, k):\n",
    "    def backtrack(start, path):\n",
    "        if len(path) == k:\n",
    "            res.append(path.copy())\n",
    "            return\n",
    "        for i in range(start, n+1):\n",
    "            path.append(i)\n",
    "            backtrack(i+1, path)\n",
    "            path.pop(-1)\n",
    "\n",
    "    res = []\n",
    "    backtrack(1, [])\n",
    "    return res\n",
    "\n",
    "combine(4, 2)"
   ]
  },
  {
   "cell_type": "code",
   "execution_count": null,
   "metadata": {},
   "outputs": [],
   "source": []
  }
 ],
 "metadata": {
  "kernelspec": {
   "display_name": "Python 3",
   "language": "python",
   "name": "python3"
  },
  "language_info": {
   "codemirror_mode": {
    "name": "ipython",
    "version": 3
   },
   "file_extension": ".py",
   "mimetype": "text/x-python",
   "name": "python",
   "nbconvert_exporter": "python",
   "pygments_lexer": "ipython3",
   "version": "3.10.11"
  }
 },
 "nbformat": 4,
 "nbformat_minor": 2
}
