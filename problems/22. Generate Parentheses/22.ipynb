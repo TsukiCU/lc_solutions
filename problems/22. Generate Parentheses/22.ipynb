{
 "cells": [
  {
   "cell_type": "markdown",
   "metadata": {},
   "source": [
    "# Generate Parentheses\n",
    "\n",
    "**Problem**:\n",
    "Given `n` pairs of parentheses, write a function to generate all combinations of well-formed parentheses.\n",
    "\n",
    "**Examples**:\n",
    "\n",
    "1. **Input**:\n",
    "   `n = 3`\n",
    "   \n",
    "   **Output**: `[\"((()))\", \"(()())\", \"(())()\", \"()(())\", \"()()()\"]`\n",
    "   \n",
    "   **Explanation**:\n",
    "   All combinations of well-formed parentheses with three pairs are listed.\n",
    "\n",
    "2. **Input**:\n",
    "   `n = 1`\n",
    "   \n",
    "   **Output**: `[\"()\"]`\n",
    "   \n",
    "   **Explanation**:\n",
    "   The only combination of well-formed parentheses with one pair is \"()\".\n",
    "\n",
    "**Constraints**:\n",
    "- `1 <= n <= 8`\n"
   ]
  },
  {
   "cell_type": "code",
   "execution_count": 1,
   "metadata": {},
   "outputs": [],
   "source": [
    "from typing import List\n",
    "def test(s):\n",
    "    test_cases = [3, 1]\n",
    "    ref = [\n",
    "        [\"((()))\", \"(()())\", \"(())()\", \"()(())\", \"()()()\"],\n",
    "        [\"()\"]\n",
    "    ]\n",
    "    for i, (n, expected) in enumerate(zip(test_cases, ref)):\n",
    "        result = s.generateParenthesis(n)\n",
    "        assert sorted(result) == sorted(expected), f\"wrong answer at test case {i + 1}: n = {n}\"\n",
    "    print(\"Succeed\")\n",
    "\n",
    "# Example usage\n",
    "# s = Solution()\n",
    "# test(s)\n"
   ]
  },
  {
   "cell_type": "code",
   "execution_count": 19,
   "metadata": {},
   "outputs": [
    {
     "name": "stdout",
     "output_type": "stream",
     "text": [
      "Succeed\n"
     ]
    }
   ],
   "source": [
    "'''\n",
    "    Think of the process when we transfer from n-1 to n\n",
    "    Let's denote that the added parenthesis is on the left.\n",
    "\n",
    "    then the final answer is\n",
    "    ( + dp(p) + ) + dp(q)  where p+n = n-1\n",
    "'''\n",
    "class Solution:\n",
    "    def generateParenthesis(self, n: int) -> List[str]:\n",
    "        if n == 0:\n",
    "            return ['']\n",
    "        res = []\n",
    "\n",
    "        for p in range(n):\n",
    "            for p_ in self.generateParenthesis(p):\n",
    "                for q_ in self.generateParenthesis(n-1-p):\n",
    "                    res.append(\"(\"+ p_ + \")\" + q_)\n",
    "\n",
    "        return res\n",
    "\n",
    "\n",
    "test(Solution())"
   ]
  },
  {
   "cell_type": "code",
   "execution_count": 14,
   "metadata": {},
   "outputs": [
    {
     "name": "stdout",
     "output_type": "stream",
     "text": [
      "0\n"
     ]
    }
   ],
   "source": []
  },
  {
   "cell_type": "code",
   "execution_count": null,
   "metadata": {},
   "outputs": [],
   "source": []
  }
 ],
 "metadata": {
  "kernelspec": {
   "display_name": "Python 3",
   "language": "python",
   "name": "python3"
  },
  "language_info": {
   "codemirror_mode": {
    "name": "ipython",
    "version": 3
   },
   "file_extension": ".py",
   "mimetype": "text/x-python",
   "name": "python",
   "nbconvert_exporter": "python",
   "pygments_lexer": "ipython3",
   "version": "3.10.11"
  }
 },
 "nbformat": 4,
 "nbformat_minor": 2
}
