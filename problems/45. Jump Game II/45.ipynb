{
 "cells": [
  {
   "cell_type": "markdown",
   "metadata": {},
   "source": [
    "# Jump Game II\n",
    "\n",
    "**Problem**:\n",
    "Given a 0-indexed array of integers `nums` of length `n`, where you start at `nums[0]`, each element `nums[i]` represents the maximum length of a forward jump from index `i`. Find the minimum number of jumps required to reach `nums[n - 1]`. It's guaranteed that you can reach `nums[n - 1]`.\n",
    "\n",
    "**Examples**:\n",
    "\n",
    "1. **Input**:\n",
    "   `nums = [2,3,1,1,4]`\n",
    "   \n",
    "   **Output**: `2`\n",
    "   \n",
    "   **Explanation**:\n",
    "   The minimum number of jumps to reach the last index is 2. Jump 1 step from index 0 to 1, then 3 steps to the last index.\n",
    "\n",
    "2. **Input**:\n",
    "   `nums = [2,3,0,1,4]`\n",
    "   \n",
    "   **Output**: `2`\n",
    "   \n",
    "   **Explanation**:\n",
    "   The minimum number of jumps to reach the last index is 2. Jump 1 step from index 0 to 1, then 3 steps to the last index.\n",
    "\n",
    "**Constraints**:\n",
    "- `1 <= nums.length <= 10^4`\n",
    "- `0 <= nums[i] <= 1000`\n",
    "- It is guaranteed that you can reach `nums[n - 1]`.\n"
   ]
  },
  {
   "cell_type": "code",
   "execution_count": 2,
   "metadata": {},
   "outputs": [],
   "source": [
    "from typing import List\n",
    "def test(s):\n",
    "    test_cases = [\n",
    "        ([2,3,1,1,4], 2),\n",
    "        ([2,3,0,1,4], 2)\n",
    "    ]\n",
    "    for i, (nums, expected) in enumerate(test_cases):\n",
    "        assert s.jump(nums) == expected, f\"wrong answer at test case {i + 1}: nums = {nums}\"\n",
    "    print(\"Succeed\")\n",
    "\n",
    "# Example usage\n",
    "# s = Solution()\n",
    "# test(s)\n"
   ]
  },
  {
   "cell_type": "code",
   "execution_count": 11,
   "metadata": {},
   "outputs": [
    {
     "name": "stdout",
     "output_type": "stream",
     "text": [
      "Succeed\n"
     ]
    }
   ],
   "source": [
    "'''\n",
    "    This is simple recursion.\n",
    "    This works but exceeds time limit.\n",
    "\n",
    "    O(2^n)\n",
    "'''\n",
    "\n",
    "class Solution:\n",
    "    def jump(self, nums: List[int]) -> int:\n",
    "        def foo(nums, p):\n",
    "            if p == 0:\n",
    "                return 0\n",
    "            ans = []\n",
    "            for i in range(p):\n",
    "                if nums[i] >= p-i:\n",
    "                    ans.append(foo(nums, i)+1)\n",
    "            return min(ans)\n",
    "\n",
    "        return foo(nums, len(nums)-1)\n",
    "\n",
    "\n",
    "test(Solution())"
   ]
  },
  {
   "cell_type": "code",
   "execution_count": 33,
   "metadata": {},
   "outputs": [
    {
     "name": "stdout",
     "output_type": "stream",
     "text": [
      "Succeed\n"
     ]
    }
   ],
   "source": [
    "'''\n",
    "    memo trick using hash map.\n",
    "\n",
    "    O(n^2)\n",
    "'''\n",
    "\n",
    "class Solution:\n",
    "    def jump(self, nums: List[int]) -> int:\n",
    "        h = {}\n",
    "        def foo(nums, p):\n",
    "            ans = []\n",
    "            if p == 0:\n",
    "                return 0\n",
    "            for i in range(p):\n",
    "                if nums[i] >= p-i:\n",
    "                    if i in h:\n",
    "                        ans.append(h[i]+1)\n",
    "                    else:\n",
    "                        cur = foo(nums, i)+1\n",
    "                        h[i] = cur\n",
    "                        ans.append(cur)\n",
    "\n",
    "            return min(ans)\n",
    "\n",
    "        return foo(nums, len(nums)-1)\n",
    "\n",
    "\n",
    "test(Solution())\n"
   ]
  },
  {
   "cell_type": "code",
   "execution_count": 38,
   "metadata": {},
   "outputs": [
    {
     "name": "stdout",
     "output_type": "stream",
     "text": [
      "Succeed\n"
     ]
    }
   ],
   "source": [
    "'''\n",
    "    greedy\n",
    "'''\n",
    "\n",
    "class Solution:\n",
    "    def jump(self, nums: List[int]) -> int:\n",
    "        n = len(nums)\n",
    "        end = 0\n",
    "        jumps = 0\n",
    "        farthest = 0\n",
    "\n",
    "        for i in range(n-1):\n",
    "            farthest = max(farthest, i+nums[i])\n",
    "\n",
    "            if i == end:\n",
    "                jumps += 1\n",
    "                end = farthest\n",
    "\n",
    "        return jumps\n",
    "\n",
    "\n",
    "test(Solution())"
   ]
  },
  {
   "cell_type": "code",
   "execution_count": null,
   "metadata": {},
   "outputs": [],
   "source": []
  }
 ],
 "metadata": {
  "kernelspec": {
   "display_name": "Python 3",
   "language": "python",
   "name": "python3"
  },
  "language_info": {
   "codemirror_mode": {
    "name": "ipython",
    "version": 3
   },
   "file_extension": ".py",
   "mimetype": "text/x-python",
   "name": "python",
   "nbconvert_exporter": "python",
   "pygments_lexer": "ipython3",
   "version": "3.10.11"
  }
 },
 "nbformat": 4,
 "nbformat_minor": 2
}
