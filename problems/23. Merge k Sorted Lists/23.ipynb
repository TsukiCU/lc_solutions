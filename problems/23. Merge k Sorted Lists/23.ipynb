{
 "cells": [
  {
   "cell_type": "markdown",
   "metadata": {},
   "source": [
    "# Merge k Sorted Lists\n",
    "\n",
    "**Problem**:\n",
    "Given `k` sorted linked lists, merge them into one sorted linked list.\n",
    "\n",
    "**Examples**:\n",
    "\n",
    "1. **Input**: `lists = [[1,4,5],[1,3,4],[2,6]]`\n",
    "   **Output**: `[1,1,2,3,4,4,5,6]`\n",
    "   **Explanation**: The linked-lists are:\n",
    "   - `1 -> 4 -> 5`\n",
    "   - `1 -> 3 -> 4`\n",
    "   - `2 -> 6`\n",
    "   \n",
    "   After merging them into one sorted list:\n",
    "   `1 -> 1 -> 2 -> 3 -> 4 -> 4 -> 5 -> 6`\n",
    "\n",
    "2. **Input**: `lists = []`\n",
    "   **Output**: `[]`\n",
    "   **Explanation**: No linked-lists are given, hence the result is an empty list.\n",
    "\n",
    "3. **Input**: `lists = [[]]`\n",
    "   **Output**: `[]`\n",
    "   **Explanation**: A list containing an empty list results in an empty list.\n",
    "\n",
    "**Constraints**:\n",
    "- `k == lists.length`\n",
    "- `0 <= k <= 10^4`\n",
    "- `0 <= lists[i].length <= 500`\n",
    "- `-10^4 <= lists[i][j] <= 10^4`\n",
    "- `lists[i]` is sorted in ascending order.\n",
    "- The sum of `lists[i].length` will not exceed `10^4`.\n"
   ]
  },
  {
   "cell_type": "code",
   "execution_count": 1,
   "metadata": {},
   "outputs": [
    {
     "name": "stdout",
     "output_type": "stream",
     "text": [
      "https://leetcode.cn/problems/merge-k-sorted-lists/description/\n"
     ]
    }
   ],
   "source": []
  },
  {
   "cell_type": "markdown",
   "metadata": {},
   "source": []
  }
 ],
 "metadata": {
  "kernelspec": {
   "display_name": "Python 3",
   "language": "python",
   "name": "python3"
  },
  "language_info": {
   "codemirror_mode": {
    "name": "ipython",
    "version": 3
   },
   "file_extension": ".py",
   "mimetype": "text/x-python",
   "name": "python",
   "nbconvert_exporter": "python",
   "pygments_lexer": "ipython3",
   "version": "3.10.11"
  }
 },
 "nbformat": 4,
 "nbformat_minor": 2
}
