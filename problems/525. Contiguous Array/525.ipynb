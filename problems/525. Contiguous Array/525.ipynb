{
 "cells": [
  {
   "cell_type": "markdown",
   "metadata": {},
   "source": [
    "# Contiguous Array\n",
    "\n",
    "**Problem**:\n",
    "Given a binary array `nums`, find the maximum length of a contiguous subarray that contains an equal number of 0s and 1s.\n",
    "\n",
    "**Examples**:\n",
    "\n",
    "1. **Input**:\n",
    "   `nums = [0,1]`\n",
    "   \n",
    "   **Output**: `2`\n",
    "   \n",
    "   **Explanation**:\n",
    "   [0, 1] is the longest contiguous subarray with an equal number of 0 and 1.\n",
    "\n",
    "2. **Input**:\n",
    "   `nums = [0,1,0]`\n",
    "   \n",
    "   **Output**: `2`\n",
    "   \n",
    "   **Explanation**:\n",
    "   [0, 1] or [1, 0] are the longest contiguous subarrays with equal numbers of 0 and 1.\n",
    "\n",
    "**Constraints**:\n",
    "- `1 <= nums.length <= 10^5`\n",
    "- `nums[i]` is either 0 or 1.\n"
   ]
  },
  {
   "cell_type": "code",
   "execution_count": 23,
   "metadata": {},
   "outputs": [],
   "source": [
    "from typing import List\n",
    "def test(s):\n",
    "    test_cases = [[0, 1], [0, 1, 0]]\n",
    "    ref = [2, 2]\n",
    "    for i, (nums, expected) in enumerate(zip(test_cases, ref)):\n",
    "        assert s.findMaxLength(nums) == expected, f\"wrong answer at test case {i + 1}: nums = {nums}\"\n",
    "    print(\"Succeed\")\n",
    "\n",
    "# Example usage\n",
    "# s = Solution()\n",
    "# test(s)\n"
   ]
  },
  {
   "cell_type": "code",
   "execution_count": 39,
   "metadata": {},
   "outputs": [
    {
     "name": "stdout",
     "output_type": "stream",
     "text": [
      "Succeed\n"
     ]
    }
   ],
   "source": [
    "'''\n",
    "    treat 0 as -1!!! and turn this into \"The longest subarray with a sum of 0\"!\n",
    "    How clever is that.\n",
    "\n",
    "    Apparently prefix sum can be really useful. \"h[sum] = i\" we are storing the\n",
    "    index of the current element.\n",
    "'''\n",
    "\n",
    "class Solution:\n",
    "    def findMaxLength(self, nums: List[int]) -> int:\n",
    "        nums = [-1 if n == 0 else 1 for n in nums]\n",
    "        h = {0:-1}\n",
    "        sum = 0\n",
    "        max = 0\n",
    "        cur = 0\n",
    "        k = 0\n",
    "\n",
    "        for i, n in enumerate(nums):\n",
    "            sum += n\n",
    "            if sum - k in h:\n",
    "                cur = i - h[sum-k]\n",
    "                if cur > max:\n",
    "                    max = cur\n",
    "                continue\n",
    "            h[sum] = i\n",
    "        return max\n",
    "\n",
    "test(Solution())"
   ]
  },
  {
   "cell_type": "code",
   "execution_count": null,
   "metadata": {},
   "outputs": [],
   "source": []
  }
 ],
 "metadata": {
  "kernelspec": {
   "display_name": "Python 3",
   "language": "python",
   "name": "python3"
  },
  "language_info": {
   "codemirror_mode": {
    "name": "ipython",
    "version": 3
   },
   "file_extension": ".py",
   "mimetype": "text/x-python",
   "name": "python",
   "nbconvert_exporter": "python",
   "pygments_lexer": "ipython3",
   "version": "3.10.11"
  }
 },
 "nbformat": 4,
 "nbformat_minor": 2
}
