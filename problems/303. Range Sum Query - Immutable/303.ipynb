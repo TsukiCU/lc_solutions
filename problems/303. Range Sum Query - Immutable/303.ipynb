{
 "cells": [
  {
   "cell_type": "markdown",
   "metadata": {},
   "source": [
    "# Range Sum Query - Immutable\n",
    "\n",
    "**Problem**:\n",
    "Implement a class `NumArray` to handle multiple queries for calculating the sum of elements in an integer array `nums` between given indices.\n",
    "\n",
    "**Class Methods**:\n",
    "- `NumArray(int[] nums)`: Initializes the object with the integer array `nums`.\n",
    "- `int sumRange(int left, int right)`: Returns the sum of the elements of `nums` between indices `left` and `right` inclusive.\n",
    "\n",
    "**Examples**:\n",
    "\n",
    "1. **Input**:\n",
    "   `[\"NumArray\", \"sumRange\", \"sumRange\", \"sumRange\"]`\n",
    "   `[[[-2, 0, 3, -5, 2, -1]], [0, 2], [2, 5], [0, 5]]`\n",
    "   \n",
    "   **Output**: `[null, 1, -1, -3]`\n",
    "   \n",
    "   **Explanation**:\n",
    "   - `NumArray numArray = new NumArray([-2, 0, 3, -5, 2, -1]);`\n",
    "   - `numArray.sumRange(0, 2);` returns `1` (`-2 + 0 + 3`).\n",
    "   - `numArray.sumRange(2, 5);` returns `-1` (`3 + (-5) + 2 + (-1)`).\n",
    "   - `numArray.sumRange(0, 5);` returns `-3` (`-2 + 0 + 3 + (-5) + 2 + (-1)`).\n",
    "\n",
    "**Constraints**:\n",
    "- `1 <= nums.length <= 10^4`\n",
    "- `-10^5 <= nums[i] <= 10^5`\n",
    "- `0 <= left <= right < nums.length`\n",
    "- At most `10^4` calls will be made to `sumRange`.\n"
   ]
  },
  {
   "cell_type": "code",
   "execution_count": 9,
   "metadata": {},
   "outputs": [],
   "source": [
    "from typing import List\n",
    "def test():\n",
    "    numArray = NumArray([-2, 0, 3, -5, 2, -1])\n",
    "    assert numArray.sumRange(0, 2) == 1, \"Test case 1 failed\"\n",
    "    assert numArray.sumRange(2, 5) == -1, \"Test case 2 failed\"\n",
    "    assert numArray.sumRange(0, 5) == -3, \"Test case 3 failed\"\n",
    "    print(\"All test cases passed\")\n",
    "\n",
    "# Example usage\n",
    "# test()\n"
   ]
  },
  {
   "cell_type": "code",
   "execution_count": 14,
   "metadata": {},
   "outputs": [
    {
     "name": "stdout",
     "output_type": "stream",
     "text": [
      "All test cases passed\n"
     ]
    }
   ],
   "source": [
    "'''\n",
    "    This is the very basic use of prefix sum array.\n",
    "    Remember to put prefix_sum array in __init__!\n",
    "'''\n",
    "\n",
    "class NumArray:\n",
    "    def __init__(self, nums: List[int]):\n",
    "        n = len(self.nums)\n",
    "        self.nums = nums\n",
    "        self.prefix_sum = [0] * (n+1)\n",
    "        for i in range(1, n+1):\n",
    "            self.prefix_sum[i] = self.prefix_sum[i-1] + self.nums[i-1]\n",
    "\n",
    "    def sumRange(self, left: int, right: int) -> int:\n",
    "        return self.prefix_sum[right+1] - self.prefix_sum[left]\n",
    "\n",
    "\n",
    "test()"
   ]
  },
  {
   "cell_type": "code",
   "execution_count": null,
   "metadata": {},
   "outputs": [],
   "source": []
  }
 ],
 "metadata": {
  "kernelspec": {
   "display_name": "Python 3",
   "language": "python",
   "name": "python3"
  },
  "language_info": {
   "codemirror_mode": {
    "name": "ipython",
    "version": 3
   },
   "file_extension": ".py",
   "mimetype": "text/x-python",
   "name": "python",
   "nbconvert_exporter": "python",
   "pygments_lexer": "ipython3",
   "version": "3.10.11"
  }
 },
 "nbformat": 4,
 "nbformat_minor": 2
}
