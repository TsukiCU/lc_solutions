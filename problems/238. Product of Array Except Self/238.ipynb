{
 "cells": [
  {
   "cell_type": "markdown",
   "metadata": {},
   "source": [
    "# Product of Array Except Self\n",
    "\n",
    "**Problem**:\n",
    "Given an integer array `nums`, return an array `answer` where `answer[i]` is equal to the product of all the elements of `nums` except `nums[i]`.\n",
    "\n",
    "The algorithm should run in O(n) time and must not use the division operation. The product of any prefix or suffix of `nums` is guaranteed to fit in a 32-bit integer.\n",
    "\n",
    "**Examples**:\n",
    "\n",
    "1. **Input**:\n",
    "   `nums = [1,2,3,4]`\n",
    "   \n",
    "   **Output**: `[24,12,8,6]`\n",
    "   \n",
    "   **Explanation**:\n",
    "   For each index `i`, `answer[i]` is the product of all elements in `nums` except `nums[i]`.\n",
    "\n",
    "2. **Input**:\n",
    "   `nums = [-1,1,0,-3,3]`\n",
    "   \n",
    "   **Output**: `[0,0,9,0,0]`\n",
    "   \n",
    "   **Explanation**:\n",
    "   Zeroes in the input array result in zeroes in specific positions in the output array.\n",
    "\n",
    "**Constraints**:\n",
    "- `2 <= nums.length <= 10^5`\n",
    "- `-30 <= nums[i] <= 30`\n",
    "- The product of any prefix or suffix of `nums` fits in a 32-bit integer.\n",
    "\n",
    "### **Follow up**\n",
    "Can you solve the problem with O(1) extra space complexity? (The output array does not count as extra space for space complexity analysis.)\n"
   ]
  },
  {
   "cell_type": "code",
   "execution_count": 2,
   "metadata": {},
   "outputs": [],
   "source": [
    "from typing import List\n",
    "def test(s):\n",
    "    test_cases = [\n",
    "        ([1,2,3,4], [24,12,8,6]),\n",
    "        ([-1,1,0,-3,3], [0,0,9,0,0])\n",
    "    ]\n",
    "    for i, (nums, expected) in enumerate(test_cases):\n",
    "        assert s.productExceptSelf(nums) == expected, f\"wrong answer at test case {i + 1}: nums = {nums}\"\n",
    "    print(\"Succeed\")\n",
    "\n",
    "# Example usage\n",
    "# s = Solution()\n",
    "# test(s)\n"
   ]
  },
  {
   "cell_type": "code",
   "execution_count": 17,
   "metadata": {},
   "outputs": [
    {
     "name": "stdout",
     "output_type": "stream",
     "text": [
      "Succeed\n"
     ]
    }
   ],
   "source": [
    "'''\n",
    "    Note: No division!\n",
    "\n",
    "    for each element during traversing, use prefix_pro to find the product of all its previous numbers,\n",
    "    and use suffix_pro to find the product of all the numbers behind it.\n",
    "'''\n",
    "\n",
    "class Solution1:\n",
    "    def productExceptSelf(self, nums: List[int]) -> List[int]:\n",
    "        n = len(nums)\n",
    "        prefix_dot = [1] * (n+1)\n",
    "        suffix_dot = [1] * (n+1)\n",
    "        for i in range(1, n+1):\n",
    "            prefix_dot[i] = prefix_dot[i-1] * nums[i-1]\n",
    "        for i in range(n-1, -1, -1):\n",
    "            suffix_dot[i] = nums[i] * suffix_dot[i+1]\n",
    "        ans = [1] * n\n",
    "\n",
    "        for i in range(n):\n",
    "            ans[i] *= prefix_dot[i] * suffix_dot[i+1]\n",
    "\n",
    "        return ans\n",
    "\n",
    "\n",
    "test(Solution1())"
   ]
  },
  {
   "cell_type": "code",
   "execution_count": 10,
   "metadata": {},
   "outputs": [
    {
     "data": {
      "text/plain": [
       "([1, 1, 2, 6, 24], [24, 24, 12, 4, 1])"
      ]
     },
     "execution_count": 10,
     "metadata": {},
     "output_type": "execute_result"
    }
   ],
   "source": [
    "'''\n",
    "    There's this O(1) space complexity algorithm.\n",
    "'''\n",
    "\n",
    "class Solution2:\n",
    "    def productExceptSelf(self, nums: List[int]) -> List[int]:"
   ]
  },
  {
   "cell_type": "code",
   "execution_count": null,
   "metadata": {},
   "outputs": [],
   "source": []
  }
 ],
 "metadata": {
  "kernelspec": {
   "display_name": "Python 3",
   "language": "python",
   "name": "python3"
  },
  "language_info": {
   "codemirror_mode": {
    "name": "ipython",
    "version": 3
   },
   "file_extension": ".py",
   "mimetype": "text/x-python",
   "name": "python",
   "nbconvert_exporter": "python",
   "pygments_lexer": "ipython3",
   "version": "3.10.11"
  }
 },
 "nbformat": 4,
 "nbformat_minor": 2
}
