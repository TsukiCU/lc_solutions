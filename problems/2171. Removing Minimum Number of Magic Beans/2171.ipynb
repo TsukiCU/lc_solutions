{
 "cells": [
  {
   "cell_type": "markdown",
   "metadata": {},
   "source": [
    "# Removing Minimum Number of Magic Beans\n",
    "\n",
    "**Problem**:\n",
    "Given an array `beans` of positive integers, where each integer represents the number of magic beans in a magic bag, the task is to remove beans from each bag such that all remaining non-empty bags have an equal number of beans. You cannot return beans to any bag once removed. Find the minimum number of magic beans that you need to remove to achieve this.\n",
    "\n",
    "**Examples**:\n",
    "\n",
    "1. **Input**:\n",
    "   `beans = [4,1,6,5]`\n",
    "   \n",
    "   **Output**: `4`\n",
    "   \n",
    "   **Explanation**:\n",
    "   Remove beans to result in bags with [4,0,4,4]. A total of 1 + 2 + 1 = 4 beans are removed.\n",
    "\n",
    "2. **Input**:\n",
    "   `beans = [2,10,3,2]`\n",
    "   \n",
    "   **Output**: `7`\n",
    "   \n",
    "   **Explanation**:\n",
    "   Remove beans to result in bags with [0,10,0,0]. A total of 2 + 2 + 3 = 7 beans are removed.\n",
    "\n",
    "**Constraints**:\n",
    "- `1 <= beans.length <= 10^5`\n",
    "- `1 <= beans[i] <= 10^5`\n"
   ]
  },
  {
   "cell_type": "code",
   "execution_count": 3,
   "metadata": {},
   "outputs": [],
   "source": [
    "from typing import List\n",
    "def test(s):\n",
    "    test_cases = [[4,1,6,5], [2,10,3,2]]\n",
    "    ref = [4, 7]\n",
    "    for i, (beans, expected) in enumerate(zip(test_cases, ref)):\n",
    "        assert s.minimumRemoval(beans) == expected, f\"wrong answer at test case {i + 1}: beans = {beans}\"\n",
    "    print(\"Succeed\")\n",
    "\n",
    "# Example usage\n",
    "# s = Solution()\n",
    "# test(s)"
   ]
  },
  {
   "cell_type": "code",
   "execution_count": 7,
   "metadata": {},
   "outputs": [
    {
     "name": "stdout",
     "output_type": "stream",
     "text": [
      "Succeed\n"
     ]
    }
   ],
   "source": [
    "'''\n",
    "    Have to say that this comes to my mind at first glance but it's\n",
    "    O(N^2) in time complexity so unfortunately fails the time limits.\n",
    "'''\n",
    "\n",
    "class Solution1:\n",
    "    def minimumRemoval(self, beans: List[int]) -> int:\n",
    "        def calc(num):\n",
    "            res = 0\n",
    "            for i in range(1, len(num)):\n",
    "                res += num[i] - num[0]\n",
    "            return res\n",
    "        beans.sort()\n",
    "        min_list = []\n",
    "        sum = 0\n",
    "        for i in range(len(beans)):\n",
    "            min_list.append(calc(beans[i:])+sum)\n",
    "            sum += beans[i]\n",
    "\n",
    "        return min(min_list)\n",
    "\n",
    "test(Solution1())"
   ]
  },
  {
   "cell_type": "code",
   "execution_count": 16,
   "metadata": {},
   "outputs": [
    {
     "name": "stdout",
     "output_type": "stream",
     "text": [
      "Succeed\n"
     ]
    }
   ],
   "source": [
    "'''\n",
    "    Prefix sum. Time complexity is O(N)\n",
    "\n",
    "    Instead of thinking what to remove, think what to keep.\n",
    "'''\n",
    "\n",
    "class Solution2:\n",
    "    def minimumRemoval(self, beans: List[int]) -> int:\n",
    "        beans.sort()\n",
    "        n = len(beans)\n",
    "        ans = float(\"inf\")\n",
    "        prefix_sum = [0] * (n+1)\n",
    "\n",
    "        for i in range(1, n+1):\n",
    "            prefix_sum[i] = beans[i-1] + prefix_sum[i-1]\n",
    "\n",
    "        for i in range(n):\n",
    "            tmp = prefix_sum[n] - (n-i)*beans[i]\n",
    "            '''\n",
    "                I learned a lot..\n",
    "                for every i when we iterate beans[], tmp is actually consisted of three parts:\n",
    "                (1). The sum of the past elements(which can be handled directly using prefix_sum[])\n",
    "                (2). Itself.\n",
    "                (3). The number of beans need to be taken if we want to make the following elements the same as beans[i],\n",
    "                     This can be handled using prefix_sum[] indirectly(which is smart) as : sum of the rest - (n-i-1)*beans[i]\n",
    "\n",
    "                So if we decompose this expression it's actually like this:\n",
    "                tmp = prefix_sum[i]\n",
    "                tmp += beans[i]\n",
    "                tmp += (prefix_sum[i] - prefix_sum[i+1]) - (n-i-1)*beans[i]\n",
    "            '''\n",
    "            ans = min(ans, tmp)\n",
    "\n",
    "        return ans\n",
    "\n",
    "\n",
    "test(Solution2())"
   ]
  },
  {
   "cell_type": "code",
   "execution_count": null,
   "metadata": {},
   "outputs": [],
   "source": []
  },
  {
   "cell_type": "code",
   "execution_count": null,
   "metadata": {},
   "outputs": [],
   "source": []
  }
 ],
 "metadata": {
  "kernelspec": {
   "display_name": "Python 3",
   "language": "python",
   "name": "python3"
  },
  "language_info": {
   "codemirror_mode": {
    "name": "ipython",
    "version": 3
   },
   "file_extension": ".py",
   "mimetype": "text/x-python",
   "name": "python",
   "nbconvert_exporter": "python",
   "pygments_lexer": "ipython3",
   "version": "0.0.0"
  }
 },
 "nbformat": 4,
 "nbformat_minor": 2
}
