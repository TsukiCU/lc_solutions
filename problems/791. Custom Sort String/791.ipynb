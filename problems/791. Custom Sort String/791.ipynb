{
 "cells": [
  {
   "cell_type": "markdown",
   "metadata": {},
   "source": [
    "## Custom Sort String\n",
    "\n",
    "You are given two strings order and s. All the characters of order are unique and were sorted in some custom order previously.\n",
    "\n",
    "Permute the characters of s so that they match the order that order was sorted. More specifically, if a character x occurs before a character y in order, then x should occur before y in the permuted string.\n",
    "\n",
    "Return any permutation of s that satisfies this property.\n",
    "\n",
    " \n",
    "\n",
    "### Example 1\n",
    "\n",
    "+ Input: order = \"cba\", s = \"abcd\"\n",
    "+ Output: \"cbad\"\n",
    "\n",
    "\n",
    "**Explanation** \n",
    "\"a\", \"b\", \"c\" appear in order, so the order of \"a\", \"b\", \"c\" should be \"c\", \"b\", and \"a\". \n",
    "Since \"d\" does not appear in order, it can be at any position in the returned string. \"dcba\", \"cdba\", \"cbda\" are also valid outputs.\n",
    "Example 2:\n",
    "\n",
    "+ Input: order = \"cbafg\", s = \"abcd\"\n",
    "+ Output: \"cbad\""
   ]
  },
  {
   "cell_type": "markdown",
   "metadata": {},
   "source": []
  },
  {
   "cell_type": "code",
   "execution_count": 10,
   "metadata": {},
   "outputs": [
    {
     "name": "stdout",
     "output_type": "stream",
     "text": [
      "{'c': 0, 'b': 1, 'a': 2}\n"
     ]
    },
    {
     "data": {
      "text/plain": [
       "'cbad'"
      ]
     },
     "execution_count": 10,
     "metadata": {},
     "output_type": "execute_result"
    }
   ],
   "source": [
    "# This quetion is very similar to question 75. Even if there's elements that are not in\n",
    "# s, this method still works fine, because that's already considered in my_sort()\n",
    "\n",
    "class Solution:\n",
    "    def customSortString(self, order: str, s: str) -> str:\n",
    "        rank = {x : i for i, x in enumerate(order)}\n",
    "        char_list = list(s)\n",
    "        def my_sort(x):\n",
    "            return (0, rank[x]) if x in order else (1, x)\n",
    "        char_list.sort(key=my_sort)\n",
    "        return ''.join(char_list)\n",
    "\n",
    "s1 = Solution()\n",
    "order = \"cba\"\n",
    "s = \"abcd\"\n",
    "s1.customSortString(order, s)"
   ]
  },
  {
   "cell_type": "code",
   "execution_count": 3,
   "metadata": {},
   "outputs": [
    {
     "data": {
      "text/plain": [
       "{0: 'a', 1: 'b', 2: 'c', 3: 'd'}"
      ]
     },
     "execution_count": 3,
     "metadata": {},
     "output_type": "execute_result"
    }
   ],
   "source": []
  },
  {
   "cell_type": "code",
   "execution_count": null,
   "metadata": {},
   "outputs": [],
   "source": []
  }
 ],
 "metadata": {
  "kernelspec": {
   "display_name": "Python 3",
   "language": "python",
   "name": "python3"
  },
  "language_info": {
   "codemirror_mode": {
    "name": "ipython",
    "version": 3
   },
   "file_extension": ".py",
   "mimetype": "text/x-python",
   "name": "python",
   "nbconvert_exporter": "python",
   "pygments_lexer": "ipython3",
   "version": "3.10.11"
  }
 },
 "nbformat": 4,
 "nbformat_minor": 2
}
