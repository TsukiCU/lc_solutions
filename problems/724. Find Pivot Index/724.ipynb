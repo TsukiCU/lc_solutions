{
 "cells": [
  {
   "cell_type": "markdown",
   "metadata": {},
   "source": [
    "# Find Pivot Index\n",
    "\n",
    "**Problem**:\n",
    "Given an array of integers `nums`, the task is to calculate the pivot index of this array. The pivot index is defined as the index where the sum of all numbers to the left of the index is equal to the sum of all numbers to the index's right. If no such index exists, return -1. The leftmost pivot index should be returned.\n",
    "\n",
    "**Examples**:\n",
    "\n",
    "1. **Input**:\n",
    "   `nums = [1,7,3,6,5,6]`\n",
    "   \n",
    "   **Output**: `3`\n",
    "   \n",
    "   **Explanation**:\n",
    "   The pivot index is 3. Left sum = 1 + 7 + 3 = 11, and right sum = 5 + 6 = 11.\n",
    "\n",
    "2. **Input**:\n",
    "   `nums = [1,2,3]`\n",
    "   \n",
    "   **Output**: `-1`\n",
    "   \n",
    "   **Explanation**:\n",
    "   There is no index that satisfies the conditions.\n",
    "\n",
    "3. **Input**:\n",
    "   `nums = [2,1,-1]`\n",
    "   \n",
    "   **Output**: `0`\n",
    "   \n",
    "   **Explanation**:\n",
    "   The pivot index is 0. Left sum = 0, and right sum = 1 + (-1) = 0.\n",
    "\n",
    "**Constraints**:\n",
    "- `1 <= nums.length <= 10^4`\n",
    "- `-1000 <= nums[i] <= 1000`\n"
   ]
  },
  {
   "cell_type": "code",
   "execution_count": 3,
   "metadata": {},
   "outputs": [],
   "source": [
    "from typing import List\n",
    "def test(s):\n",
    "    test_cases = [[1,7,3,6,5,6], [1,2,3], [2,1,-1]]\n",
    "    ref = [3, -1, 0]\n",
    "    for i, (nums, expected) in enumerate(zip(test_cases, ref)):\n",
    "        assert s.pivotIndex(nums) == expected, f\"wrong answer at test case {i + 1}: nums = {nums}\"\n",
    "    print(\"Succeed\")\n",
    "\n",
    "# Example usage\n",
    "# s = Solution()\n",
    "# test(s)"
   ]
  },
  {
   "cell_type": "code",
   "execution_count": 4,
   "metadata": {},
   "outputs": [
    {
     "name": "stdout",
     "output_type": "stream",
     "text": [
      "Succeed\n"
     ]
    }
   ],
   "source": [
    "'''\n",
    "    Prefix Sum. Trade off between space complexity and time complexity.\n",
    "'''\n",
    "\n",
    "class Solution1:\n",
    "    def pivotIndex(self, nums: List[int]) -> int:\n",
    "        n = len(nums)\n",
    "        ans = -1\n",
    "        prefix_sum = [0]*(n+1)\n",
    "        for i in range(1, n+1):\n",
    "            prefix_sum[i] = nums[i-1] + prefix_sum[i-1]\n",
    "        for i in range(n):\n",
    "            if prefix_sum[i] == prefix_sum[n] - prefix_sum[i+1]:\n",
    "                ans = i\n",
    "                break\n",
    "\n",
    "        return ans\n",
    "\n",
    "test(Solution1())"
   ]
  },
  {
   "cell_type": "code",
   "execution_count": 19,
   "metadata": {},
   "outputs": [
    {
     "name": "stdout",
     "output_type": "stream",
     "text": [
      "Succeed\n"
     ]
    }
   ],
   "source": [
    "'''\n",
    "    Revised version.\n",
    "    Idea: Don't need the prefix_sum array.\n",
    "\n",
    "    Performance: This should have lower space complexity and the same time complexity.\n",
    "    However, after multiple tests, it appears that this is slightly slower, which is right,\n",
    "    because there are two subtraction operations in Solution2 and only 1 in Solution1,\n",
    "    and pretty much the same space complexity. Alright.....\n",
    "'''\n",
    "class Solution2:\n",
    "    def pivotIndex(self, nums: List[int]) -> int:\n",
    "        n_sum = sum(nums)\n",
    "        ans = -1\n",
    "        cur_sum = 0\n",
    "        for i in range(len(nums)):\n",
    "            if cur_sum == n_sum - cur_sum - nums[i]:\n",
    "                ans = i\n",
    "                break\n",
    "            cur_sum += nums[i]\n",
    "        return ans\n",
    "\n",
    "test(Solution2())"
   ]
  },
  {
   "cell_type": "code",
   "execution_count": null,
   "metadata": {},
   "outputs": [],
   "source": []
  }
 ],
 "metadata": {
  "kernelspec": {
   "display_name": "Python 3",
   "language": "python",
   "name": "python3"
  },
  "language_info": {
   "codemirror_mode": {
    "name": "ipython",
    "version": 3
   },
   "file_extension": ".py",
   "mimetype": "text/x-python",
   "name": "python",
   "nbconvert_exporter": "python",
   "pygments_lexer": "ipython3",
   "version": "3.10.11"
  }
 },
 "nbformat": 4,
 "nbformat_minor": 2
}
