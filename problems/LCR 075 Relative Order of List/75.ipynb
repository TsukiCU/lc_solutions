{
 "cells": [
  {
   "cell_type": "markdown",
   "metadata": {},
   "source": [
    "## 75 Relative Order of List\n",
    "\n",
    "Given two arrays, arr1 and arr2.\n",
    "\n",
    "+ The elements in arr2 are different from each other.\n",
    "+ Every element in arr2 appears in arr1.\n",
    "\n",
    "Sort the elements of arr1 so that the **relative order** of the items in arr1 is the same as the relative order of the items in arr2. \n",
    "\n",
    "Elements that do not appear in arr2 are placed at the end of arr1 in **ascending order**.\n",
    "\n",
    "Examples:\n",
    "+ arr1: [2,3,1,3,2,4,6,7,9,2,19]\n",
    "+ arr2: [2,1,4,3,9,6]\n",
    "\n",
    "+ output: `[2, 2, 2, 1, 4, 3, 3, 9, 6, 7, 19]`\n"
   ]
  },
  {
   "cell_type": "code",
   "execution_count": 12,
   "metadata": {},
   "outputs": [],
   "source": [
    "from typing import List"
   ]
  },
  {
   "cell_type": "code",
   "execution_count": 14,
   "metadata": {},
   "outputs": [],
   "source": [
    "class Solution1:\n",
    "    # counting sort\n",
    "    def relativeSortArray(self, arr1: List[int], arr2: List[int]) -> List[int]:\n",
    "        max_val = max(arr1)\n",
    "        ans = []\n",
    "        count_arr = [0] * (max_val + 1)\n",
    "        for num in arr1:\n",
    "            count_arr[num] += 1\n",
    "        for num in arr2:\n",
    "            ans.extend([num] * count_arr[num])\n",
    "            count_arr[num] = 0\n",
    "        for i in range(max_val+1):\n",
    "            if count_arr[i] > 0:\n",
    "                ans.extend([i] * count_arr[i])\n",
    "        return ans\n",
    "\n",
    "\n",
    "arr1 = [2,3,1,3,2,4,6,7,9,2,19]\n",
    "arr2 = [2,1,4,3,9,6]\n",
    "s = Solution1()\n",
    "s.relativeSortArray(arr1, arr2)"
   ]
  },
  {
   "cell_type": "code",
   "execution_count": 19,
   "metadata": {},
   "outputs": [
    {
     "data": {
      "text/plain": [
       "[2, 2, 2, 1, 4, 3, 3, 9, 6, 7, 19]"
      ]
     },
     "execution_count": 19,
     "metadata": {},
     "output_type": "execute_result"
    }
   ],
   "source": [
    "\n",
    "'''\n",
    "if x: x is in arr2. returns (0, rank[x])\n",
    "This makes sure that these numbers are in the front. Key values of these numbers\n",
    "are determined by their positions in arr2.\n",
    "\n",
    "if !x: x isn't in arr2. returns (1, x).\n",
    "This makes sure that all numbers which are not in arr2 are placed at the back.\n",
    "And sort() itself gurantees the ascending property.\n",
    "'''\n",
    "\n",
    "class Solution2:\n",
    "    def relativeSortArray(self, arr1, arr2):\n",
    "        rank = {x: i for i, x in enumerate(arr2)}\n",
    "\n",
    "        def custom_compare(x):\n",
    "            return (0, rank[x]) if x in rank else (1, x)\n",
    "\n",
    "        arr1.sort(key=custom_compare)\n",
    "        return arr1\n",
    "\n",
    "\n",
    "arr1 = [2,3,1,3,2,4,6,7,9,2,19]\n",
    "arr2 = [2,1,4,3,9,6]\n",
    "s = Solution2()\n",
    "s.relativeSortArray(arr1, arr2)"
   ]
  },
  {
   "cell_type": "code",
   "execution_count": 20,
   "metadata": {},
   "outputs": [
    {
     "data": {
      "text/plain": [
       "{2: 0, 1: 1, 4: 2, 3: 3, 9: 4, 6: 5}"
      ]
     },
     "execution_count": 20,
     "metadata": {},
     "output_type": "execute_result"
    }
   ],
   "source": [
    "rank = {x : i for i, x in enumerate(arr2)}\n",
    "rank"
   ]
  },
  {
   "cell_type": "code",
   "execution_count": null,
   "metadata": {},
   "outputs": [],
   "source": []
  }
 ],
 "metadata": {
  "kernelspec": {
   "display_name": "Python 3",
   "language": "python",
   "name": "python3"
  },
  "language_info": {
   "codemirror_mode": {
    "name": "ipython",
    "version": 3
   },
   "file_extension": ".py",
   "mimetype": "text/x-python",
   "name": "python",
   "nbconvert_exporter": "python",
   "pygments_lexer": "ipython3",
   "version": "3.10.11"
  }
 },
 "nbformat": 4,
 "nbformat_minor": 2
}
