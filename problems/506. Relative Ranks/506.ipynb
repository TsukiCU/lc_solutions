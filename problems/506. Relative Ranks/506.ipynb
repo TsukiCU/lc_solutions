{
 "cells": [
  {
   "cell_type": "markdown",
   "metadata": {},
   "source": [
    "# Relative Ranks\n",
    "\n",
    "**Problem**:\n",
    "Given an integer array `score` of size `n`, where `score[i]` represents the score of the `i`th athlete in a competition (with all scores unique), assign ranks to each athlete. The ranks are determined as follows:\n",
    "- The 1st place athlete gets the \"Gold Medal\".\n",
    "- The 2nd place athlete gets the \"Silver Medal\".\n",
    "- The 3rd place athlete gets the \"Bronze Medal\".\n",
    "- Athletes in 4th place and beyond get their placement number as their rank (e.g., \"4\" for 4th place).\n",
    "Return an array `answer` of size `n`, where `answer[i]` is the rank of the `i`th athlete.\n",
    "\n",
    "**Examples**:\n",
    "\n",
    "1. **Input**: `score = [5,4,3,2,1]`\n",
    "\n",
    "   **Output**: `[\"Gold Medal\",\"Silver Medal\",\"Bronze Medal\",\"4\",\"5\"]`\n",
    "\n",
    "   **Explanation**: The placements are [1st, 2nd, 3rd, 4th, 5th].\n",
    "\n",
    "2. **Input**: `score = [10,3,8,9,4]`\n",
    "\n",
    "   **Output**: `[\"Gold Medal\",\"5\",\"Bronze Medal\",\"Silver Medal\",\"4\"]`\n",
    "   \n",
    "   **Explanation**: The placements are [1st, 5th, 3rd, 2nd, 4th].\n",
    "\n",
    "**Constraints**:\n",
    "- `n == score.length`\n",
    "- `1 <= n <= 10^4`\n",
    "- `0 <= score[i] <= 10^6`\n",
    "- All values in `score` are unique.\n"
   ]
  },
  {
   "cell_type": "code",
   "execution_count": 17,
   "metadata": {},
   "outputs": [],
   "source": [
    "from typing import List\n",
    "import heapq"
   ]
  },
  {
   "cell_type": "code",
   "execution_count": 51,
   "metadata": {},
   "outputs": [
    {
     "data": {
      "text/plain": [
       "['Gold Medal', 'Silver Medal', 'Bronze Medal', '4', '5']"
      ]
     },
     "execution_count": 51,
     "metadata": {},
     "output_type": "execute_result"
    }
   ],
   "source": [
    "'''\n",
    "    Be extra careful about that key and pos shit.\n",
    "'''\n",
    "\n",
    "class Solution:\n",
    "    def findRelativeRanks(self, score: List[int]) -> List[str]:\n",
    "        heap = []\n",
    "        score_dict = {item:index for index, item in enumerate(score)}\n",
    "\n",
    "        for key, pos in score_dict.items():\n",
    "            heapq.heappush(heap, (-key, pos))\n",
    "\n",
    "        for i in range(len(heap)):\n",
    "            pos = heapq.heappop(heap)[1]\n",
    "            if i == 0:\n",
    "                score[pos] = \"Gold Medal\"\n",
    "            elif i == 1:\n",
    "                score[pos] = \"Silver Medal\"\n",
    "            elif i == 2:\n",
    "                score[pos] = \"Bronze Medal\"\n",
    "            else:\n",
    "                score[pos] = str(i+1)\n",
    "\n",
    "        return score\n",
    "\n",
    "s = Solution()\n",
    "score = [5,4,3,2,1]\n",
    "s.findRelativeRanks(score)"
   ]
  },
  {
   "cell_type": "code",
   "execution_count": null,
   "metadata": {},
   "outputs": [],
   "source": [
    "## Of course all sorting algorithms work here.\n",
    "## But I am gonna call it a day as I'm tired."
   ]
  }
 ],
 "metadata": {
  "kernelspec": {
   "display_name": "Python 3",
   "language": "python",
   "name": "python3"
  },
  "language_info": {
   "codemirror_mode": {
    "name": "ipython",
    "version": 3
   },
   "file_extension": ".py",
   "mimetype": "text/x-python",
   "name": "python",
   "nbconvert_exporter": "python",
   "pygments_lexer": "ipython3",
   "version": "3.10.11"
  }
 },
 "nbformat": 4,
 "nbformat_minor": 2
}
