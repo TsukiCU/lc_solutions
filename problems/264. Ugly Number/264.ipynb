{
 "cells": [
  {
   "cell_type": "markdown",
   "metadata": {},
   "source": [
    "# Ugly Number II\n",
    "\n",
    "**Problem**:\n",
    "An ugly number is a positive integer whose prime factors only include 2, 3, and 5. The task is to find the `n`th ugly number.\n",
    "\n",
    "**Examples**:\n",
    "\n",
    "1. **Input**: `n = 10`\n",
    "   **Output**: `12`\n",
    "   **Explanation**: The sequence of the first 10 ugly numbers is [1, 2, 3, 4, 5, 6, 8, 9, 10, 12].\n",
    "\n",
    "2. **Input**: `n = 1`\n",
    "   **Output**: `1`\n",
    "   **Explanation**: The number 1 by definition is an ugly number because it has no prime factors, thus all of its prime factors are limited to 2, 3, and 5.\n",
    "\n",
    "**Constraints**:\n",
    "- `1 <= n <= 1690`\n"
   ]
  },
  {
   "cell_type": "code",
   "execution_count": 33,
   "metadata": {},
   "outputs": [
    {
     "data": {
      "text/plain": [
       "839808"
      ]
     },
     "execution_count": 33,
     "metadata": {},
     "output_type": "execute_result"
    }
   ],
   "source": [
    "'''\n",
    "    Apparently, this is the first solution comes up to everyone's mind, but unfortunately it exceeds the time limit.\n",
    "'''\n",
    "\n",
    "class Solution:\n",
    "    def nthUglyNumber(self, n: int) -> int:\n",
    "        def is_ugly(n):\n",
    "            while not n%2:\n",
    "                n = n>>1\n",
    "\n",
    "            while not n%3:\n",
    "                n = n//3\n",
    "\n",
    "            while not n%5:\n",
    "                n = n//5\n",
    "\n",
    "            return 1 if n == 1 else 0\n",
    "\n",
    "        num = 1\n",
    "        count = 0\n",
    "        while True:\n",
    "            if is_ugly(num) == 1:\n",
    "                count += 1\n",
    "                if count == n:\n",
    "                    break\n",
    "            num += 1\n",
    "\n",
    "        return num\n",
    "\n",
    "s = Solution()\n",
    "s.nthUglyNumber(490)"
   ]
  },
  {
   "cell_type": "code",
   "execution_count": 27,
   "metadata": {},
   "outputs": [
    {
     "data": {
      "text/plain": [
       "34"
      ]
     },
     "execution_count": 27,
     "metadata": {},
     "output_type": "execute_result"
    }
   ],
   "source": [
    "import heapq\n",
    "\n",
    "class Solution:\n",
    "    def nthUglyNumber(self, n: int) -> int:\n",
    "        num = {}\n",
    "\n",
    "\n",
    "s = Solution()\n",
    "s.nthUglyNumber(10)"
   ]
  },
  {
   "cell_type": "code",
   "execution_count": 34,
   "metadata": {},
   "outputs": [
    {
     "data": {
      "text/plain": [
       "0"
      ]
     },
     "execution_count": 34,
     "metadata": {},
     "output_type": "execute_result"
    }
   ],
   "source": []
  },
  {
   "cell_type": "code",
   "execution_count": null,
   "metadata": {},
   "outputs": [],
   "source": []
  }
 ],
 "metadata": {
  "kernelspec": {
   "display_name": "Python 3",
   "language": "python",
   "name": "python3"
  },
  "language_info": {
   "codemirror_mode": {
    "name": "ipython",
    "version": 3
   },
   "file_extension": ".py",
   "mimetype": "text/x-python",
   "name": "python",
   "nbconvert_exporter": "python",
   "pygments_lexer": "ipython3",
   "version": "3.10.11"
  }
 },
 "nbformat": 4,
 "nbformat_minor": 2
}
