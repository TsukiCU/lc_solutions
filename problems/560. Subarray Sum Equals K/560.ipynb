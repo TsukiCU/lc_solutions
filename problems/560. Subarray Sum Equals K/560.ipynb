{
 "cells": [
  {
   "cell_type": "markdown",
   "metadata": {},
   "source": [
    "# Subarray Sum Equals K\n",
    "\n",
    "**Problem**:\n",
    "Given an array of integers `nums` and an integer `k`, return the total number of contiguous non-empty subarrays whose sum equals `k`.\n",
    "\n",
    "**Examples**:\n",
    "\n",
    "1. **Input**:\n",
    "   `nums = [1,1,1]`, `k = 2`\n",
    "   \n",
    "   **Output**: `2`\n",
    "   \n",
    "   **Explanation**:\n",
    "   There are two subarrays that sum up to 2: [1,1] (first and second elements) and [1,1] (second and third elements).\n",
    "\n",
    "2. **Input**:\n",
    "   `nums = [1,2,3]`, `k = 3`\n",
    "   \n",
    "   **Output**: `2`\n",
    "   \n",
    "   **Explanation**:\n",
    "   There are two subarrays that sum up to 3: [1,2] (first and second elements) and [3] (third element).\n",
    "\n",
    "**Constraints**:\n",
    "- `1 <= nums.length <= 2 * 10^4`\n",
    "- `-1000 <= nums[i] <= 1000`\n",
    "- `-10^7 <= k <= 10^7`\n"
   ]
  },
  {
   "cell_type": "code",
   "execution_count": 31,
   "metadata": {},
   "outputs": [],
   "source": [
    "from typing import List\n",
    "def test(s):\n",
    "    test_cases = [([1,1,1], 2), ([1,2,3], 3), ([1,-1,0], 0)]\n",
    "    ref = [2, 2, 3]\n",
    "    for i, ((nums, k), expected) in enumerate(zip(test_cases, ref)):\n",
    "        assert s.subarraySum(nums, k) == expected, f\"wrong answer at test case {i + 1}: nums = {nums}, k = {k}\"\n",
    "    print(\"Succeed\")\n",
    "\n",
    "# Example usage\n",
    "# s = Solution()\n",
    "# test(s)\n"
   ]
  },
  {
   "cell_type": "code",
   "execution_count": 38,
   "metadata": {},
   "outputs": [
    {
     "name": "stdout",
     "output_type": "stream",
     "text": [
      "Succeed\n"
     ]
    }
   ],
   "source": [
    "'''\n",
    "    I can tell this is insanely slow. Exceeding time limits\n",
    "    can be extremely maddening.\n",
    "'''\n",
    "\n",
    "class Solution1:\n",
    "    def subarraySum(self, nums: List[int], k: int) -> int:\n",
    "        n = len(nums)\n",
    "        res = 0\n",
    "        prefix_sum = [0]*(n+1)\n",
    "        for i in range(1, n+1):\n",
    "            prefix_sum[i] = prefix_sum[i-1] + nums[i-1]\n",
    "\n",
    "        for i in range(n):\n",
    "            h = {}\n",
    "            for j in range(i+1):\n",
    "                # get: h.get(key, default)\n",
    "                # return the value if exists, else default number.\n",
    "                #\n",
    "                # This is basically equal to:\n",
    "                #\n",
    "                # if prefix_sum[i] - prefix_sum[j] in h:\n",
    "                #     h[prefix_sum[i] - prefix_sum[j]] += 1\n",
    "                # else:\n",
    "                #     h[prefix_sum[i] - prefix_sum[j]] = 1\n",
    "                #\n",
    "                h[prefix_sum[i] - prefix_sum[j]] = h.get(prefix_sum[i] - prefix_sum[j], 0) + 1\n",
    "            if k-nums[i] in h:\n",
    "                res += h[k-nums[i]]\n",
    "        return res\n",
    "\n",
    "\n",
    "test(Solution1())"
   ]
  },
  {
   "cell_type": "code",
   "execution_count": 43,
   "metadata": {},
   "outputs": [
    {
     "name": "stdout",
     "output_type": "stream",
     "text": [
      "Succeed\n"
     ]
    }
   ],
   "source": [
    "'''\n",
    "    This one has time complexity of O(N)\n",
    "\n",
    "    当无法用英语准确表达意思的时候, 只能用中文了。。。\n",
    "\n",
    "    最大的不同其实是[对字典的键值索引]。在我之前的解法中, 字典的索引为k-nums[i], 因此我必须考虑数组中前几个元素在一起, 中间跳过几个元素, 再和\n",
    "    当前遍历的元素相加之和为k的情况, 因此每次都需要重新更新字典, 这也意味着每次都需要从头开始再遍历一遍, 所以时间复杂度为O(N^2)。在这个改进的\n",
    "    思路中, 对字典键值的索引是sum-k, 其中sum已经包含当前遍历的元素了。因此对于我上述说的情况, 字典中根本不会出现这种键值, 因此无需重复更新字典。\n",
    "\n",
    "    另外就是注意字典的初始化。前缀和数组的第一项为0, 那么哈希表初始化也应该是 \"h = {0:1}\"\n",
    "'''\n",
    "\n",
    "class Solution2:\n",
    "    def subarraySum(self, nums: List[int], k: int) -> int:\n",
    "        res = 0\n",
    "        sum = 0\n",
    "        h = {0:1}\n",
    "\n",
    "        for num in nums:\n",
    "            sum += num\n",
    "            if sum - k in h:\n",
    "                res += h[sum-k]\n",
    "            h[sum] = h.get(sum, 0) + 1\n",
    "\n",
    "        return res\n",
    "\n",
    "test(Solution2())"
   ]
  },
  {
   "cell_type": "code",
   "execution_count": null,
   "metadata": {},
   "outputs": [],
   "source": []
  }
 ],
 "metadata": {
  "kernelspec": {
   "display_name": "Python 3",
   "language": "python",
   "name": "python3"
  },
  "language_info": {
   "codemirror_mode": {
    "name": "ipython",
    "version": 3
   },
   "file_extension": ".py",
   "mimetype": "text/x-python",
   "name": "python",
   "nbconvert_exporter": "python",
   "pygments_lexer": "ipython3",
   "version": "3.10.11"
  }
 },
 "nbformat": 4,
 "nbformat_minor": 2
}
