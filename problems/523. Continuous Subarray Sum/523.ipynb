{
 "cells": [
  {
   "cell_type": "markdown",
   "metadata": {},
   "source": [
    "# Continuous Subarray Sum\n",
    "\n",
    "**Problem**:\n",
    "Given an integer array `nums` and an integer `k`, determine if `nums` contains a \"good\" subarray. A \"good\" subarray is one where:\n",
    "- Its length is at least two.\n",
    "- The sum of its elements is a multiple of `k`.\n",
    "\n",
    "**Note**:\n",
    "- A subarray is a contiguous part of the array.\n",
    "- An integer `x` is a multiple of `k` if `x = n * k` for some integer `n`. 0 is always considered a multiple of `k`.\n",
    "\n",
    "**Examples**:\n",
    "\n",
    "1. **Input**:\n",
    "   `nums = [23,2,4,6,7]`, `k = 6`\n",
    "   \n",
    "   **Output**: `true`\n",
    "   \n",
    "   **Explanation**:\n",
    "   The subarray [2, 4] is a continuous subarray of size 2 whose elements sum up to 6, which is a multiple of 6.\n",
    "\n",
    "2. **Input**:\n",
    "   `nums = [23,2,6,4,7]`, `k = 6`\n",
    "   \n",
    "   **Output**: `true`\n",
    "   \n",
    "   **Explanation**:\n",
    "   The subarray [23, 2, 6, 4, 7] has a sum of 42, which is a multiple of 6 (42 = 7 * 6).\n",
    "\n",
    "3. **Input**:\n",
    "   `nums = [23,2,6,4,7]`, `k = 13`\n",
    "   \n",
    "   **Output**: `false`\n",
    "   \n",
    "   **Explanation**:\n",
    "   No subarray of `nums` has a sum that is a multiple of 13.\n",
    "\n",
    "**Constraints**:\n",
    "- `1 <= nums.length <= 10^5`\n",
    "- `0 <= nums[i] <= 10^9`\n",
    "- `0 <= sum(nums[i]) <= 2^31 - 1`\n",
    "- `1 <= k <= 2^31 - 1`\n"
   ]
  },
  {
   "cell_type": "code",
   "execution_count": 106,
   "metadata": {},
   "outputs": [],
   "source": [
    "from typing import List\n",
    "def test(s):\n",
    "    test_cases = [([23,2,4,6,7], 6), ([23,2,6,4,7], 6), ([23,2,6,4,7], 13),([1,2,3], 5),([0,1,0], 1),\\\n",
    "                  ([23,2,4,6,6], 7), ([1,2,12], 6), ([5,0,0,0], 3), ([2,4,3], 6), ([23,6,9], 6), ([1,3,0,6], 6)]\n",
    "    ref = [True, True, False, True, True, True, False, True, True, False, True]\n",
    "    for i, ((nums, k), expected) in enumerate(zip(test_cases, ref)):\n",
    "        assert s.checkSubarraySum(nums, k) == expected, f\"wrong answer at test case {i + 1}: nums = {nums}, k = {k}\"\n",
    "    print(\"Succeed\")\n",
    "\n",
    "# Example usage\n",
    "# s = Solution()\n",
    "# test(s)\n"
   ]
  },
  {
   "cell_type": "code",
   "execution_count": 111,
   "metadata": {},
   "outputs": [
    {
     "name": "stdout",
     "output_type": "stream",
     "text": [
      "Succeed\n"
     ]
    }
   ],
   "source": [
    "'''\n",
    "    [congruent + prefix]\n",
    "\n",
    "    Idea: Assume nums = [[a][b][c]..] where a, b, c.. are subarrays of nums, and [b] is divisible by k.\n",
    "    then we notice that, sum([ab]) % k == sum([a]) % k\n",
    "    There is smth related to the sum of subarrays. That's where prefix sum shine!\n",
    "'''\n",
    "\n",
    "class Solution1:\n",
    "    def checkSubarraySum(self, nums: List[int], k: int) -> bool:\n",
    "        ret = False\n",
    "        n = len(nums)\n",
    "        sum = nums[0]\n",
    "        h = {nums[0]%k:0}\n",
    "\n",
    "        for i in range(1, n):\n",
    "            if (nums[i]==0 and nums[i-1]==0):\n",
    "                ret = True\n",
    "                break\n",
    "            sum += nums[i]\n",
    "            remainder = sum%k\n",
    "            # (1) remainder==0 and i>=1 applies to those cases that the sum of nums is divisible by k.\n",
    "            # for example, [1, 2, 3, 4] k = 10\n",
    "            # (2) h[remainder] != i-1: applies to smth like this:\n",
    "            # nums = [1, 2, 3, 17], k = 17\n",
    "            if (remainder==0 and i>=1) or remainder in h and h[remainder] != i-1:\n",
    "                ret = True\n",
    "                break\n",
    "\n",
    "            # (3) nums[i] != 0 applies to the cases where nums[i-1]==0, nums[i] % 6 == 0\n",
    "            # for example, [1, 3, 0, 6] k=6\n",
    "            if nums[i] != 0:\n",
    "                h[remainder] = i\n",
    "\n",
    "        return ret\n",
    "\n",
    "\n",
    "test(Solution1())"
   ]
  },
  {
   "cell_type": "code",
   "execution_count": 114,
   "metadata": {},
   "outputs": [
    {
     "name": "stdout",
     "output_type": "stream",
     "text": [
      "Succeed\n"
     ]
    }
   ],
   "source": [
    "'''\n",
    "    This is the official solution.\n",
    "    Umm.. it's pretty much the same.\n",
    "'''\n",
    "\n",
    "class Solution2:\n",
    "    def checkSubarraySum(self, nums: List[int], k: int) -> bool:\n",
    "        dic, remind = {0:0} , 0\n",
    "\n",
    "        for idx, num in enumerate(nums):\n",
    "            remind = (remind + num)%k\n",
    "            jdx = dic.get(remind)\n",
    "            if jdx != None:\n",
    "                if idx - jdx > 0:\n",
    "                    return True\n",
    "            else:\n",
    "                dic[remind] = idx+1\n",
    "        return False\n",
    "\n",
    "\n",
    "test(Solution2())"
   ]
  },
  {
   "cell_type": "code",
   "execution_count": null,
   "metadata": {},
   "outputs": [],
   "source": []
  }
 ],
 "metadata": {
  "kernelspec": {
   "display_name": "Python 3",
   "language": "python",
   "name": "python3"
  },
  "language_info": {
   "codemirror_mode": {
    "name": "ipython",
    "version": 3
   },
   "file_extension": ".py",
   "mimetype": "text/x-python",
   "name": "python",
   "nbconvert_exporter": "python",
   "pygments_lexer": "ipython3",
   "version": "3.10.11"
  }
 },
 "nbformat": 4,
 "nbformat_minor": 2
}
