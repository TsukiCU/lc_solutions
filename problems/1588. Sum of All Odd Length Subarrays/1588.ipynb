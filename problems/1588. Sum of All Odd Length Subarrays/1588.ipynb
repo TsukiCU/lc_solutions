{
 "cells": [
  {
   "cell_type": "markdown",
   "metadata": {},
   "source": [
    "# Sum of All Odd Length Subarrays\n",
    "\n",
    "**Problem**:\n",
    "Given an array of positive integers `arr`, calculate the sum of all possible odd-length subarrays of `arr`. A subarray is defined as a contiguous subsequence of the array.\n",
    "\n",
    "**Examples**:\n",
    "\n",
    "1. **Input**:\n",
    "   `arr = [1,4,2,5,3]`\n",
    "   \n",
    "   **Output**: `58`\n",
    "   \n",
    "   **Explanation**:\n",
    "   The sum of all odd-length subarrays is 58, calculated as 1 + 4 + 2 + 5 + 3 + 7 + 11 + 10 + 15.\n",
    "\n",
    "2. **Input**:\n",
    "   `arr = [1,2]`\n",
    "   \n",
    "   **Output**: `3`\n",
    "   \n",
    "   **Explanation**:\n",
    "   The odd-length subarrays are [1] and [2], and their sum is 3.\n",
    "\n",
    "3. **Input**:\n",
    "   `arr = [10,11,12]`\n",
    "   \n",
    "   **Output**: `66`\n",
    "   \n",
    "   **Explanation**:\n",
    "   The sum of all odd-length subarrays is 66.\n",
    "\n",
    "**Constraints**:\n",
    "- `1 <= arr.length <= 100`\n",
    "- `1 <= arr[i] <= 1000`\n",
    "\n",
    "\n",
    "\n",
    "### **Follow up**\n",
    "Can this problem be solved in `O(n)` time complexity?\n"
   ]
  },
  {
   "cell_type": "code",
   "execution_count": 3,
   "metadata": {},
   "outputs": [],
   "source": [
    "from typing import List\n",
    "def test(s):\n",
    "    test_cases = [\n",
    "        ([1,4,2,5,3], 58),\n",
    "        ([1,2], 3),\n",
    "        ([10,11,12], 66)\n",
    "    ]\n",
    "    for i, (arr, expected) in enumerate(test_cases):\n",
    "        assert s.sumOddLengthSubarrays(arr) == expected, f\"wrong answer at test case {i + 1}: arr = {arr}\"\n",
    "    print(\"Succeed\")\n",
    "\n",
    "# Example usage\n",
    "# s = Solution()\n",
    "# test(s)\n"
   ]
  },
  {
   "cell_type": "code",
   "execution_count": 4,
   "metadata": {},
   "outputs": [
    {
     "name": "stdout",
     "output_type": "stream",
     "text": [
      "Succeed\n"
     ]
    }
   ],
   "source": [
    "'''\n",
    "    Brute force will take O(n^3) time complexity which is unacceptible.\n",
    "    Use prefix sum to optimize it.,\n",
    "\n",
    "    The main is that when traversing the given array, a odd-length sub-\n",
    "    array is those start at an odd index and end at an odd index, or vice versa.\n",
    "'''\n",
    "\n",
    "class Solution1:\n",
    "    def sumOddLengthSubarrays(self, arr: List[int]) -> int:\n",
    "        n = len(arr)\n",
    "        res = 0\n",
    "        prefix_sum = [0] * (n+1)\n",
    "        for i in range(n):\n",
    "            prefix_sum[i+1] = prefix_sum[i]+arr[i]\n",
    "\n",
    "        for i in range(n):\n",
    "            if i%2:\n",
    "                for j in range(1, i, 2):\n",
    "                    res += prefix_sum[i+1] - prefix_sum[j]\n",
    "            else:\n",
    "                for j in range(0, i, 2):\n",
    "                    res += prefix_sum[i+1] - prefix_sum[j]\n",
    "\n",
    "        return res+prefix_sum[n]   # each element is a odd-length array (1)\n",
    "\n",
    "\n",
    "test(Solution1())"
   ]
  },
  {
   "cell_type": "code",
   "execution_count": 17,
   "metadata": {},
   "outputs": [
    {
     "name": "stdout",
     "output_type": "stream",
     "text": [
      "Succeed\n"
     ]
    }
   ],
   "source": [
    "'''\n",
    "    Find the pattern of [how many times] each number appears in the final result.\n",
    "\n",
    "    If we set constraint to time complexity, there's no way this problem is easy.\n",
    "\n",
    "    Take [1, 4, 2, 5, 3] for example. let's say the pointer i is now 2.\n",
    "    we can devide the string into two subarrays, namely [1, 4, 2] and [5, 3]. Note that the left includes the current number.\n",
    "    select a few elements from each subarray to make a odd-length subarray.\n",
    "    This gives us two circumstances:\n",
    "    (1) odd number of number from the left and even number from the right\n",
    "    (2) vice versa.\n",
    "\n",
    "    for (1), it's ((i+2)//2)*((n-i-1)//2+1)  Note that we could select 0 from the right so there's an extra 1.\n",
    "    for (2), it's ((i+1)//2)*((n-i)//2)      Note that we can not select 0 from the left so there is no extra 1.\n",
    "'''\n",
    "\n",
    "class Solution2:\n",
    "    def sumOddLengthSubarrays(self, arr: List[int]) -> int:\n",
    "        res = 0\n",
    "        n = len(arr)\n",
    "        for i in range(n):\n",
    "            res += arr[i] * (((i+2)//2)*((n-i-1)//2+1) + ((i+1)//2)*((n-i)//2))\n",
    "\n",
    "        return res\n",
    "\n",
    "\n",
    "test(Solution2())"
   ]
  },
  {
   "cell_type": "code",
   "execution_count": null,
   "metadata": {},
   "outputs": [],
   "source": []
  }
 ],
 "metadata": {
  "kernelspec": {
   "display_name": "Python 3",
   "language": "python",
   "name": "python3"
  },
  "language_info": {
   "codemirror_mode": {
    "name": "ipython",
    "version": 3
   },
   "file_extension": ".py",
   "mimetype": "text/x-python",
   "name": "python",
   "nbconvert_exporter": "python",
   "pygments_lexer": "ipython3",
   "version": "3.10.11"
  }
 },
 "nbformat": 4,
 "nbformat_minor": 2
}
