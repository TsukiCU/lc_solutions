{
 "cells": [
  {
   "cell_type": "markdown",
   "metadata": {},
   "source": [
    "# Jump Training\n",
    "\n",
    "**Problem**:\n",
    "Given a platform with `n` cells, where in each step you can jump either 1 cell or 2 cells, calculate the total number of distinct ways to jump through the platform.\n",
    "\n",
    "The result might be very large, so return the result modulo `1e9+7` (1000000007).\n",
    "\n",
    "**Examples**:\n",
    "\n",
    "1. **Input**:\n",
    "   `n = 2`\n",
    "   \n",
    "   **Output**: `2`\n",
    "   \n",
    "   **Explanation**:\n",
    "   There are two ways to jump through a platform with 2 cells: [1,1] or [2].\n",
    "\n",
    "2. **Input**:\n",
    "   `n = 5`\n",
    "   \n",
    "   **Output**: `8`\n",
    "   \n",
    "   **Explanation**:\n",
    "   There are eight ways to jump through a platform with 5 cells.\n",
    "\n",
    "**Constraints**:\n",
    "- The number of cells `n` is an integer.\n"
   ]
  },
  {
   "cell_type": "code",
   "execution_count": 17,
   "metadata": {},
   "outputs": [],
   "source": [
    "def test(s):\n",
    "    test_cases = [\n",
    "        (2, 2),\n",
    "        (5, 8)\n",
    "    ]\n",
    "    MOD = 1000000007\n",
    "    for i, (n, expected) in enumerate(test_cases):\n",
    "        assert s.trainWays(n) % MOD == expected, f\"wrong answer at test case {i + 1}: n = {n}\"\n",
    "    print(\"Succeed\")\n",
    "\n",
    "# Example usage\n",
    "# s = Solution()\n",
    "# test(s)\n"
   ]
  },
  {
   "cell_type": "code",
   "execution_count": 18,
   "metadata": {},
   "outputs": [
    {
     "name": "stdout",
     "output_type": "stream",
     "text": [
      "Succeed\n"
     ]
    }
   ],
   "source": [
    "# prvent integer overflow, add this 1000000007. pick a relatively large number or it got truncated!\n",
    "# This is fibonacci.\n",
    "\n",
    "class Solution:\n",
    "    def trainWays(self, num: int) -> int:\n",
    "        a, b = 1, 1\n",
    "        for _ in range(num):\n",
    "            a, b = b, a + b\n",
    "        return a % 10000000007\n",
    "\n",
    "test(Solution())"
   ]
  },
  {
   "cell_type": "code",
   "execution_count": null,
   "metadata": {},
   "outputs": [],
   "source": []
  }
 ],
 "metadata": {
  "kernelspec": {
   "display_name": "Python 3",
   "language": "python",
   "name": "python3"
  },
  "language_info": {
   "codemirror_mode": {
    "name": "ipython",
    "version": 3
   },
   "file_extension": ".py",
   "mimetype": "text/x-python",
   "name": "python",
   "nbconvert_exporter": "python",
   "pygments_lexer": "ipython3",
   "version": "3.10.11"
  }
 },
 "nbformat": 4,
 "nbformat_minor": 2
}
