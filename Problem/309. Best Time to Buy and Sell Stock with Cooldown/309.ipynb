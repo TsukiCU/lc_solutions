{
 "cells": [
  {
   "cell_type": "markdown",
   "metadata": {},
   "source": [
    "# Best Time to Buy and Sell Stock with Cooldown\n",
    "\n",
    "**Problem**:\n",
    "Given an array `prices` where `prices[i]` is the price of a given stock on the `i`th day, determine the maximum profit possible with the ability to complete multiple transactions subject to the following rules:\n",
    "- After selling the stock, you must wait one day before buying again (cooldown period).\n",
    "- You cannot engage in multiple transactions at the same time (you must sell the stock before buying again).\n",
    "\n",
    "**Examples**:\n",
    "\n",
    "1. **Input**:\n",
    "   `prices = [1,2,3,0,2]`\n",
    "   \n",
    "   **Output**: `3`\n",
    "   \n",
    "   **Explanation**:\n",
    "   The sequence of transactions that maximizes the profit is [buy, sell, cooldown, buy, sell], leading to a profit of 3.\n",
    "\n",
    "2. **Input**:\n",
    "   `prices = [1]`\n",
    "   \n",
    "   **Output**: `0`\n",
    "   \n",
    "   **Explanation**:\n",
    "   With only one price data point, no transaction can be made, so the maximum profit is 0.\n",
    "\n",
    "**Constraints**:\n",
    "- `1 <= prices.length <= 5000`\n",
    "- `0 <= prices[i] <= 1000`\n"
   ]
  },
  {
   "cell_type": "code",
   "execution_count": 2,
   "metadata": {},
   "outputs": [],
   "source": [
    "from typing import List\n",
    "def test(s):\n",
    "    test_cases = [\n",
    "        ([1,2,3,0,2], 3),\n",
    "        ([1], 0)\n",
    "    ]\n",
    "    for i, (prices, expected) in enumerate(test_cases):\n",
    "        assert s.maxProfit(prices) == expected, f\"wrong answer at test case {i + 1}: prices = {prices}\"\n",
    "    print(\"Succeed\")\n",
    "\n",
    "# Example usage\n",
    "# s = Solution()\n",
    "# test(s)\n"
   ]
  },
  {
   "cell_type": "code",
   "execution_count": 12,
   "metadata": {},
   "outputs": [
    {
     "data": {
      "text/plain": [
       "3"
      ]
     },
     "execution_count": 12,
     "metadata": {},
     "output_type": "execute_result"
    }
   ],
   "source": [
    "'''\n",
    "    The only change is the state equation for dp[1][i].\n",
    "    We can only buy from the day before yesterday.\n",
    "'''\n",
    "\n",
    "class Solution:\n",
    "    def maxProfit(self, prices: List[int]) -> int:\n",
    "        n = len(prices)\n",
    "        if n == 1:\n",
    "            return 0\n",
    "        dp = [[0 for _ in range(n)] for _ in range(2)]\n",
    "        dp[1][0] = -prices[0]\n",
    "\n",
    "        for i in range(1, n):\n",
    "            dp[0][i] = max(dp[0][i-1], dp[1][i-1]+prices[i])\n",
    "            if i >= 2:\n",
    "                dp[1][i] = max(dp[1][i-1], dp[0][i-2]-prices[i])\n",
    "            else:\n",
    "                dp[1][i] = dp[1][i-1]\n",
    "\n",
    "        return max(dp[0])\n",
    "\n",
    "s = Solution()\n",
    "s.maxProfit([1, 2, 3, 0, 2])"
   ]
  },
  {
   "cell_type": "code",
   "execution_count": null,
   "metadata": {},
   "outputs": [],
   "source": []
  }
 ],
 "metadata": {
  "kernelspec": {
   "display_name": "Python 3",
   "language": "python",
   "name": "python3"
  },
  "language_info": {
   "codemirror_mode": {
    "name": "ipython",
    "version": 3
   },
   "file_extension": ".py",
   "mimetype": "text/x-python",
   "name": "python",
   "nbconvert_exporter": "python",
   "pygments_lexer": "ipython3",
   "version": "3.10.11"
  }
 },
 "nbformat": 4,
 "nbformat_minor": 2
}
