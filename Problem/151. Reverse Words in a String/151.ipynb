{
 "cells": [
  {
   "cell_type": "markdown",
   "metadata": {},
   "source": [
    "# Reverse Words in a String\n",
    "\n",
    "**Problem**:\n",
    "Given a string `s`, reverse the order of the words. A word is a sequence of non-space characters, and words in `s` are separated by at least one space. The returned string should have a single space between words and no leading or trailing spaces.\n",
    "\n",
    "**Examples**:\n",
    "\n",
    "1. **Input**:\n",
    "   `s = \"the sky is blue\"`\n",
    "   \n",
    "   **Output**: `\"blue is sky the\"`\n",
    "\n",
    "2. **Input**:\n",
    "   `s = \"  hello world  \"`\n",
    "   \n",
    "   **Output**: `\"world hello\"`\n",
    "   \n",
    "   **Explanation**:\n",
    "   The reversed string should not contain leading or trailing spaces.\n",
    "\n",
    "**Note**:\n",
    "- `s` may contain leading or trailing spaces.\n",
    "- There may be multiple spaces between two words in `s`.\n",
    "\n",
    "**Constraints**:\n",
    "- `1 <= s.length <= 10^4`\n",
    "- `s` contains English letters (uppercase and lowercase), digits, and spaces `' '`.\n",
    "- There is at least one word in `s`.\n",
    "\n",
    "### **Follow up**:\n",
    "\n",
    "O(1) space complexity\n"
   ]
  },
  {
   "cell_type": "code",
   "execution_count": 1,
   "metadata": {},
   "outputs": [],
   "source": [
    "def test(s):\n",
    "    test_cases = [\n",
    "        (\"the sky is blue\", \"blue is sky the\"),\n",
    "        (\"  hello world  \", \"world hello\"),\n",
    "        (\"a good   example\", \"example good a\")\n",
    "    ]\n",
    "    for input_str, expected in test_cases:\n",
    "        result = s.reverseWords(input_str)\n",
    "        assert result == expected, f\"wrong answer for input = '{input_str}', expected = '{expected}'\"\n",
    "    print(\"Succeed\")\n",
    "\n",
    "# Example usage\n",
    "# s = Solution()\n",
    "# test(s)\n"
   ]
  },
  {
   "cell_type": "code",
   "execution_count": 61,
   "metadata": {},
   "outputs": [
    {
     "name": "stdout",
     "output_type": "stream",
     "text": [
      "Succeed\n"
     ]
    }
   ],
   "source": [
    "class Solution:\n",
    "    def reverseWords(self, s: str) -> str:\n",
    "        words = []\n",
    "        word, ans = \"\", \"\"\n",
    "        for i in range(len(s)):\n",
    "            if s[i] == ' ':\n",
    "                if word:\n",
    "                    words.append(word)\n",
    "                    word = \"\"\n",
    "            else:\n",
    "                word += s[i]\n",
    "        if word:\n",
    "            words.append(word)\n",
    "\n",
    "        for i in range(len(words)-1, 0, -1):\n",
    "            ans += words[i]\n",
    "            ans += ' '\n",
    "        ans += words[0]\n",
    "        return ans\n",
    "\n",
    "\n",
    "test(Solution())"
   ]
  },
  {
   "cell_type": "code",
   "execution_count": 108,
   "metadata": {},
   "outputs": [
    {
     "name": "stdout",
     "output_type": "stream",
     "text": [
      "Succeed\n"
     ]
    }
   ],
   "source": [
    "\"\"\"\n",
    "What do we do if there are spaces at each side and in the middle?\n",
    "Oh no! That's too much work dealing with the edge cases!\n",
    "\n",
    "REMOVE THEM AT THE VERY BEGINNING, DUMB ASS.\n",
    "REMOVE THEM AT THE VERY BEGINNING, DUMB ASS.\n",
    "REMOVE THEM AT THE VERY BEGINNING, DUMB ASS.\n",
    "REMOVE THEM AT THE VERY BEGINNING, DUMB ASS.\n",
    "REMOVE THEM AT THE VERY BEGINNING, DUMB ASS.\n",
    "\n",
    "Note: String in Python is NOT mutable. So this is just simulating.\n",
    "\"\"\"\n",
    "\n",
    "class Solution:\n",
    "    def reverseWords(self, s):\n",
    "        def reverse_string(s, start, end):\n",
    "            s_list = list(s)\n",
    "            while start < end:\n",
    "                s_list[start], s_list[end] = s_list[end], s_list[start]\n",
    "                start += 1\n",
    "                end -= 1\n",
    "            return ''.join(s_list)\n",
    "\n",
    "        words = s.strip().split()\n",
    "        s = ' '.join(words)[::-1]\n",
    "\n",
    "        word_start = 0\n",
    "        for i in range(len(s) + 1):\n",
    "            if i == len(s) or s[i] == ' ':\n",
    "                s = s[:word_start] + reverse_string(s[word_start:i], 0, i - word_start - 1) + s[i:]\n",
    "                word_start = i + 1\n",
    "\n",
    "        return s\n",
    "    \n",
    "\n",
    "test(Solution())"
   ]
  },
  {
   "cell_type": "code",
   "execution_count": null,
   "metadata": {},
   "outputs": [],
   "source": []
  }
 ],
 "metadata": {
  "kernelspec": {
   "display_name": "Python 3",
   "language": "python",
   "name": "python3"
  },
  "language_info": {
   "codemirror_mode": {
    "name": "ipython",
    "version": 3
   },
   "file_extension": ".py",
   "mimetype": "text/x-python",
   "name": "python",
   "nbconvert_exporter": "python",
   "pygments_lexer": "ipython3",
   "version": "3.9.6"
  }
 },
 "nbformat": 4,
 "nbformat_minor": 2
}
