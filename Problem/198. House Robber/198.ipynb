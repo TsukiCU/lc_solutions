{
 "cells": [
  {
   "cell_type": "markdown",
   "metadata": {},
   "source": [
    "# House Robber\n",
    "\n",
    "**Problem**:\n",
    "As a professional robber, you aim to rob houses along a street where each house has a certain amount of money stashed. The only restriction is that adjacent houses have connected security systems, which will alert the police if two adjacent houses are robbed on the same night.\n",
    "\n",
    "Given an array `nums` representing the amount of money in each house, determine the maximum amount of money you can rob tonight without triggering the alarms.\n",
    "\n",
    "**Examples**:\n",
    "\n",
    "1. **Input**:\n",
    "   `nums = [1,2,3,1]`\n",
    "   \n",
    "   **Output**: `4`\n",
    "   \n",
    "   **Explanation**:\n",
    "   Robbing house 1 (money = 1) and house 3 (money = 3) yields the maximum amount of 4.\n",
    "\n",
    "2. **Input**:\n",
    "   `nums = [2,7,9,3,1]`\n",
    "   \n",
    "   **Output**: `12`\n",
    "   \n",
    "   **Explanation**:\n",
    "   The optimal strategy is to rob house 1 (money = 2), house 3 (money = 9), and house 5 (money = 1) for a total of 12.\n",
    "\n",
    "**Constraints**:\n",
    "- `1 <= nums.length <= 100`\n",
    "- `0 <= nums[i] <= 400`\n"
   ]
  },
  {
   "cell_type": "code",
   "execution_count": 17,
   "metadata": {},
   "outputs": [],
   "source": [
    "from typing import List\n",
    "def test(s):\n",
    "    test_cases = [\n",
    "        ([1,2,3,1], 4),\n",
    "        ([2,7,9,3,1], 12),\n",
    "        ([1,2], 2),\n",
    "        ([3], 3),\n",
    "        ([1,1,1], 2)\n",
    "    ]\n",
    "    for i, (nums, expected) in enumerate(test_cases):\n",
    "        assert s.rob(nums) == expected, f\"wrong answer at test case {i + 1}: nums = {nums}\"\n",
    "    print(\"Succeed\")\n",
    "\n",
    "# Example usage\n",
    "# s = Solution()\n",
    "# test(s)\n"
   ]
  },
  {
   "cell_type": "code",
   "execution_count": 23,
   "metadata": {},
   "outputs": [
    {
     "name": "stdout",
     "output_type": "stream",
     "text": [
      "Succeed\n"
     ]
    }
   ],
   "source": [
    "class Solution:\n",
    "    def rob(self, nums: List[int]) -> int:\n",
    "        n = len(nums)\n",
    "        if n == 1:\n",
    "            return nums[0]\n",
    "        elif n == 2:\n",
    "            return max(nums[0], nums[1])\n",
    "        dp = [0 for _ in range(n)]\n",
    "        dp[0] = nums[0]\n",
    "        dp[1] = nums[1]\n",
    "        dp[2] = max(nums[1], nums[0]+nums[2])\n",
    "\n",
    "        for i in range(3, n):\n",
    "            dp[i] = nums[i] + max(dp[i-2], dp[i-3])\n",
    "\n",
    "        return max(dp[-1], dp[-2])\n",
    "\n",
    "\n",
    "test(Solution())"
   ]
  },
  {
   "cell_type": "code",
   "execution_count": 31,
   "metadata": {},
   "outputs": [
    {
     "name": "stdout",
     "output_type": "stream",
     "text": [
      "Succeed\n"
     ]
    }
   ],
   "source": [
    "'''\n",
    "    No need for the dp array.\n",
    "\n",
    "    We just need to keep track of the current max_rob and the previous max_rob.\n",
    "'''\n",
    "\n",
    "class Solution:\n",
    "    def rob(self, nums: List[int]) -> int:\n",
    "        n = len(nums)\n",
    "        if n == 1:\n",
    "            return nums[0]\n",
    "        if n == 2:\n",
    "            return max(nums[0], nums[1])\n",
    "\n",
    "        oneHouseBack = nums[1]\n",
    "        twoHouseBack = nums[0]\n",
    "        max_rob = 0\n",
    "        previous_max_rob = max(nums[0], nums[1])\n",
    "\n",
    "        for i in range(2, n):\n",
    "            max_rob = max(nums[i]+twoHouseBack, oneHouseBack)\n",
    "            oneHouseBack = max_rob\n",
    "            twoHouseBack = previous_max_rob\n",
    "            previous_max_rob = max_rob\n",
    "\n",
    "        return max_rob\n",
    "\n",
    "\n",
    "test(Solution())"
   ]
  },
  {
   "cell_type": "code",
   "execution_count": null,
   "metadata": {},
   "outputs": [],
   "source": []
  }
 ],
 "metadata": {
  "kernelspec": {
   "display_name": "Python 3",
   "language": "python",
   "name": "python3"
  },
  "language_info": {
   "codemirror_mode": {
    "name": "ipython",
    "version": 3
   },
   "file_extension": ".py",
   "mimetype": "text/x-python",
   "name": "python",
   "nbconvert_exporter": "python",
   "pygments_lexer": "ipython3",
   "version": "3.10.11"
  }
 },
 "nbformat": 4,
 "nbformat_minor": 2
}
