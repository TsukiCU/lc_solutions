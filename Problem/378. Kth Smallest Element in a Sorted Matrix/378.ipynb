{
 "cells": [
  {
   "cell_type": "markdown",
   "metadata": {},
   "source": [
    "# Kth Smallest Element in a Sorted Matrix\n",
    "\n",
    "**Problem**:\n",
    "Given an `n x n` matrix where each row and column is sorted in ascending order, return the kth smallest element in the matrix. It's important to note that the requirement is for the kth smallest element in the sorted order, not the kth distinct element. The solution should have a memory complexity `better` than `O(n^2)`.\n",
    "\n",
    "**Examples**:\n",
    "\n",
    "1. **Input**:\n",
    "   matrix = `[[1,5,9],[10,11,13],[12,13,15]]`, `k = 8`\n",
    "   \n",
    "   **Output**: `13`\n",
    "   \n",
    "   **Explanation**:\n",
    "   The elements in the matrix are `[1,5,9,10,11,12,13,13,15]`, and the 8th smallest number is `13`.\n",
    "\n",
    "2. **Input**:\n",
    "   matrix = `[[−5]]`, `k = 1`\n",
    "   \n",
    "   **Output**: `−5`\n",
    "   \n",
    "   **Explanation**:\n",
    "   The only element in the matrix is `−5`, which is also the smallest.\n",
    "\n",
    "**Constraints**:\n",
    "- `n == matrix.length == matrix[i].length`\n",
    "- `1 <= n <= 300`\n",
    "- `-10^9 <= matrix[i][j] <= 10^9`\n",
    "- All the rows and columns of the matrix are sorted in non-decreasing order.\n",
    "- `1 <= k <= n^2`\n"
   ]
  },
  {
   "cell_type": "code",
   "execution_count": 1,
   "metadata": {},
   "outputs": [],
   "source": [
    "from typing import List\n",
    "import heapq"
   ]
  },
  {
   "cell_type": "code",
   "execution_count": 11,
   "metadata": {},
   "outputs": [
    {
     "data": {
      "text/plain": [
       "13"
      ]
     },
     "execution_count": 11,
     "metadata": {},
     "output_type": "execute_result"
    }
   ],
   "source": [
    "class Solution1:\n",
    "    def kthSmallest(self, matrix: List[List[int]], k: int) -> int:\n",
    "        heap = []\n",
    "        for i in range(len(matrix)):\n",
    "            for j in range(len(matrix[0])):\n",
    "                heapq.heappush(heap, matrix[i][j])\n",
    "        for i in range(k):\n",
    "            ret = heapq.heappop(heap)\n",
    "        return ret\n",
    "\n",
    "\n",
    "a = [[1,5,9],[10,11,13],[12,13,15]]\n",
    "s1 = Solution1()\n",
    "s1.kthSmallest(a, 8)"
   ]
  },
  {
   "cell_type": "code",
   "execution_count": 15,
   "metadata": {},
   "outputs": [
    {
     "data": {
      "text/plain": [
       "13"
      ]
     },
     "execution_count": 15,
     "metadata": {},
     "output_type": "execute_result"
    }
   ],
   "source": [
    "'''\n",
    "    Merge sorting (with a min heap)\n",
    "    Time complexity: O(Nlogk)\n",
    "'''\n",
    "\n",
    "class Solution2:\n",
    "    def kthSmallest(self, matrix: List[List[int]], k: int) -> int:\n",
    "        ret = 0\n",
    "        heap = [(num[0], x, 0) for x, num in enumerate(matrix)]  # x->k, y->in array\n",
    "        heapq.heapify(heap)\n",
    "        for i in range(k):\n",
    "            ret, x, y = heapq.heappop(heap)\n",
    "            if y < len(matrix[x])-1:\n",
    "                heapq.heappush(heap, (matrix[x][y+1], x, y+1))\n",
    "        return ret\n",
    "\n",
    "s2 = Solution2()\n",
    "s2.kthSmallest(a, 8)"
   ]
  },
  {
   "cell_type": "code",
   "execution_count": 43,
   "metadata": {},
   "outputs": [
    {
     "data": {
      "text/plain": [
       "1"
      ]
     },
     "execution_count": 43,
     "metadata": {},
     "output_type": "execute_result"
    }
   ],
   "source": [
    "'''\n",
    "    Binary Search. Time complexity O(nlog(r-l))  O(n) for find(), and the rest for binary search\n",
    "    This is really fast. Pay extra attention to how binary search is implemented.\n",
    "    More details on\n",
    "    https://leetcode.cn/problems/kth-smallest-element-in-a-sorted-matrix/solutions/311472/you-xu-ju-zhen-zhong-di-kxiao-de-yuan-su-by-leetco/\n",
    "'''\n",
    "\n",
    "class Solution3:\n",
    "    def kthSmallest(self, matrix: List[List[int]], k: int) -> int:\n",
    "        def find(mid):\n",
    "            ret = 0\n",
    "            i, j = len(matrix) - 1, 0\n",
    "            while j <= len(matrix[0]) - 1 and i >= 0:\n",
    "                if matrix[i][j] <= mid:\n",
    "                    ret += i+1\n",
    "                    j += 1\n",
    "                else:\n",
    "                    i -= 1\n",
    "\n",
    "            return ret\n",
    "\n",
    "        def binary():\n",
    "            low, high = matrix[0][0], matrix[-1][-1]\n",
    "\n",
    "            while low<high:\n",
    "                mid = (low + high) // 2\n",
    "                num = find(mid)\n",
    "                if num < k:\n",
    "                    low = mid\n",
    "                else:\n",
    "                    high = mid\n",
    "\n",
    "            return low\n",
    "\n",
    "        return binary()\n",
    "\n",
    "'''\n",
    "    num表示的是矩阵中<不小于>mid的元素个数。如果num < k, 那么意味着所求的值必定大于mid, 不可能等于mid.\n",
    "    因此需要将low设置为mid+1,以[确保]下一次循环中mid至少加1.\n",
    "'''\n",
    "\n",
    "a = [[1,2],[1,3]]\n",
    "s3 = Solution3()\n",
    "s3.kthSmallest(a, 1)"
   ]
  },
  {
   "cell_type": "code",
   "execution_count": 41,
   "metadata": {},
   "outputs": [
    {
     "data": {
      "text/plain": [
       "3"
      ]
     },
     "execution_count": 41,
     "metadata": {},
     "output_type": "execute_result"
    }
   ],
   "source": []
  },
  {
   "cell_type": "code",
   "execution_count": null,
   "metadata": {},
   "outputs": [],
   "source": []
  }
 ],
 "metadata": {
  "kernelspec": {
   "display_name": "Python 3",
   "language": "python",
   "name": "python3"
  },
  "language_info": {
   "codemirror_mode": {
    "name": "ipython",
    "version": 3
   },
   "file_extension": ".py",
   "mimetype": "text/x-python",
   "name": "python",
   "nbconvert_exporter": "python",
   "pygments_lexer": "ipython3",
   "version": "3.10.11"
  }
 },
 "nbformat": 4,
 "nbformat_minor": 2
}
