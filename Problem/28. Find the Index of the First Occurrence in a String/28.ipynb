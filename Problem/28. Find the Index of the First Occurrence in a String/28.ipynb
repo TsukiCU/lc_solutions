{
 "cells": [
  {
   "cell_type": "markdown",
   "metadata": {},
   "source": [
    "# Find the Index of the First Occurrence in a String\n",
    "\n",
    "**Problem**:\n",
    "Given two strings `needle` and `haystack`, return the index of the first occurrence of `needle` in `haystack`, or `-1` if `needle` is not part of `haystack`.\n",
    "\n",
    "**Examples**:\n",
    "\n",
    "1. **Input**:\n",
    "   `haystack = \"sadbutsad\"`, `needle = \"sad\"`\n",
    "   \n",
    "   **Output**: `0`\n",
    "   \n",
    "   **Explanation**:\n",
    "   \"sad\" occurs at index 0 and 6 in \"sadbutsad\". The first occurrence is at index 0, so the function returns 0.\n",
    "\n",
    "2. **Input**:\n",
    "   `haystack = \"leetcode\"`, `needle = \"leeto\"`\n",
    "   \n",
    "   **Output**: `-1`\n",
    "   \n",
    "   **Explanation**:\n",
    "   \"leeto\" does not occur in \"leetcode\", so the function returns -1.\n",
    "\n",
    "**Constraints**:\n",
    "- `1 <= haystack.length, needle.length <= 10^4`\n",
    "- `haystack` and `needle` consist of only lowercase English characters.\n"
   ]
  },
  {
   "cell_type": "code",
   "execution_count": 2,
   "metadata": {},
   "outputs": [],
   "source": [
    "def test(s):\n",
    "    test_cases = [\n",
    "        (\"sadbutsad\", \"sad\", 0),\n",
    "        (\"leetcode\", \"leeto\", -1)\n",
    "    ]\n",
    "    for haystack, needle, expected in test_cases:\n",
    "        result = s.strStr(haystack, needle)\n",
    "        assert result == expected, f\"wrong answer for haystack = {haystack}, needle = {needle}, expected = {expected}\"\n",
    "    print(\"Succeed\")\n",
    "\n",
    "# Example usage\n",
    "# s = Solution()\n",
    "# test(s)\n"
   ]
  },
  {
   "cell_type": "code",
   "execution_count": 3,
   "metadata": {},
   "outputs": [
    {
     "name": "stdout",
     "output_type": "stream",
     "text": [
      "Succeed\n"
     ]
    }
   ],
   "source": [
    "# lol\n",
    "\n",
    "class Solution:\n",
    "    def strStr(self, haystack: str, needle: str) -> int:\n",
    "        return haystack.find(needle)\n",
    "    \n",
    "test(Solution())"
   ]
  },
  {
   "cell_type": "code",
   "execution_count": null,
   "metadata": {},
   "outputs": [],
   "source": [
    "'''\n",
    "    Okay something serious. Tihs is the string matching problem.\n",
    "    \n",
    "    KMP algorithm\n",
    "'''\n",
    "\n",
    "class Solution:\n",
    "    def strStr(self, haystack: str, needle: str) -> int:\n",
    "        pass"
   ]
  }
 ],
 "metadata": {
  "kernelspec": {
   "display_name": "Python 3",
   "language": "python",
   "name": "python3"
  },
  "language_info": {
   "codemirror_mode": {
    "name": "ipython",
    "version": 3
   },
   "file_extension": ".py",
   "mimetype": "text/x-python",
   "name": "python",
   "nbconvert_exporter": "python",
   "pygments_lexer": "ipython3",
   "version": "3.9.6"
  }
 },
 "nbformat": 4,
 "nbformat_minor": 2
}
