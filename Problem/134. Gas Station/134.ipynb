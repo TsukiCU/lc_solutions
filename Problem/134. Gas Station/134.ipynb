{
 "cells": [
  {
   "cell_type": "markdown",
   "metadata": {},
   "source": [
    "# Gas Station\n",
    "\n",
    "**Problem**:\n",
    "Given `n` gas stations along a circular route, where `gas[i]` is the amount of gas at the `i`th station, and `cost[i]` is the gas cost to travel from the `i`th station to the next (`i+1`) station. Find the starting gas station's index to complete the circuit once in the clockwise direction, or return -1 if it's not possible.\n",
    "\n",
    "**Examples**:\n",
    "\n",
    "1. **Input**:\n",
    "   `gas = [1,2,3,4,5]`, `cost = [3,4,5,1,2]`\n",
    "   \n",
    "   **Output**: `3`\n",
    "   \n",
    "   **Explanation**:\n",
    "   Starting at station 3 with 4 units of gas, you can travel through stations 4, 0, 1, 2, and back to 3, successfully completing the circuit.\n",
    "\n",
    "**Constraints**:\n",
    "- `gas.length == cost.length == n`\n",
    "- `1 <= n <= 10^5`\n",
    "- `0 <= gas[i], cost[i] <= 10^4`\n"
   ]
  },
  {
   "cell_type": "code",
   "execution_count": 3,
   "metadata": {},
   "outputs": [],
   "source": [
    "from typing import List\n",
    "def test(s):\n",
    "    test_cases = [\n",
    "        ([1,2,3,4,5], [3,4,5,1,2], 3),\n",
    "        ([2,3,4], [3,4,3], -1)\n",
    "    ]\n",
    "    for gas, cost, expected in test_cases:\n",
    "        result = s.canCompleteCircuit(gas, cost)\n",
    "        assert result == expected, f\"wrong answer for gas = {gas} and cost = {cost}, expected = {expected}\"\n",
    "    print(\"Succeed\")\n"
   ]
  },
  {
   "cell_type": "code",
   "execution_count": 15,
   "metadata": {},
   "outputs": [
    {
     "name": "stdout",
     "output_type": "stream",
     "text": [
      "Succeed\n"
     ]
    }
   ],
   "source": [
    "\"\"\"\n",
    "If the car could make it from position x to position y, but could not make it to y+1,\n",
    "then any position between x and y are the same. Next iteration, start from y+1.\n",
    "\n",
    "That is basically the spirit, when reviewing start to write from scratch.\n",
    "I couldn't understand it myself after like 1 hour.\n",
    "\"\"\"\n",
    "\n",
    "class Solution:\n",
    "    def canCompleteCircuit(self, gas: List[int], cost: List[int]) -> int:\n",
    "        if len(gas) == 1:\n",
    "            return 0 if gas[0] >= cost[0] else -1\n",
    "        if sum(gas) < sum(cost):\n",
    "            return -1\n",
    "\n",
    "        remain = 0\n",
    "        fail = 0\n",
    "        n = len(gas)\n",
    "        pos = 0\n",
    "        last = 1  # x could not make it to y, start from y+1\n",
    "        while pos < n:\n",
    "            last = 1\n",
    "            fail = 0\n",
    "            remain = gas[pos]\n",
    "            last_cost = cost[pos]\n",
    "\n",
    "            if pos == n-1:   # the last one\n",
    "                if remain <= last_cost and \\\n",
    "                remain - last_cost + gas[0] - cost[0] <= 0:\n",
    "                    pos += 1\n",
    "                    continue\n",
    "            else:\n",
    "                if remain <= last_cost and \\\n",
    "                remain - last_cost + gas[pos+1] - cost[pos+1] <= 0:\n",
    "                    pos += 1\n",
    "                    continue\n",
    "            \n",
    "            # second part\n",
    "            for j in range(pos+1, n):\n",
    "                if remain < last_cost:\n",
    "                    last = j\n",
    "                    fail = 1\n",
    "                    break\n",
    "                remain += gas[j] - last_cost\n",
    "                last_cost = cost[j]\n",
    "\n",
    "            if fail:\n",
    "                pos += last - pos\n",
    "                continue\n",
    "\n",
    "            # first part\n",
    "            for j in range(pos):\n",
    "                if remain < last_cost:\n",
    "                    last = j\n",
    "                    fail = 1\n",
    "                    break\n",
    "                remain += gas[j] - last_cost\n",
    "                last_cost = cost[j]\n",
    "\n",
    "            if not fail:\n",
    "                return pos\n",
    "            \n",
    "            pos += last-pos\n",
    "        \n",
    "        return -1\n",
    "    \n",
    "\n",
    "test(Solution())"
   ]
  },
  {
   "cell_type": "code",
   "execution_count": null,
   "metadata": {},
   "outputs": [],
   "source": []
  }
 ],
 "metadata": {
  "kernelspec": {
   "display_name": "Python 3",
   "language": "python",
   "name": "python3"
  },
  "language_info": {
   "codemirror_mode": {
    "name": "ipython",
    "version": 3
   },
   "file_extension": ".py",
   "mimetype": "text/x-python",
   "name": "python",
   "nbconvert_exporter": "python",
   "pygments_lexer": "ipython3",
   "version": "3.9.6"
  }
 },
 "nbformat": 4,
 "nbformat_minor": 2
}
