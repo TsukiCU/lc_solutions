{
 "cells": [
  {
   "cell_type": "markdown",
   "metadata": {},
   "source": [
    "# Is Subsequence\n",
    "\n",
    "**Problem**:\n",
    "Determine if `s` is a subsequence of `t`. A subsequence is formed by deleting some (or no) characters from the original string without changing the relative order of the remaining characters.\n",
    "\n",
    "**Examples**:\n",
    "\n",
    "1. **Input**:\n",
    "   `s = \"abc\"`, `t = \"ahbgdc\"`\n",
    "   \n",
    "   **Output**: `true`\n",
    "   \n",
    "   **Explanation**:\n",
    "   \"abc\" is a subsequence of \"ahbgdc\" because it appears in order, even though not consecutively.\n",
    "\n",
    "2. **Input**:\n",
    "   `s = \"axc\"`, `t = \"ahbgdc\"`\n",
    "   \n",
    "   **Output**: `false`\n",
    "   \n",
    "   **Explanation**:\n",
    "   \"axc\" is not a subsequence of \"ahbgdc\" because the characters do not appear in order in `t`.\n",
    "\n",
    "**Constraints**:\n",
    "- `0 <= s.length <= 100`\n",
    "- `0 <= t.length <= 10^4`\n",
    "- `s` and `t` consist of only lowercase English letters.\n",
    "\n",
    "### Follow up\n",
    "Suppose there are lots of incoming s, say s1, s2, ..., sk where k >= 109, and you want to check one by one to see if t has its subsequence. In this scenario, how would you change your code?"
   ]
  },
  {
   "cell_type": "code",
   "execution_count": 2,
   "metadata": {},
   "outputs": [],
   "source": [
    "def test(s):\n",
    "    test_cases = [\n",
    "        (\"abc\", \"ahbgdc\", True),\n",
    "        (\"axc\", \"ahbgdc\", False),\n",
    "        (\"b\", \"abc\", True),\n",
    "        (\"bb\", \"b\", False),\n",
    "        (\"\", \"any\", True)\n",
    "    ]\n",
    "    for s_input, t_input, expected in test_cases:\n",
    "        result = s.isSubsequence(s_input, t_input)\n",
    "        assert result == expected, f\"wrong answer for s = {s_input} and t = {t_input}, expected = {expected}\"\n",
    "    print(\"Succeed\")"
   ]
  },
  {
   "cell_type": "code",
   "execution_count": 12,
   "metadata": {},
   "outputs": [
    {
     "name": "stdout",
     "output_type": "stream",
     "text": [
      "Succeed\n"
     ]
    },
    {
     "data": {
      "text/plain": [
       "True"
      ]
     },
     "execution_count": 12,
     "metadata": {},
     "output_type": "execute_result"
    }
   ],
   "source": [
    "class Solution:\n",
    "    def isSubsequence(self, s: str, t: str) -> bool:\n",
    "        # (0). empty string is subsequence to every string.\n",
    "        if len(s) == 0:\n",
    "            return True\n",
    "        left, right = 0, len(t)-1\n",
    "        i, j = 0, len(s)-1\n",
    "\n",
    "        # (1). should be left [<=] right\n",
    "        while left <= right:\n",
    "            # (2). Debug for 20 minutes. 😠\n",
    "            # Must add this conditional sentence!\n",
    "            # case: \"bb\", \"b\", False ; \"b\", \"b\", True\n",
    "            if right-left < j-i:\n",
    "                return False\n",
    "            if t[left] == s[i]:\n",
    "                i += 1\n",
    "            left += 1\n",
    "            if t[right] == s[j]:\n",
    "                j -= 1\n",
    "            right -= 1\n",
    "            # (3). should be i [>] j\n",
    "            if i > j:\n",
    "                return True\n",
    "        return False\n",
    "\n",
    "\n",
    "test(Solution())"
   ]
  },
  {
   "cell_type": "code",
   "execution_count": 13,
   "metadata": {},
   "outputs": [
    {
     "name": "stdout",
     "output_type": "stream",
     "text": [
      "Succeed\n"
     ]
    }
   ],
   "source": [
    "\"\"\"\n",
    "Better dual pointers. Reminds me of greedy.\n",
    "\"\"\"\n",
    "\n",
    "class Solution:\n",
    "    def isSubsequence(self, s: str, t: str) -> bool:\n",
    "        m, n = len(s), len(t)\n",
    "        i, j = 0, 0\n",
    "        while i < m and j < n:\n",
    "            if t[j] == s[i]:\n",
    "                i += 1\n",
    "            j += 1\n",
    "        return i == m\n",
    "    \n",
    "\n",
    "test(Solution())"
   ]
  },
  {
   "cell_type": "code",
   "execution_count": null,
   "metadata": {},
   "outputs": [],
   "source": [
    "\"\"\"\n",
    "I would never thought of using dp to solve this shit.\n",
    "\"\"\"\n",
    "\n",
    "class Solution:\n",
    "    def isSubsequence(self, s: str, t: str) -> bool:\n",
    "        pass"
   ]
  }
 ],
 "metadata": {
  "kernelspec": {
   "display_name": "Python 3",
   "language": "python",
   "name": "python3"
  },
  "language_info": {
   "codemirror_mode": {
    "name": "ipython",
    "version": 3
   },
   "file_extension": ".py",
   "mimetype": "text/x-python",
   "name": "python",
   "nbconvert_exporter": "python",
   "pygments_lexer": "ipython3",
   "version": "3.9.6"
  }
 },
 "nbformat": 4,
 "nbformat_minor": 2
}
