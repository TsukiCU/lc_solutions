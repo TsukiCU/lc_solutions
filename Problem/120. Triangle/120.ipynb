{
 "cells": [
  {
   "attachments": {
    "image.png": {
     "image/png": "[encoded data removed]"
    }
   },
   "cell_type": "markdown",
   "metadata": {},
   "source": [
    "# Triangle\n",
    "\n",
    "**Problem**:\n",
    "Given a triangle represented as a nested array, find the minimum path sum from top to bottom. At each step, you may move to an adjacent number on the row below. Specifically, if you are on index `i` on the current row, you can move to either index `i` or index `i + 1` on the next row.\n",
    "\n",
    "**Examples**:\n",
    "\n",
    "1. **Input**:\n",
    "   `triangle = [[2],[3,4],[6,5,7],[4,1,8,3]]`\n",
    "   \n",
    "   **Output**: `11`\n",
    "   \n",
    "   **Explanation**:\n",
    "   The triangle looks like:\n",
    "\n",
    "![image.png](attachment:image.png)\n",
    "\n",
    "\n",
    "The minimum path sum from top to bottom is `2 + 3 + 5 + 1 = 11`.\n",
    "\n",
    "2. **Input**:\n",
    "`triangle = [[-10]]`\n",
    "\n",
    "**Output**: `-10`\n",
    "\n",
    "**Explanation**:\n",
    "There is only one number in this triangle.\n",
    "\n",
    "**Constraints**:\n",
    "- `1 <= triangle.length <= 200`\n",
    "- `triangle[0].length == 1`\n",
    "- `triangle[i].length == triangle[i - 1].length + 1`\n",
    "- `-10^4 <= triangle[i][j] <= 10^4`\n",
    "\n",
    "**Follow up**:\n",
    "Could you solve this using only `O(n)` extra space, where `n` is the total number of rows in the triangle?\n",
    "\n"
   ]
  },
  {
   "cell_type": "code",
   "execution_count": 2,
   "metadata": {},
   "outputs": [],
   "source": [
    "from typing import List\n",
    "def test(s):\n",
    "    test_cases = [\n",
    "        ([[2],[3,4],[6,5,7],[4,1,8,3]], 11),\n",
    "        ([[-10]], -10)\n",
    "    ]\n",
    "    for i, (triangle, expected) in enumerate(test_cases):\n",
    "        assert s.minimumTotal(triangle) == expected, f\"wrong answer at test case {i + 1}: triangle = {triangle}\"\n",
    "    print(\"Succeed\")\n",
    "\n",
    "# Example usage\n",
    "# s = Solution()\n",
    "# test(s)\n"
   ]
  },
  {
   "cell_type": "code",
   "execution_count": 13,
   "metadata": {},
   "outputs": [
    {
     "name": "stdout",
     "output_type": "stream",
     "text": [
      "Succeed\n"
     ]
    }
   ],
   "source": [
    "class Solution:\n",
    "    def minimumTotal(self, triangle: List[List[int]]) -> int:\n",
    "        dp = [[0 for _ in row] for row in triangle]\n",
    "        dp[0][0] = triangle[0][0]\n",
    "\n",
    "        for i in range(1, len(dp)):\n",
    "            for j, num in enumerate(dp[i]):\n",
    "                if j == 0:\n",
    "                    dp[i][j] = dp[i-1][0] + triangle[i][j]\n",
    "                elif j == len(dp[i]) - 1:\n",
    "                    dp[i][j] = dp[i-1][-1] + triangle[i][j]\n",
    "                else:\n",
    "                    dp[i][j] = min(dp[i-1][j], dp[i-1][j-1]) + triangle[i][j]\n",
    "\n",
    "        return min(dp[-1])\n",
    "\n",
    "\n",
    "test(Solution())"
   ]
  },
  {
   "cell_type": "code",
   "execution_count": 4,
   "metadata": {},
   "outputs": [
    {
     "data": {
      "text/plain": [
       "[[0], [0, 0], [0, 0, 0], [0, 0, 0, 0]]"
      ]
     },
     "execution_count": 4,
     "metadata": {},
     "output_type": "execute_result"
    }
   ],
   "source": [
    "a = [[2],[3,4],[6,5,7],[4,1,8,3]]\n",
    "\n",
    "[[0 for _ in row] for row in a]"
   ]
  },
  {
   "cell_type": "code",
   "execution_count": null,
   "metadata": {},
   "outputs": [],
   "source": []
  }
 ],
 "metadata": {
  "kernelspec": {
   "display_name": "Python 3",
   "language": "python",
   "name": "python3"
  },
  "language_info": {
   "codemirror_mode": {
    "name": "ipython",
    "version": 3
   },
   "file_extension": ".py",
   "mimetype": "text/x-python",
   "name": "python",
   "nbconvert_exporter": "python",
   "pygments_lexer": "ipython3",
   "version": "3.10.11"
  }
 },
 "nbformat": 4,
 "nbformat_minor": 2
}
