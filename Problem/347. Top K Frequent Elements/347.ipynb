{
 "cells": [
  {
   "cell_type": "markdown",
   "metadata": {},
   "source": [
    "# Top K Frequent Elements\n",
    "\n",
    "**Problem**:\n",
    "Given an integer array `nums` and an integer `k`, return the `k` most frequent elements. The answer may be returned in any order.\n",
    "\n",
    "**Examples**:\n",
    "\n",
    "1. **Input**: `nums = [1,1,1,2,2,3]`, `k = 2`\n",
    "   **Output**: `[1,2]`\n",
    "   **Explanation**: The two most frequent elements are `1` and `2`.\n",
    "\n",
    "2. **Input**: `nums = [1]`, `k = 1`\n",
    "   **Output**: `[1]`\n",
    "   **Explanation**: The most frequent element is `1`.\n",
    "\n",
    "**Constraints**:\n",
    "- `1 <= nums.length <= 10^5`\n",
    "- `-10^4 <= nums[i] <= 10^4`\n",
    "- `k` is in the range `[1, the number of unique elements in the array]`.\n",
    "- It is guaranteed that the answer is unique.\n",
    "\n",
    "**Advancement**:\n",
    "The algorithm should have a time complexity less than O(NlogN)\n"
   ]
  },
  {
   "cell_type": "code",
   "execution_count": 2,
   "metadata": {},
   "outputs": [],
   "source": [
    "from typing import List\n",
    "import heapq"
   ]
  },
  {
   "cell_type": "code",
   "execution_count": 37,
   "metadata": {},
   "outputs": [
    {
     "data": {
      "text/plain": [
       "[-1, 2]"
      ]
     },
     "execution_count": 37,
     "metadata": {},
     "output_type": "execute_result"
    }
   ],
   "source": [
    "'''\n",
    "    Time complexity: O(NlogK)\n",
    "    Beat 99.22% of users using Pwthon3\n",
    "'''\n",
    "\n",
    "class Solution:\n",
    "    def topKFrequent(self, nums: List[int], k: int) -> List[int]:\n",
    "        fr = {}\n",
    "        for i in nums:\n",
    "            if i in fr:\n",
    "                fr[i] += 1\n",
    "            else:\n",
    "                fr[i] = 1   # this is O(N), to create this dictionary\n",
    "\n",
    "        # You will find it's not very easy to replace this with a simple loop\n",
    "        heap = []\n",
    "\n",
    "        for val, key in fr.items():     ## pay extra notice to this (val, key) pair shit. fking maddening.\n",
    "            if len(heap) < k:\n",
    "                heapq.heappush(heap, (key, val))    ## This is O(logK) for every element.\n",
    "\n",
    "            else:\n",
    "                if key > heap[0][0]:\n",
    "                    heapq.heappop(heap)\n",
    "                    heapq.heappush(heap, (key, val))\n",
    "\n",
    "        return [key for val, key in heap]\n",
    "\n",
    "s = Solution()\n",
    "nums = [4, -1, 2, -1, 2, 3]\n",
    "k = 2\n",
    "s.topKFrequent(nums, k)\n"
   ]
  },
  {
   "cell_type": "code",
   "execution_count": 20,
   "metadata": {},
   "outputs": [
    {
     "data": {
      "text/plain": [
       "1"
      ]
     },
     "execution_count": 20,
     "metadata": {},
     "output_type": "execute_result"
    }
   ],
   "source": []
  },
  {
   "cell_type": "markdown",
   "metadata": {},
   "source": []
  }
 ],
 "metadata": {
  "kernelspec": {
   "display_name": "Python 3",
   "language": "python",
   "name": "python3"
  },
  "language_info": {
   "codemirror_mode": {
    "name": "ipython",
    "version": 3
   },
   "file_extension": ".py",
   "mimetype": "text/x-python",
   "name": "python",
   "nbconvert_exporter": "python",
   "pygments_lexer": "ipython3",
   "version": "3.10.11"
  }
 },
 "nbformat": 4,
 "nbformat_minor": 2
}
