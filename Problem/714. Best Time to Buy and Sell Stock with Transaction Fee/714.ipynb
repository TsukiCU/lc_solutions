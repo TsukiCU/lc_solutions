{
 "cells": [
  {
   "cell_type": "markdown",
   "metadata": {},
   "source": [
    "# Best Time to Buy and Sell Stock with Transaction Fee\n",
    "\n",
    "**Problem**:\n",
    "Given an array `prices` where `prices[i]` is the price of a given stock on the `i`th day, and an integer `fee` representing a transaction fee, calculate the maximum profit achievable under the condition that the transaction fee is paid for each transaction.\n",
    "\n",
    "**Note**:\n",
    "- Multiple transactions can be completed, but not simultaneously (you must sell before buying again).\n",
    "- The transaction fee is charged once per transaction (both for buying and selling).\n",
    "\n",
    "**Examples**:\n",
    "\n",
    "1. **Input**:\n",
    "   `prices = [1,3,2,8,4,9]`, `fee = 2`\n",
    "   \n",
    "   **Output**: `8`\n",
    "   \n",
    "   **Explanation**:\n",
    "   Maximum profit is achieved by:\n",
    "   - Buying at `prices[0] = 1`\n",
    "   - Selling at `prices[3] = 8`\n",
    "   - Buying at `prices[4] = 4`\n",
    "   - Selling at `prices[5] = 9`\n",
    "   The total profit is `((8 - 1) - 2) + ((9 - 4) - 2) = 8`.\n",
    "\n",
    "2. **Input**:\n",
    "   `prices = [1,3,7,5,10,3]`, `fee = 3`\n",
    "   \n",
    "   **Output**: `6`\n",
    "   \n",
    "   **Explanation**:\n",
    "   Maximum profit is achieved by:\n",
    "   - Buying at `prices[0] = 1`\n",
    "   - Selling at `prices[2] = 7`\n",
    "   - Buying at `prices[3] = 5`\n",
    "   - Selling at `prices[4] = 10`\n",
    "   The total profit is `(10 - 1) - 3) = 6`.\n",
    "\n",
    "**Constraints**:\n",
    "- `1 <= prices.length <= 5 * 10^4`\n",
    "- `1 <= prices[i] < 5 * 10^4`\n",
    "- `0 <= fee < 5 * 10^4`\n"
   ]
  },
  {
   "cell_type": "code",
   "execution_count": 2,
   "metadata": {},
   "outputs": [],
   "source": [
    "from typing import List\n",
    "def test(s):\n",
    "    test_cases = [\n",
    "        ([1,3,2,8,4,9], 2, 8),\n",
    "        ([1,3,7,5,10,3], 3, 6)\n",
    "    ]\n",
    "    for i, (prices, fee, expected) in enumerate(test_cases):\n",
    "        assert s.maxProfit(prices, fee) == expected, f\"wrong answer at test case {i + 1}: prices = {prices}, fee = {fee}\"\n",
    "    print(\"Succeed\")\n",
    "\n",
    "# Example usage\n",
    "# s = Solution()\n",
    "# test(s)\n"
   ]
  },
  {
   "cell_type": "code",
   "execution_count": 5,
   "metadata": {},
   "outputs": [
    {
     "name": "stdout",
     "output_type": "stream",
     "text": [
      "Succeed\n"
     ]
    }
   ],
   "source": [
    "class Solution:\n",
    "    def maxProfit(self, prices: List[int], fee: int) -> int:\n",
    "        n = len(prices)\n",
    "        if n == 1:\n",
    "            return 0\n",
    "\n",
    "        dp = [[0 for _ in range(n)] for _ in range(2)]\n",
    "        dp[1][0] = -prices[0]\n",
    "\n",
    "        for i in range(1, n):\n",
    "            dp[0][i] = max(dp[0][i-1], dp[1][i-1]+prices[i]-fee)\n",
    "            dp[1][i] = max(dp[1][i-1], dp[0][i-1]-prices[i])\n",
    "\n",
    "        return max(dp[0])\n",
    "\n",
    "test(Solution())"
   ]
  },
  {
   "cell_type": "code",
   "execution_count": 4,
   "metadata": {},
   "outputs": [
    {
     "name": "stdout",
     "output_type": "stream",
     "text": [
      "Succeed\n"
     ]
    }
   ],
   "source": [
    "'''\n",
    "    NOTE: Take [1,3,7,5,10,3] as example\n",
    "'''\n",
    "\n",
    "class Solution:\n",
    "    def maxProfit(self, prices: List[int], fee: int) -> int:\n",
    "        n = len(prices)\n",
    "        if n == 1:\n",
    "            return 0\n",
    "        hold = prices[0]\n",
    "        profit = 0\n",
    "\n",
    "        for i in range(1, n):\n",
    "            if prices[i] < hold:\n",
    "                hold = prices[i]\n",
    "            elif prices[i] - fee > hold:\n",
    "                profit += prices[i] - fee - hold\n",
    "                hold = prices[i] - fee  # this is essential\n",
    "\n",
    "        return profit\n",
    "\n",
    "\n",
    "test(Solution())"
   ]
  },
  {
   "cell_type": "code",
   "execution_count": null,
   "metadata": {},
   "outputs": [],
   "source": []
  }
 ],
 "metadata": {
  "kernelspec": {
   "display_name": "Python 3",
   "language": "python",
   "name": "python3"
  },
  "language_info": {
   "codemirror_mode": {
    "name": "ipython",
    "version": 3
   },
   "file_extension": ".py",
   "mimetype": "text/x-python",
   "name": "python",
   "nbconvert_exporter": "python",
   "pygments_lexer": "ipython3",
   "version": "3.10.11"
  }
 },
 "nbformat": 4,
 "nbformat_minor": 2
}
