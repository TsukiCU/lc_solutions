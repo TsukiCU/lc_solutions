{
 "cells": [
  {
   "attachments": {
    "image.png": {
     "image/png": "[encoded data removed]"
    }
   },
   "cell_type": "markdown",
   "metadata": {},
   "source": [
    "## 77 Ordered List\n",
    "\n",
    "Given the head node of a linked table, sort it in ascending order and return the sorted linked table.\n",
    "\n",
    "### Example\n",
    "\n",
    "![image.png](attachment:image.png)\n",
    "\n",
    "\n",
    "+ Input：head = [4,2,1,3]\n",
    "+ Output: [1,2,3,4]\n",
    "\n",
    "\n",
    "**Advanced** : O(nlogn) time complexity, constant space complexity"
   ]
  },
  {
   "cell_type": "code",
   "execution_count": 1,
   "metadata": {},
   "outputs": [],
   "source": [
    "from typing import List"
   ]
  },
  {
   "cell_type": "markdown",
   "metadata": {},
   "source": []
  },
  {
   "cell_type": "code",
   "execution_count": 2,
   "metadata": {},
   "outputs": [
    {
     "name": "stdout",
     "output_type": "stream",
     "text": [
      "4 2 1 3 \n"
     ]
    }
   ],
   "source": [
    "# Definition for singly-linked list.\n",
    "class ListNode:\n",
    "    def __init__(self, val=0, next=None):\n",
    "        self.val = val\n",
    "        self.next = next\n",
    "\n",
    "\n",
    "class LinkedList:\n",
    "    def __init__(self):\n",
    "        self.head = None\n",
    "        self.tail = None\n",
    "\n",
    "    def append(self, val):\n",
    "        node = ListNode(val)\n",
    "        if self.head is None:\n",
    "            self.head = node\n",
    "            self.tail = node\n",
    "            return\n",
    "        self.tail.next = node\n",
    "        self.tail = node\n",
    "\n",
    "    def print_list(self):\n",
    "        cur_node = self.head\n",
    "        while cur_node:\n",
    "            print(cur_node.val, end=\" \")\n",
    "            cur_node = cur_node.next\n",
    "        print()\n",
    "\n",
    "\n",
    "llist = LinkedList()\n",
    "llist.append(4)\n",
    "llist.append(2)\n",
    "llist.append(1)\n",
    "llist.append(3)\n",
    "\n",
    "llist.print_list()"
   ]
  },
  {
   "cell_type": "code",
   "execution_count": 13,
   "metadata": {},
   "outputs": [],
   "source": [
    "class Solution:\n",
    "    def sortList(self, head: ListNode) -> ListNode:\n",
    "        def sortfunc(head:ListNode, tail:ListNode) -> ListNode:\n",
    "            if not head or head.next == tail:\n",
    "                return head\n",
    "            slow = fast = head\n",
    "            copy = head\n",
    "            count = 0\n",
    "            while fast!=tail:\n",
    "                count += 1\n",
    "                if count >= 5:\n",
    "                    break\n",
    "                slow = slow.next\n",
    "                fast = fast.next\n",
    "                if fast!=tail:\n",
    "                    fast = fast.next\n",
    "            mid = slow\n",
    "            print(f\"mid value is :{mid.val}\")\n",
    "            return merge(sortfunc(head, mid), sortfunc(mid, tail))\n",
    "\n",
    "        def merge(head1:ListNode, head2:ListNode):\n",
    "            dummy = ListNode(0)\n",
    "            temp, temp1, temp2 = dummy, head1, head2\n",
    "\n",
    "            while temp1 and temp2:\n",
    "                if temp1.val <= temp2.val:\n",
    "                    temp.next = temp1\n",
    "                    temp1 = temp1.next\n",
    "                else:\n",
    "                    temp.next = temp2\n",
    "                    temp2 = temp2.next\n",
    "                temp = temp.next\n",
    "                if temp1:\n",
    "                    temp.next = temp1\n",
    "                elif temp2:\n",
    "                    temp.next = temp2\n",
    "            return dummy.nex\n",
    "\n",
    "        return sortfunc(head, None)\n",
    "\n",
    "l1 = LinkedList()\n",
    "l1.append(4)\n",
    "l1.append(2)\n",
    "l1.append(1)\n",
    "l1.append(3)\n",
    "s = Solution()\n",
    "a = s.sortList(l1.head)\n",
    "# while a:\n",
    "#     print(a.val)\n",
    "#     a = a.next"
   ]
  },
  {
   "cell_type": "code",
   "execution_count": null,
   "metadata": {},
   "outputs": [],
   "source": []
  },
  {
   "cell_type": "code",
   "execution_count": null,
   "metadata": {},
   "outputs": [],
   "source": []
  }
 ],
 "metadata": {
  "kernelspec": {
   "display_name": "Python 3",
   "language": "python",
   "name": "python3"
  },
  "language_info": {
   "codemirror_mode": {
    "name": "ipython",
    "version": 3
   },
   "file_extension": ".py",
   "mimetype": "text/x-python",
   "name": "python",
   "nbconvert_exporter": "python",
   "pygments_lexer": "ipython3",
   "version": "3.10.11"
  }
 },
 "nbformat": 4,
 "nbformat_minor": 2
}
