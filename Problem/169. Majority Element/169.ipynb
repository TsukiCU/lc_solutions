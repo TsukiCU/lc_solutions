{
 "cells": [
  {
   "cell_type": "markdown",
   "metadata": {},
   "source": [
    "# Majority Element\n",
    "\n",
    "**Problem**:\n",
    "Given an array `nums` of size `n`, return the majority element. The majority element is the one that appears more than ⌊n / 2⌋ times. It is guaranteed that the majority element always exists in the array.\n",
    "\n",
    "**Examples**:\n",
    "\n",
    "1. **Input**:\n",
    "   `nums = [3,2,3]`\n",
    "   \n",
    "   **Output**: `3`\n",
    "   \n",
    "   **Explanation**:\n",
    "   3 appears more than ⌊3 / 2⌋ = 1 times.\n",
    "\n",
    "2. **Input**:\n",
    "   `nums = [2,2,1,1,1,2,2]`\n",
    "   \n",
    "   **Output**: `2`\n",
    "   \n",
    "   **Explanation**:\n",
    "   2 appears more than ⌊7 / 2⌋ = 3 times.\n",
    "\n",
    "**Constraints**:\n",
    "- `n == nums.length`\n",
    "- `1 <= n <= 5 * 10^4`\n",
    "- `-10^9 <= nums[i] <= 10^9`\n",
    "\n",
    "### **Follow-up**:\n",
    "Can you solve the problem in linear time and in O(1) space?\n"
   ]
  },
  {
   "cell_type": "code",
   "execution_count": 4,
   "metadata": {},
   "outputs": [],
   "source": [
    "from typing import List\n",
    "def test(s):\n",
    "    test_cases = [\n",
    "        ([3,2,3], 3),\n",
    "        ([2,2,1,1,1,2,2], 2),\n",
    "        ([1], 1)\n",
    "    ]\n",
    "    for i, (nums, expected) in enumerate(test_cases):\n",
    "        assert s.majorityElement(nums) == expected, f\"wrong answer at test case {i + 1}: nums = {nums}\"\n",
    "    print(\"Succeed\")\n",
    "\n",
    "# Example usage\n",
    "# s = Solution()\n",
    "# test(s)\n"
   ]
  },
  {
   "cell_type": "code",
   "execution_count": 9,
   "metadata": {},
   "outputs": [
    {
     "name": "stdout",
     "output_type": "stream",
     "text": [
      "Succeed\n"
     ]
    }
   ],
   "source": [
    "'''\n",
    "    Hashmap is the easiest to think of but it's o(n) in space.\n",
    "\n",
    "    O(n) in time. It's not very efficient tho. In best cases n/2 conditional statements is needed and n if worst.\n",
    "'''\n",
    "\n",
    "class Solution:\n",
    "    def majorityElement(self, nums: List[int]) -> int:\n",
    "        n = len(nums)\n",
    "        if n == 1:\n",
    "            return nums[0]\n",
    "        thre = n/2\n",
    "        h = {}\n",
    "        for num in nums:\n",
    "            if num in h:\n",
    "                h[num] += 1\n",
    "                if h[num] > thre:\n",
    "                    return num\n",
    "            else:\n",
    "                h[num] = 1\n",
    "\n",
    "\n",
    "test(Solution())"
   ]
  },
  {
   "cell_type": "code",
   "execution_count": 15,
   "metadata": {},
   "outputs": [
    {
     "name": "stdout",
     "output_type": "stream",
     "text": [
      "Succeed\n"
     ]
    }
   ],
   "source": [
    "'''\n",
    "    YOU HAVE GOT TO BE KIDDING ME.\n",
    "\n",
    "    THIS IS O(N) IN TIME AND O(1) IN SPACE. WHAT THE FUCK.\n",
    "'''\n",
    "import random\n",
    "class Solution:\n",
    "    def majorityElement(self, nums: List[int]) -> int:\n",
    "        def is_majority(n):\n",
    "            return nums.count(n) > len(nums)/2\n",
    "        while(True):\n",
    "            n = random.choice(nums)\n",
    "            if is_majority(n):\n",
    "                return n\n",
    "\n",
    "test(Solution())"
   ]
  },
  {
   "cell_type": "code",
   "execution_count": 16,
   "metadata": {},
   "outputs": [
    {
     "name": "stdout",
     "output_type": "stream",
     "text": [
      "Succeed\n"
     ]
    }
   ],
   "source": [
    "'''\n",
    "    Boyer-Moore majority vote algorithm\n",
    "\n",
    "    The Boyer-Moore majority vote algorithm is an algorithm for finding the majority\n",
    "    of a sequence of elements using linear time and a constant number of words of memory.  -- Wikipedia\n",
    "\n",
    "    consider the mode(众数) is 1 and other numbers are -1. Sum of the array is greater than 0.\n",
    "'''\n",
    "\n",
    "class Solution:\n",
    "    def majorityElement(self, nums: List[int]) -> int:\n",
    "        cur = nums[0]  # could be any number\n",
    "        count = 0\n",
    "\n",
    "        for n in nums:\n",
    "            if count == 0:\n",
    "                cur = n\n",
    "                count += 1\n",
    "            elif n == cur:\n",
    "                count += 1\n",
    "            else:\n",
    "                count -= 1\n",
    "\n",
    "        return cur\n",
    "\n",
    "\n",
    "test(Solution())\n"
   ]
  },
  {
   "cell_type": "code",
   "execution_count": null,
   "metadata": {},
   "outputs": [],
   "source": []
  }
 ],
 "metadata": {
  "kernelspec": {
   "display_name": "Python 3",
   "language": "python",
   "name": "python3"
  },
  "language_info": {
   "codemirror_mode": {
    "name": "ipython",
    "version": 3
   },
   "file_extension": ".py",
   "mimetype": "text/x-python",
   "name": "python",
   "nbconvert_exporter": "python",
   "pygments_lexer": "ipython3",
   "version": "3.10.11"
  }
 },
 "nbformat": 4,
 "nbformat_minor": 2
}
