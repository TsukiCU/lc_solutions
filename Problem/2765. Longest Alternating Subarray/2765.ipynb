{
 "cells": [
  {
   "cell_type": "markdown",
   "metadata": {},
   "source": [
    "# Longest Alternating Subarray\n",
    "\n",
    "**Problem**:\n",
    "Given a 0-indexed integer array `nums`, identify the longest alternating subarray. A subarray `s` of length `m` is called alternating if:\n",
    "- `m` is greater than 1.\n",
    "- `s1 = s0 + 1`.\n",
    "- The subarray alternates between increments and decrements, i.e., `s1 - s0 = 1`, `s2 - s1 = -1`, and so on, with `s[m - 1] - s[m - 2] = (-1)^(m)`.\n",
    "Return the maximum length of all such alternating subarrays in `nums`, or -1 if no such subarray exists.\n",
    "\n",
    "**Examples**:\n",
    "\n",
    "1. **Input**:\n",
    "   `nums = [2,3,4,3,4]`\n",
    "   \n",
    "   **Output**: `4`\n",
    "   \n",
    "   **Explanation**:\n",
    "   The longest alternating subarray is [3,4,3,4], which is of length 4.\n",
    "\n",
    "2. **Input**:\n",
    "   `nums = [4,5,6]`\n",
    "   \n",
    "   **Output**: `2`\n",
    "   \n",
    "   **Explanation**:\n",
    "   [4,5] and [5,6] are the only alternating subarrays, both of length 2.\n",
    "\n",
    "**Constraints**:\n",
    "- `2 <= nums.length <= 100`\n",
    "- `1 <= nums[i] <= 10^4`\n"
   ]
  },
  {
   "cell_type": "code",
   "execution_count": 8,
   "metadata": {},
   "outputs": [],
   "source": [
    "from typing import List\n",
    "def test(s):\n",
    "    test_cases = [\n",
    "        ([2,3,4,3,4], 4),\n",
    "        ([4,5,6], 2),\n",
    "        ([21,9,5], -1)\n",
    "    ]\n",
    "    for i, (nums, expected) in enumerate(test_cases):\n",
    "        assert s.alternatingSubarray(nums) == expected, f\"wrong answer at test case {i + 1}: nums = {nums}\"\n",
    "    print(\"Succeed\")\n",
    "\n",
    "# Example usage\n",
    "# s = Solution()\n",
    "# test(s)\n"
   ]
  },
  {
   "cell_type": "code",
   "execution_count": 16,
   "metadata": {},
   "outputs": [
    {
     "name": "stdout",
     "output_type": "stream",
     "text": [
      "Succeed\n"
     ]
    }
   ],
   "source": [
    "'''\n",
    "    This is stupid but effective and easy to think of.\n",
    "'''\n",
    "\n",
    "class Solution:\n",
    "    def alternatingSubarray(self, nums: List[int]) -> int:\n",
    "        n = len(nums)\n",
    "        max = -1\n",
    "        cur_len = 0\n",
    "        for i in range(n):\n",
    "            if i+1<n and nums[i]==nums[i+1]-1:\n",
    "                cur = nums[i]\n",
    "                cur_len = 0\n",
    "                for j in range(i, n):\n",
    "                    if (j-i) % 2 == 0:\n",
    "                        if nums[j] == cur:\n",
    "                            cur_len += 1\n",
    "                        else:\n",
    "                            break\n",
    "                    else:\n",
    "                        if nums[j] == cur + 1:\n",
    "                            cur_len += 1\n",
    "                        else:\n",
    "                            break\n",
    "                if max < cur_len:\n",
    "                    max = cur_len\n",
    "\n",
    "        return max\n",
    "\n",
    "\n",
    "test(Solution())"
   ]
  },
  {
   "cell_type": "code",
   "execution_count": null,
   "metadata": {},
   "outputs": [],
   "source": []
  }
 ],
 "metadata": {
  "kernelspec": {
   "display_name": "Python 3",
   "language": "python",
   "name": "python3"
  },
  "language_info": {
   "codemirror_mode": {
    "name": "ipython",
    "version": 3
   },
   "file_extension": ".py",
   "mimetype": "text/x-python",
   "name": "python",
   "nbconvert_exporter": "python",
   "pygments_lexer": "ipython3",
   "version": "3.10.11"
  }
 },
 "nbformat": 4,
 "nbformat_minor": 2
}
