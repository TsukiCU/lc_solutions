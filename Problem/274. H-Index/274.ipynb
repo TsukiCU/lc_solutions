{
 "cells": [
  {
   "cell_type": "markdown",
   "metadata": {},
   "source": [
    "# H-Index\n",
    "\n",
    "**Problem**:\n",
    "Given an array of integers `citations`, where `citations[i]` represents the number of citations a researcher received for their `i`th paper, determine the researcher's h-index.\n",
    "\n",
    "The h-index is defined as the maximum value `h` such that the researcher has published at least `h` papers that have each been cited at least `h` times.\n",
    "\n",
    "**Examples**:\n",
    "\n",
    "1. **Input**:\n",
    "   `citations = [3,0,6,1,5]`\n",
    "   \n",
    "   **Output**: `3`\n",
    "   \n",
    "   **Explanation**:\n",
    "   The researcher has 5 papers with 3, 0, 6, 1, and 5 citations respectively. They have 3 papers with at least 3 citations each, hence the h-index is 3.\n",
    "\n",
    "2. **Input**:\n",
    "   `citations = [1,3,1]`\n",
    "   \n",
    "   **Output**: `1`\n",
    "   \n",
    "   **Explanation**:\n",
    "   The researcher has 3 papers with 1, 3, and 1 citations respectively. They have 1 paper with at least 1 citation, hence the h-index is 1.\n",
    "\n",
    "**Constraints**:\n",
    "- `1 <= citations.length <= 5000`\n",
    "- `0 <= citations[i] <= 5000`\n"
   ]
  },
  {
   "cell_type": "code",
   "execution_count": 15,
   "metadata": {},
   "outputs": [],
   "source": [
    "from typing import List\n",
    "def test(s):\n",
    "    test_cases = [\n",
    "        ([3,0,6,1,5], 3),\n",
    "        ([1,3,1], 1), \n",
    "        ([0], 0),\n",
    "        ([0, 1], 1),\n",
    "        ([1], 1),\n",
    "        ([100], 1), \n",
    "        ([11, 15], 2)\n",
    "    ]\n",
    "    for citations, expected in test_cases:\n",
    "        result = s.hIndex(citations)\n",
    "        assert result == expected, f\"wrong answer for citations = {citations}, expected = {expected}\"\n",
    "    print(\"Succeed\")\n",
    "\n",
    "# Example usage\n",
    "# s = Solution()\n",
    "# test(s)\n"
   ]
  },
  {
   "cell_type": "code",
   "execution_count": 46,
   "metadata": {},
   "outputs": [
    {
     "name": "stdout",
     "output_type": "stream",
     "text": [
      "Succeed\n"
     ]
    }
   ],
   "source": [
    "'''\n",
    "    It would be straightforward if we sort the array first but it would be at least o(n) in time complexity so there \n",
    "    should be something better.\n",
    "\n",
    "    o(N) in time complexity.\n",
    "\n",
    "    Check this out for more detail m too lazy to explain here.\n",
    "    https://leetcode.cn/problems/h-index/solutions/2502837/mei-kan-dong-ti-yi-yi-zhang-tu-miao-dong-8zps/?envType=study-plan-v2&envId=top-interview-150\n",
    "'''\n",
    "\n",
    "class Solution:\n",
    "    def hIndex(self, citations: List[int]) -> int:\n",
    "        n = len(citations)\n",
    "        cnt = [0 for _ in range(n+1)]\n",
    "\n",
    "        for i in citations:\n",
    "            cnt[min(i, n)] += 1\n",
    "\n",
    "        s = 0\n",
    "        for i in range(n, -1, -1):\n",
    "            s += cnt[i]\n",
    "            if s >= i:\n",
    "                return i\n",
    "\n",
    "\n",
    "test(Solution())"
   ]
  },
  {
   "cell_type": "code",
   "execution_count": 25,
   "metadata": {},
   "outputs": [
    {
     "data": {
      "text/plain": [
       "1"
      ]
     },
     "execution_count": 25,
     "metadata": {},
     "output_type": "execute_result"
    }
   ],
   "source": []
  },
  {
   "cell_type": "code",
   "execution_count": null,
   "metadata": {},
   "outputs": [],
   "source": []
  }
 ],
 "metadata": {
  "kernelspec": {
   "display_name": "Python 3",
   "language": "python",
   "name": "python3"
  },
  "language_info": {
   "codemirror_mode": {
    "name": "ipython",
    "version": 3
   },
   "file_extension": ".py",
   "mimetype": "text/x-python",
   "name": "python",
   "nbconvert_exporter": "python",
   "pygments_lexer": "ipython3",
   "version": "3.9.6"
  }
 },
 "nbformat": 4,
 "nbformat_minor": 2
}
