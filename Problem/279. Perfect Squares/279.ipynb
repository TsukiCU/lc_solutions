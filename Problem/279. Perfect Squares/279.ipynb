{
 "cells": [
  {
   "cell_type": "markdown",
   "metadata": {},
   "source": [
    "# Perfect Squares\n",
    "\n",
    "**Problem**:\n",
    "Given an integer `n`, find the minimum number of perfect square numbers that sum to `n`. A perfect square is an integer that is the square of an integer.\n",
    "\n",
    "**Examples**:\n",
    "\n",
    "1. **Input**:\n",
    "   `n = 12`\n",
    "   \n",
    "   **Output**: `3`\n",
    "   \n",
    "   **Explanation**:\n",
    "   12 can be expressed as the sum of three 4s (which are perfect squares): `4 + 4 + 4`.\n",
    "\n",
    "2. **Input**:\n",
    "   `n = 13`\n",
    "   \n",
    "   **Output**: `2`\n",
    "   \n",
    "   **Explanation**:\n",
    "   13 can be expressed as the sum of 4 and 9 (both are perfect squares): `4 + 9`.\n",
    "\n",
    "**Constraints**:\n",
    "- `1 <= n <= 10^4`\n"
   ]
  },
  {
   "cell_type": "code",
   "execution_count": 2,
   "metadata": {},
   "outputs": [],
   "source": [
    "from typing import List\n",
    "\n",
    "def test(s: object):\n",
    "    test_cases = [\n",
    "        (12, 3),\n",
    "        (13, 2)\n",
    "    ]\n",
    "    for n, expected in test_cases:\n",
    "        result = s.numSquares(n)\n",
    "        assert result == expected, f\"wrong result for n = {n}, expected = {expected}\"\n",
    "    print(\"Succeed\")"
   ]
  },
  {
   "cell_type": "code",
   "execution_count": 4,
   "metadata": {},
   "outputs": [
    {
     "name": "stdout",
     "output_type": "stream",
     "text": [
      "Succeed\n"
     ]
    }
   ],
   "source": [
    "class Solution:\n",
    "    def numSquares(self, n: int) -> int:\n",
    "        dp = [0 for i in range(n+1)]\n",
    "        dp[1] = 1\n",
    "        for i in range(1, n+1):\n",
    "            j = 1\n",
    "            dp[i] = i\n",
    "            while i >= j * j:  ## only those j which are perfect squares need to be considered.\n",
    "                dp[i] = min(dp[i], dp[i-j*j]+1)\n",
    "                j += 1\n",
    "         \n",
    "        return dp[n]\n",
    "\n",
    "test(Solution())\n",
    "        "
   ]
  },
  {
   "cell_type": "code",
   "execution_count": null,
   "metadata": {},
   "outputs": [],
   "source": []
  }
 ],
 "metadata": {
  "kernelspec": {
   "display_name": "Python 3",
   "language": "python",
   "name": "python3"
  },
  "language_info": {
   "codemirror_mode": {
    "name": "ipython",
    "version": 3
   },
   "file_extension": ".py",
   "mimetype": "text/x-python",
   "name": "python",
   "nbconvert_exporter": "python",
   "pygments_lexer": "ipython3",
   "version": "3.9.6"
  }
 },
 "nbformat": 4,
 "nbformat_minor": 2
}
