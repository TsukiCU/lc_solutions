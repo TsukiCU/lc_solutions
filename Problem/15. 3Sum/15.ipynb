{
 "cells": [
  {
   "cell_type": "markdown",
   "metadata": {},
   "source": [
    "# 3Sum\n",
    "\n",
    "**Problem**:\n",
    "Given an array `nums`, find all unique triplets in the array which gives the sum of zero.\n",
    "\n",
    "**Note**:\n",
    "- Each triplet `[nums[i], nums[j], nums[k]]` must have `i != j`, `i != k`, and `j != k`.\n",
    "- The solution set must not contain duplicate triplets.\n",
    "\n",
    "**Examples**:\n",
    "\n",
    "1. **Input**:\n",
    "   `nums = [-1,0,1,2,-1,-4]`\n",
    "   \n",
    "   **Output**: `[[-1,-1,2],[-1,0,1]]`\n",
    "   \n",
    "   **Explanation**:\n",
    "   The distinct triplets that sum up to zero are `[-1,0,1]` and `[-1,-1,2]`.\n",
    "\n",
    "2. **Input**:\n",
    "   `nums = [0,1,1]`\n",
    "   \n",
    "   **Output**: `[]`\n",
    "   \n",
    "   **Explanation**:\n",
    "   No triplet can be formed which sums up to zero.\n",
    "\n",
    "3. **Input**:\n",
    "   `nums = [0,0,0]`\n",
    "   \n",
    "   **Output**: `[[0,0,0]]`\n",
    "   \n",
    "   **Explanation**:\n",
    "   The only triplet that sums up to zero is `[0,0,0]`.\n",
    "\n",
    "**Constraints**:\n",
    "- `0 <= nums.length <= 3000`\n",
    "- `-10^5 <= nums[i] <= 10^5`\n"
   ]
  },
  {
   "cell_type": "code",
   "execution_count": 23,
   "metadata": {},
   "outputs": [],
   "source": [
    "from typing import List\n",
    "def test(s):\n",
    "    test_cases = [\n",
    "        ([-1,0,1,2,-1,-4], [[-1,-1,2],[-1,0,1]]),\n",
    "        ([0,1,1], []),\n",
    "        ([0,0,0], [[0,0,0]]),\n",
    "        ([-1, -1, -1, 1, 1, 1], []),\n",
    "        ([-2, -1, -1, 1, 1, 1, 1, 1, 1], [[-2, 1, 1]])\n",
    "    ]\n",
    "    for nums, expected in test_cases:\n",
    "        result = s.threeSum(nums)\n",
    "        # Ensure the results are equivalent regardless of order\n",
    "        assert len(result) == len(expected), f\"wrong number of results for nums = {nums}\"\n",
    "        for triplet in expected:\n",
    "            assert triplet in result, f\"missing {triplet} in result for nums = {nums}\"\n",
    "    print(\"Succeed\")\n"
   ]
  },
  {
   "cell_type": "code",
   "execution_count": 25,
   "metadata": {},
   "outputs": [
    {
     "name": "stdout",
     "output_type": "stream",
     "text": [
      "Succeed\n"
     ]
    }
   ],
   "source": [
    "\"\"\"\n",
    "This method work but in a very stupid way.\n",
    "Note that list in python is not hashable. so i turned it into tuple.\n",
    "however tuple is not suitable for sort, so there is switching back and forth, which is stupid.\n",
    "\"\"\"\n",
    "\n",
    "class Solution:\n",
    "    def threeSum(self, nums: List[int]) -> List[List[int]]:\n",
    "        def twoSum(num, target):\n",
    "            res = []\n",
    "            h = {}\n",
    "            for n in num:\n",
    "                if target - n in h:\n",
    "                    res.append([n, target-n])\n",
    "                    del(h[target-n])\n",
    "                else:\n",
    "                    h[n] = 1\n",
    "            return res\n",
    "\n",
    "        ans = []\n",
    "        r = {}\n",
    "        for i in range(len(nums)):\n",
    "            two_sum = twoSum(nums[i+1:], -nums[i])\n",
    "            if two_sum:\n",
    "                for t in two_sum:\n",
    "                    candidate = [nums[i], t[0], t[1]]\n",
    "                    candidate.sort()\n",
    "                    if tuple(candidate) not in r:\n",
    "                        ans.append(candidate)\n",
    "                        r[tuple(candidate)] = 1\n",
    "                        \n",
    "        return ans\n",
    "    \n",
    "\n",
    "test(Solution())"
   ]
  },
  {
   "cell_type": "code",
   "execution_count": 17,
   "metadata": {},
   "outputs": [
    {
     "data": {
      "text/plain": [
       "list"
      ]
     },
     "execution_count": 17,
     "metadata": {},
     "output_type": "execute_result"
    }
   ],
   "source": [
    "sorted((1, 2, 3))"
   ]
  },
  {
   "cell_type": "code",
   "execution_count": null,
   "metadata": {},
   "outputs": [],
   "source": []
  }
 ],
 "metadata": {
  "kernelspec": {
   "display_name": "Python 3",
   "language": "python",
   "name": "python3"
  },
  "language_info": {
   "codemirror_mode": {
    "name": "ipython",
    "version": 3
   },
   "file_extension": ".py",
   "mimetype": "text/x-python",
   "name": "python",
   "nbconvert_exporter": "python",
   "pygments_lexer": "ipython3",
   "version": "3.9.6"
  }
 },
 "nbformat": 4,
 "nbformat_minor": 2
}
