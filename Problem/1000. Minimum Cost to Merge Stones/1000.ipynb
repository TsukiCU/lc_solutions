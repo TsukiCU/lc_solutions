{
 "cells": [
  {
   "cell_type": "markdown",
   "metadata": {},
   "source": [
    "# Minimum Cost to Merge Stones\n",
    "\n",
    "**Problem**:\n",
    "Given `n` piles of stones arranged in a row with `stones[i]` representing the number of stones in the `i`th pile, and an integer `k`, find the minimum cost to merge all piles into one pile. In each move, exactly `k` consecutive piles can be merged, with the cost being the total number of stones in these piles. If it is impossible to merge into one pile, return -1.\n",
    "\n",
    "**Examples**:\n",
    "\n",
    "1. **Input**:\n",
    "   `stones = [3,2,4,1]`, `k = 2`\n",
    "   \n",
    "   **Output**: `20`\n",
    "   \n",
    "   **Explanation**:\n",
    "   Merge [3, 2] for cost 5, then [4, 1] for cost 5, and finally merge [5, 5] for cost 10. Total cost is 20.\n",
    "\n",
    "2. **Input**:\n",
    "   `stones = [3,2,4,1]`, `k = 3`\n",
    "   \n",
    "   **Output**: `-1`\n",
    "   \n",
    "   **Explanation**:\n",
    "   It’s impossible to merge all piles into one pile under the given constraints.\n",
    "\n",
    "3. **Input**:\n",
    "   `stones = [3,5,1,2,6]`, `k = 3`\n",
    "   \n",
    "   **Output**: `25`\n",
    "   \n",
    "   **Explanation**:\n",
    "   Merge [5, 1, 2] for cost 8, then [3, 8, 6] for cost 17. Total cost is 25.\n",
    "\n",
    "**Constraints**:\n",
    "- `1 <= stones.length <= 30`\n",
    "- `1 <= stones[i] <= 100`\n",
    "- `2 <= k <= 30`\n"
   ]
  },
  {
   "cell_type": "code",
   "execution_count": 1,
   "metadata": {},
   "outputs": [],
   "source": [
    "from typing import List\n",
    "\n",
    "def test(s: object):\n",
    "    test_cases = [\n",
    "        ([3,2,4,1], 2, 20),\n",
    "        ([3,2,4,1], 3, -1),\n",
    "        ([3,5,1,2,6], 3, 25)\n",
    "    ]\n",
    "    for stones, k, expected in test_cases:\n",
    "        result = s.minCostToMergeStones(stones, k)\n",
    "        assert result == expected, f\"wrong result for stones = {stones}, k = {k}, expected = {expected}\"\n",
    "    print(\"Succeed\")\n",
    "\n"
   ]
  },
  {
   "cell_type": "code",
   "execution_count": null,
   "metadata": {},
   "outputs": [],
   "source": [
    "\"\"\"\n",
    "Greedy is not gonna work. see discussion for more details\n",
    "\"\"\"\n",
    "class Solution:\n",
    "    def mergeStones(self, stones: List[int], k: int) -> int:\n",
    "        "
   ]
  }
 ],
 "metadata": {
  "kernelspec": {
   "display_name": "Python 3",
   "language": "python",
   "name": "python3"
  },
  "language_info": {
   "codemirror_mode": {
    "name": "ipython",
    "version": 3
   },
   "file_extension": ".py",
   "mimetype": "text/x-python",
   "name": "python",
   "nbconvert_exporter": "python",
   "pygments_lexer": "ipython3",
   "version": "3.9.6"
  }
 },
 "nbformat": 4,
 "nbformat_minor": 2
}
