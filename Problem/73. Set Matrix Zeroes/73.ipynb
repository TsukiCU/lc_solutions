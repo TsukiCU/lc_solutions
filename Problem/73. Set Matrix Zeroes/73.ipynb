{
 "cells": [
  {
   "attachments": {
    "image.png": {
     "image/png": "[encoded data removed]"
    }
   },
   "cell_type": "markdown",
   "metadata": {},
   "source": [
    "# Set Matrix Zeroes\n",
    "\n",
    "**Problem**:\n",
    "Given an `m x n` integer matrix, if an element is 0, set its entire row and column to 0's. The modification should be done in place.\n",
    "\n",
    "**Examples**:\n",
    "\n",
    "1. **Input**:\n",
    "   `matrix = [[1,1,1],[1,0,1],[1,1,1]]`\n",
    "   \n",
    "   **Output**: `[[1,0,1],[0,0,0],[1,0,1]]`\n",
    "   \n",
    "   **Explanation**:\n",
    "   After finding a 0 in the second row, the entire second row and second column are set to 0.\n",
    "\n",
    "   ![image.png](attachment:image.png)\n",
    "\n",
    "2. **Input**:\n",
    "   `matrix = [[0,1,2,0],[3,4,5,2],[1,3,1,5]]`\n",
    "   \n",
    "   **Output**: `[[0,0,0,0],[0,4,5,0],[0,3,1,0]]`\n",
    "   \n",
    "   **Explanation**:\n",
    "   The first and fourth columns are set to 0 because of the zeros in the first row.\n",
    "\n",
    "**Constraints**:\n",
    "- `m == matrix.length`\n",
    "- `n == matrix[i].length`\n",
    "- `1 <= m, n <= 200`\n",
    "- `-2^31 <= matrix[i][j] <= 2^31 - 1`\n",
    "\n",
    "### **Follow up**:\n",
    "- A straightforward solution using O(mn) space is probably a bad idea.\n",
    "- A simple improvement uses O(m + n) space, but still not the best solution.\n",
    "- Can you devise a constant space solution?\n"
   ]
  },
  {
   "cell_type": "code",
   "execution_count": 1,
   "metadata": {},
   "outputs": [],
   "source": [
    "from typing import List\n",
    "\n",
    "def test(s: object):\n",
    "    test_cases = [\n",
    "        ([[1,1,1],[1,0,1],[1,1,1]], [[1,0,1],[0,0,0],[1,0,1]]),\n",
    "        ([[0,1,2,0],[3,4,5,2],[1,3,1,5]], [[0,0,0,0],[0,4,5,0],[0,3,1,0]])\n",
    "    ]\n",
    "    for matrix, expected in test_cases:\n",
    "        s.setZeroes(matrix)\n",
    "        assert matrix == expected, f\"wrong result for matrix = {matrix}, expected = {expected}\"\n",
    "    print(\"Succeed\")\n"
   ]
  },
  {
   "cell_type": "code",
   "execution_count": 2,
   "metadata": {},
   "outputs": [
    {
     "name": "stdout",
     "output_type": "stream",
     "text": [
      "Succeed\n"
     ]
    }
   ],
   "source": [
    "'''\n",
    "This is using O(m+n) extra space.\n",
    "'''\n",
    "\n",
    "class Solution:\n",
    "    def setZeroes(self, matrix: List[List[int]]) -> None:\n",
    "        \"\"\"\n",
    "        Do not return anything, modify matrix in-place instead.\n",
    "        \"\"\"\n",
    "        m, n = len(matrix), len(matrix[0])\n",
    "        row = [0 for i in range(m)]\n",
    "        col = [0 for i in range(n)]\n",
    "\n",
    "        for i in range(m):\n",
    "            for j in range(n):\n",
    "                if matrix[i][j] == 0:\n",
    "                    row[i] = 1\n",
    "                    col[j] = 1\n",
    "\n",
    "        # set rows zeroes\n",
    "        for i in range(m):\n",
    "            if row[i] == 1:\n",
    "                for j in range(n):\n",
    "                    matrix[i][j] = 0\n",
    "                    \n",
    "        # set cols zeroes\n",
    "        for i in range(n):\n",
    "            if col[i] == 1:\n",
    "                for j in range(m):\n",
    "                    matrix[j][i] = 0\n",
    "\n",
    "\n",
    "test(Solution())"
   ]
  },
  {
   "cell_type": "code",
   "execution_count": null,
   "metadata": {},
   "outputs": [],
   "source": [
    "'''\n",
    "Follow up, use O(1) extra space.\n",
    "\n",
    "The core idea here is to use the first row and the first col to record whether\n",
    "there is a zero in this row/col, serving as a flag.\n",
    "\n",
    "Why this works: if [i,j] is 0, then [i,0] and [0,j] <has to be 0 anyway> !\n",
    "This is really clever\n",
    "'''\n",
    "\n",
    "class Solution:\n",
    "    def setZeroes(self, matrix: List[List[int]]) -> None:\n",
    "        row = len(matrix)\n",
    "        col = len(matrix[0])\n",
    "\n",
    "        # whether there is 0 in the first line or col\n",
    "        row0_flag = False\n",
    "        col0_flag = False\n",
    "\n",
    "        for j in range(col):\n",
    "            if matrix[0][j] == 0:\n",
    "                row0_flag = True\n",
    "                break\n",
    "        for i in range(row):\n",
    "            if matrix[i][0] == 0:\n",
    "                col0_flag = True\n",
    "                break\n",
    "\n",
    "        for i in range(1, row):\n",
    "            for j in range(1, col):\n",
    "                if matrix[i][j] == 0:\n",
    "                    matrix[i][0] = matrix[0][j] = 0\n",
    "        for i in range(1, row):\n",
    "            for j in range(1, col):\n",
    "                if matrix[i][0] == 0 or matrix[0][j] == 0:\n",
    "                    matrix[i][j] = 0\n",
    "\n",
    "        if row0_flag:\n",
    "            for j in range(col):\n",
    "                matrix[0][j] = 0\n",
    "        if col0_flag:\n",
    "            for i in range(row):\n",
    "                matrix[i][0] = 0"
   ]
  }
 ],
 "metadata": {
  "kernelspec": {
   "display_name": "Python 3",
   "language": "python",
   "name": "python3"
  },
  "language_info": {
   "codemirror_mode": {
    "name": "ipython",
    "version": 3
   },
   "file_extension": ".py",
   "mimetype": "text/x-python",
   "name": "python",
   "nbconvert_exporter": "python",
   "pygments_lexer": "ipython3",
   "version": "3.9.6"
  }
 },
 "nbformat": 4,
 "nbformat_minor": 2
}
