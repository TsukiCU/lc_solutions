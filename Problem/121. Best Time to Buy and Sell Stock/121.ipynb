{
 "cells": [
  {
   "cell_type": "markdown",
   "metadata": {},
   "source": [
    "# Best Time to Buy and Sell Stock\n",
    "\n",
    "**Problem**:\n",
    "Given an array `prices` where `prices[i]` is the price of a given stock on the `i`th day, find the maximum profit possible from one transaction (buying on one day and selling on another day in the future). If no profit is possible, return 0.\n",
    "\n",
    "**Examples**:\n",
    "\n",
    "1. **Input**:\n",
    "   `prices = [7,1,5,3,6,4]`\n",
    "   \n",
    "   **Output**: `5`\n",
    "   \n",
    "   **Explanation**:\n",
    "   Buy on day 2 (price = 1) and sell on day 5 (price = 6) for a profit of 5. Note that buying and then selling on the same day is not allowed.\n",
    "\n",
    "2. **Input**:\n",
    "   `prices = [7,6,4,3,1]`\n",
    "   \n",
    "   **Output**: `0`\n",
    "   \n",
    "   **Explanation**:\n",
    "   No transaction leads to a profit, hence the maximum profit is 0.\n",
    "\n",
    "**Constraints**:\n",
    "- `1 <= prices.length <= 10^5`\n",
    "- `0 <= prices[i] <= 10^4`\n"
   ]
  },
  {
   "cell_type": "markdown",
   "metadata": {},
   "source": [
    "### **This is the first questions of the series: Best Time to Buy and Sell Stock**"
   ]
  },
  {
   "cell_type": "code",
   "execution_count": 2,
   "metadata": {},
   "outputs": [],
   "source": [
    "from typing import List\n",
    "def test(s):\n",
    "    test_cases = [\n",
    "        ([7,1,5,3,6,4], 5),\n",
    "        ([7,6,4,3,1], 0)\n",
    "    ]\n",
    "    for i, (prices, expected) in enumerate(test_cases):\n",
    "        assert s.maxProfit(prices) == expected, f\"wrong answer at test case {i + 1}: prices = {prices}\"\n",
    "    print(\"Succeed\")\n",
    "\n",
    "# Example usage\n",
    "# s = Solution()\n",
    "# test(s)\n",
    "\n"
   ]
  },
  {
   "cell_type": "code",
   "execution_count": 4,
   "metadata": {},
   "outputs": [
    {
     "name": "stdout",
     "output_type": "stream",
     "text": [
      "Succeed\n"
     ]
    }
   ],
   "source": [
    "class Solution:\n",
    "    def maxProfit(self, prices: List[int]) -> int:\n",
    "        n = len(prices)\n",
    "        dp = [0 for i in range(n)]\n",
    "        forward_min = prices[0]\n",
    "\n",
    "        for i in range(1, n):\n",
    "            dp[i] = prices[i] - forward_min\n",
    "            if prices[i] < forward_min:\n",
    "                forward_min = prices[i]\n",
    "\n",
    "        return max(dp)\n",
    "\n",
    "\n",
    "test(Solution())"
   ]
  },
  {
   "cell_type": "code",
   "execution_count": null,
   "metadata": {},
   "outputs": [],
   "source": []
  }
 ],
 "metadata": {
  "kernelspec": {
   "display_name": "Python 3",
   "language": "python",
   "name": "python3"
  },
  "language_info": {
   "codemirror_mode": {
    "name": "ipython",
    "version": 3
   },
   "file_extension": ".py",
   "mimetype": "text/x-python",
   "name": "python",
   "nbconvert_exporter": "python",
   "pygments_lexer": "ipython3",
   "version": "3.10.11"
  }
 },
 "nbformat": 4,
 "nbformat_minor": 2
}
