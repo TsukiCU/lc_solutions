{
 "cells": [
  {
   "cell_type": "markdown",
   "metadata": {},
   "source": [
    "# Two Sum II - Input Array Is Sorted\n",
    "\n",
    "**Problem**:\n",
    "Given a 1-indexed array of integers `numbers` sorted in non-decreasing order, find two numbers that add up to a specific target number. Return the indices of these two numbers as a 1-indexed array `[index1, index2]` where `1 <= index1 < index2 <= numbers.length`.\n",
    "\n",
    "**Examples**:\n",
    "\n",
    "1. **Input**:\n",
    "   `numbers = [2,7,11,15]`, `target = 9`\n",
    "   \n",
    "   **Output**: `[1,2]`\n",
    "   \n",
    "   **Explanation**:\n",
    "   2 and 7 add up to 9. Their indices in the 1-indexed array are 1 and 2, respectively.\n",
    "\n",
    "2. **Input**:\n",
    "   `numbers = [2,3,4]`, `target = 6`\n",
    "   \n",
    "   **Output**: `[1,3]`\n",
    "   \n",
    "   **Explanation**:\n",
    "   2 and 4 add up to 6. Their indices in the 1-indexed array are 1 and 3, respectively.\n",
    "\n",
    "3. **Input**:\n",
    "   `numbers = [-1,0]`, `target = -1`\n",
    "   \n",
    "   **Output**: `[1,2]`\n",
    "   \n",
    "   **Explanation**:\n",
    "   -1 and 0 add up to -1. Their indices in the 1-indexed array are 1 and 2, respectively.\n",
    "\n",
    "**Constraints**:\n",
    "- `2 <= numbers.length <= 3 * 10^4`\n",
    "- `-1000 <= numbers[i] <= 1000`\n",
    "- `numbers` is sorted in non-decreasing order.\n",
    "- `-1000 <= target <= 1000`\n",
    "- There is exactly one solution.\n",
    "- Your solution must use only constant extra space.\n"
   ]
  },
  {
   "cell_type": "code",
   "execution_count": 1,
   "metadata": {},
   "outputs": [],
   "source": [
    "from typing import List\n",
    "def test(s):\n",
    "    test_cases = [\n",
    "        ([2,7,11,15], 9, [1,2]),\n",
    "        ([2,3,4], 6, [1,3]),\n",
    "        ([-1,0], -1, [1,2])\n",
    "    ]\n",
    "    for numbers, target, expected in test_cases:\n",
    "        result = s.twoSum(numbers, target)\n",
    "        assert result == expected, f\"wrong answer for numbers = {numbers} and target = {target}, expected = {expected}\"\n",
    "    print(\"Succeed\")\n"
   ]
  },
  {
   "cell_type": "code",
   "execution_count": 2,
   "metadata": {},
   "outputs": [
    {
     "name": "stdout",
     "output_type": "stream",
     "text": [
      "Succeed\n"
     ]
    }
   ],
   "source": [
    "\"\"\"\n",
    "Make use of the non-descending feature, as well as the fact that there is only one possible solution.\n",
    "\"\"\"\n",
    "\n",
    "class Solution:\n",
    "    def twoSum(self, numbers: List[int], target: int) -> List[int]:\n",
    "        i, j = 0, len(numbers)-1\n",
    "        while i<j:\n",
    "            if numbers[i] + numbers[j] < target:\n",
    "                i += 1\n",
    "            elif numbers[i] + numbers[j] > target:\n",
    "                j -= 1\n",
    "            else:\n",
    "                return [i+1, j+1]\n",
    "            \n",
    "test(Solution())"
   ]
  },
  {
   "cell_type": "code",
   "execution_count": null,
   "metadata": {},
   "outputs": [],
   "source": []
  }
 ],
 "metadata": {
  "kernelspec": {
   "display_name": "Python 3",
   "language": "python",
   "name": "python3"
  },
  "language_info": {
   "codemirror_mode": {
    "name": "ipython",
    "version": 3
   },
   "file_extension": ".py",
   "mimetype": "text/x-python",
   "name": "python",
   "nbconvert_exporter": "python",
   "pygments_lexer": "ipython3",
   "version": "3.9.6"
  }
 },
 "nbformat": 4,
 "nbformat_minor": 2
}
