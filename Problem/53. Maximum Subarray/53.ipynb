{
 "cells": [
  {
   "cell_type": "markdown",
   "metadata": {},
   "source": [
    "# Maximum Subarray\n",
    "\n",
    "**Problem**:\n",
    "Given an integer array `nums`, identify the contiguous subarray (containing at least one number) which has the largest sum and return its sum.\n",
    "\n",
    "**Examples**:\n",
    "\n",
    "1. **Input**:\n",
    "   `nums = [-2,1,-3,4,-1,2,1,-5,4]`\n",
    "   \n",
    "   **Output**: `6`\n",
    "   \n",
    "   **Explanation**:\n",
    "   The subarray `[4,-1,2,1]` has the largest sum = `6`.\n",
    "\n",
    "2. **Input**:\n",
    "   `nums = [1]`\n",
    "   \n",
    "   **Output**: `1`\n",
    "   \n",
    "   **Explanation**:\n",
    "   The subarray `[1]` has the largest sum = `1`.\n",
    "\n",
    "3. **Input**:\n",
    "   `nums = [5,4,-1,7,8]`\n",
    "   \n",
    "   **Output**: `23`\n",
    "   \n",
    "   **Explanation**:\n",
    "   The subarray `[5,4,-1,7,8]` has the largest sum = `23`.\n",
    "\n",
    "**Constraints**:\n",
    "- `1 <= nums.length <= 10^5`\n",
    "- `-10^4 <= nums[i] <= 10^4`\n",
    "\n",
    "\n",
    "### **Follow up**:\n",
    "- An `O(n)` solution is straightforward. Can you come up with a divide and conquer approach that is more subtle?\n"
   ]
  },
  {
   "cell_type": "code",
   "execution_count": 9,
   "metadata": {},
   "outputs": [],
   "source": [
    "from typing import List\n",
    "def test(s):\n",
    "    test_cases = [\n",
    "        ([-2,1,-3,4,-1,2,1,-5,4], 6),\n",
    "        ([1], 1),\n",
    "        ([5,4,-1,7,8], 23),\n",
    "        ([-1], -1),\n",
    "        ([-1, -1], -1)\n",
    "    ]\n",
    "    for i, (nums, expected) in enumerate(test_cases):\n",
    "        assert s.maxSubArray(nums) == expected, f\"wrong answer at test case {i + 1}: nums = {nums}\"\n",
    "    print(\"Succeed\")\n",
    "\n",
    "# Example usage\n",
    "# s = Solution()\n",
    "# test(s)\n"
   ]
  },
  {
   "cell_type": "code",
   "execution_count": 17,
   "metadata": {},
   "outputs": [
    {
     "name": "stdout",
     "output_type": "stream",
     "text": [
      "Succeed\n"
     ]
    }
   ],
   "source": [
    "'''\n",
    "    a = [-2, 1, -3, 4, -1, 2, 1, -5, 4]\n",
    "    Subquestion is: What is the subsequence with largest sum which **ENDS** at each of the element?\n",
    "\n",
    "    In this way, subquestions can be connected with each other.\n",
    "    return max(dp) is really clever.\n",
    "\n",
    "'''\n",
    "\n",
    "class Solution:\n",
    "    def maxSubArray(self, nums: List[int]) -> int:\n",
    "        n = len(nums)\n",
    "        if n == 0:\n",
    "            return 0\n",
    "        dp = [0] * (n)\n",
    "        dp[0] = nums[0]\n",
    "\n",
    "        for i in range(1, n):\n",
    "            if dp[i-1] >= 0:\n",
    "                dp[i] = dp[i-1] + nums[i]\n",
    "            else:\n",
    "                dp[i] = nums[i]\n",
    "\n",
    "        return max(dp)\n",
    "\n",
    "\n",
    "test(Solution())"
   ]
  },
  {
   "cell_type": "code",
   "execution_count": null,
   "metadata": {},
   "outputs": [],
   "source": [
    "a =[1, 2, -2, 1, 1, 3]\n"
   ]
  }
 ],
 "metadata": {
  "kernelspec": {
   "display_name": "Python 3",
   "language": "python",
   "name": "python3"
  },
  "language_info": {
   "codemirror_mode": {
    "name": "ipython",
    "version": 3
   },
   "file_extension": ".py",
   "mimetype": "text/x-python",
   "name": "python",
   "nbconvert_exporter": "python",
   "pygments_lexer": "ipython3",
   "version": "3.10.11"
  }
 },
 "nbformat": 4,
 "nbformat_minor": 2
}
