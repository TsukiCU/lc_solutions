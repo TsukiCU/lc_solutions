{
 "cells": [
  {
   "cell_type": "markdown",
   "metadata": {},
   "source": [
    "# Merge k Sorted Lists\n",
    "\n",
    "**Problem**:\n",
    "Given `k` sorted linked lists, merge them into one sorted linked list.\n",
    "\n",
    "**Examples**:\n",
    "\n",
    "1. **Input**: `lists = [[1,4,5],[1,3,4],[2,6]]`\n",
    "   **Output**: `[1,1,2,3,4,4,5,6]`\n",
    "   **Explanation**: The linked-lists are:\n",
    "   - `1 -> 4 -> 5`\n",
    "   - `1 -> 3 -> 4`\n",
    "   - `2 -> 6`\n",
    "   \n",
    "   After merging them into one sorted list:\n",
    "   `1 -> 1 -> 2 -> 3 -> 4 -> 4 -> 5 -> 6`\n",
    "\n",
    "2. **Input**: `lists = []`\n",
    "   **Output**: `[]`\n",
    "   **Explanation**: No linked-lists are given, hence the result is an empty list.\n",
    "\n",
    "3. **Input**: `lists = [[]]`\n",
    "   **Output**: `[]`\n",
    "   **Explanation**: A list containing an empty list results in an empty list.\n",
    "\n",
    "**Constraints**:\n",
    "- `k == lists.length`\n",
    "- `0 <= k <= 10^4`\n",
    "- `0 <= lists[i].length <= 500`\n",
    "- `-10^4 <= lists[i][j] <= 10^4`\n",
    "- `lists[i]` is sorted in ascending order.\n",
    "- The sum of `lists[i].length` will not exceed `10^4`.\n"
   ]
  },
  {
   "cell_type": "markdown",
   "metadata": {},
   "source": [
    "#### Ho Ho Ho!\n",
    "\n",
    "This link has been particularly helpful.\n",
    "\n",
    "https://www.reddit.com/r/learnprogramming/comments/ea851u/problem_in_using_heapq_in_python_3/"
   ]
  },
  {
   "cell_type": "code",
   "execution_count": 23,
   "metadata": {},
   "outputs": [],
   "source": [
    "from typing import List, Optional\n",
    "import heapq\n",
    "\n",
    "def print_llist(node):\n",
    "    ret = []\n",
    "    while node:\n",
    "        ret.append(node.val)\n",
    "        node = node.next"
   ]
  },
  {
   "cell_type": "code",
   "execution_count": 29,
   "metadata": {},
   "outputs": [],
   "source": [
    "# Definition for singly-linked list.\n",
    "class ListNode:\n",
    "    def __init__(self, val=0, next=None):\n",
    "        self.val = val\n",
    "        self.next = next\n",
    "\n"
   ]
  },
  {
   "cell_type": "markdown",
   "metadata": {},
   "source": []
  },
  {
   "cell_type": "code",
   "execution_count": 30,
   "metadata": {},
   "outputs": [],
   "source": [
    "import functools\n",
    "\n",
    "'''\n",
    "    Real Programmers solve all problems by adding more abstraction!\n",
    "\n",
    "    In heapify, if we simply do this:\n",
    "    while cur_node is not None:\n",
    "        heapq.heappush(heap, (cur_node.val, cur_node)))\n",
    "\n",
    "    There could be issues. when two nodes' val are equal, Python will\n",
    "    resort to compare the second element in the set, which is cur_node,\n",
    "    and that's a TypeError.\n",
    "\n",
    "    [TypeError : '<' not supported between instances of 'ListNode' and 'ListNode']\n",
    "\n",
    "    What we did here was create another abstraction ListNodeEntry to encapsulate ListNode.\n",
    "    ListNodeEntry makes it clear how to compare two ListNodes, which is comparing their node.val.\n",
    "\n",
    "    Here is another way of doing this, which also makes ListNodes comparable.\n",
    "    ListNode.__lt__ = lambda a, b: a.val < b.val\n",
    "\n",
    "'''\n",
    "\n",
    "@functools.total_ordering  # Python Decorator\n",
    "class ListNodeEntry:\n",
    "    def __init__(self, node):\n",
    "        self.node = node\n",
    "\n",
    "    def __eq__(self, other):\n",
    "        return self.node.val == other.node.val\n",
    "\n",
    "    def __lt__(self, other):\n",
    "        return self.node.val < other.node.val\n",
    "\n",
    "\n",
    "class Solution1:\n",
    "    def mergeKLists(self, lists: List[Optional[ListNode]]) -> Optional[ListNode]:\n",
    "        def heapify(lists):\n",
    "            heap = []\n",
    "            for l in lists:\n",
    "                cur_node = l[0]\n",
    "                while cur_node is not None:\n",
    "                    # heapq.heappush(heap, (cur_node.val, cur_node))\n",
    "                    heapq.heappush(heap, (cur_node.val, ListNodeEntry(cur_node)))\n",
    "                    cur_node = cur_node.next\n",
    "            return heap\n",
    "\n",
    "        def Sort(heap):\n",
    "            current = ListNode(0)\n",
    "            dummy_node = current\n",
    "            while heap:\n",
    "                node = heapq.heappop(heap)[1].node\n",
    "                current.next = node\n",
    "                current = current.next\n",
    "\n",
    "            return dummy_node.next\n",
    "\n",
    "\n",
    "        heap = heapify(lists)\n",
    "        return Sort(heap)\n"
   ]
  },
  {
   "cell_type": "markdown",
   "metadata": {},
   "source": []
  },
  {
   "cell_type": "code",
   "execution_count": null,
   "metadata": {},
   "outputs": [],
   "source": [
    "'''\n",
    "    However the above code exceeds memory limit.\n",
    "\n",
    "    Watch, Awe, and Learn. This is the answer key.\n",
    "'''\n",
    "\n",
    "ListNode.__lt__ = lambda a, b: a.val < b.val\n",
    "\n",
    "class Solution2:\n",
    "    def mergeKLists(self, lists: List[Optional[ListNode]]) -> Optional[ListNode]:\n",
    "        heap = [head for head in lists if head]  ## push every HEAD of the lists (if not none) into the heap\n",
    "        heapq.heapify(heap)\n",
    "\n",
    "        cur = dummy = ListNode()\n",
    "        while heap:\n",
    "            node = heapq.heappop(heap)\n",
    "            if node.next:\n",
    "                heapq.heappush(heap, node.next)\n",
    "            cur.next = node\n",
    "            cur = cur.next\n",
    "\n",
    "        return dummy.next"
   ]
  },
  {
   "cell_type": "code",
   "execution_count": null,
   "metadata": {},
   "outputs": [],
   "source": [
    "'''\n",
    "    Merge Sort\n",
    "'''\n",
    "\n",
    "class Solution3:\n",
    "    def mergeKLists(self, lists: List[Optional[ListNode]]) -> Optional[ListNode]:"
   ]
  },
  {
   "cell_type": "code",
   "execution_count": 35,
   "metadata": {},
   "outputs": [
    {
     "data": {
      "text/plain": [
       "-2"
      ]
     },
     "execution_count": 35,
     "metadata": {},
     "output_type": "execute_result"
    }
   ],
   "source": [
    "# test\n",
    "\n",
    "# l1: [1, 3]\n",
    "node1 = ListNode(1)\n",
    "node2 = ListNode(4)\n",
    "node3 = ListNode(5)\n",
    "node1.next = node2\n",
    "node2.next = node3\n",
    "l1 = [node1, node2, node3]\n",
    "\n",
    "# l2: [2, 5]\n",
    "node4 = ListNode(1)\n",
    "node5 = ListNode(3)\n",
    "node6 = ListNode(4)\n",
    "node4.next = node5\n",
    "node5.next = node6\n",
    "l2 = [node4, node5, node6]\n",
    "\n",
    "# l3: [4]\n",
    "node7 = ListNode(2)\n",
    "node8 = ListNode(6)\n",
    "l3 = [node7, node8]\n",
    "llist = [l1, l2, l3]\n",
    "\n",
    "s = Solution2()\n",
    "l = s.mergeKLists(llist)\n"
   ]
  },
  {
   "cell_type": "code",
   "execution_count": 32,
   "metadata": {},
   "outputs": [
    {
     "data": {
      "text/plain": [
       "1"
      ]
     },
     "execution_count": 32,
     "metadata": {},
     "output_type": "execute_result"
    }
   ],
   "source": []
  },
  {
   "cell_type": "code",
   "execution_count": null,
   "metadata": {},
   "outputs": [],
   "source": []
  }
 ],
 "metadata": {
  "kernelspec": {
   "display_name": "Python 3",
   "language": "python",
   "name": "python3"
  },
  "language_info": {
   "codemirror_mode": {
    "name": "ipython",
    "version": 3
   },
   "file_extension": ".py",
   "mimetype": "text/x-python",
   "name": "python",
   "nbconvert_exporter": "python",
   "pygments_lexer": "ipython3",
   "version": "3.10.11"
  }
 },
 "nbformat": 4,
 "nbformat_minor": 2
}
