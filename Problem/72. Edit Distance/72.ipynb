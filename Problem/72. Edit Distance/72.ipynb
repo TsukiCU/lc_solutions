{
 "cells": [
  {
   "cell_type": "markdown",
   "metadata": {},
   "source": [
    "# Edit Distance\n",
    "\n",
    "**Problem**:\n",
    "Given two strings `word1` and `word2`, calculate the minimum number of operations required to convert `word1` to `word2`. The allowed operations are:\n",
    "- Insert a character\n",
    "- Delete a character\n",
    "- Replace a character\n",
    "\n",
    "**Examples**:\n",
    "\n",
    "1. **Input**:\n",
    "   `word1 = \"horse\"`, `word2 = \"ros\"`\n",
    "   \n",
    "   **Output**: `3`\n",
    "   \n",
    "   **Explanation**:\n",
    "   - `horse` -> `rorse` (replace 'h' with 'r')\n",
    "   - `rorse` -> `rose` (remove 'r')\n",
    "   - `rose` -> `ros` (remove 'e')\n",
    "\n",
    "2. **Input**:\n",
    "   `word1 = \"intention\"`, `word2 = \"execution\"`\n",
    "   \n",
    "   **Output**: `5`\n",
    "   \n",
    "   **Explanation**:\n",
    "   - `intention` -> `inention` (remove 't')\n",
    "   - `inention` -> `enention` (replace 'i' with 'e')\n",
    "   - `enention` -> `exention` (replace 'n' with 'x')\n",
    "   - `exention` -> `exection` (replace 'n' with 'c')\n",
    "   - `exection` -> `execution` (insert 'u')\n",
    "\n",
    "**Constraints**:\n",
    "- `0 <= word1.length, word2.length <= 500`\n",
    "- `word1` and `word2` consist of lowercase English letters.\n"
   ]
  },
  {
   "cell_type": "code",
   "execution_count": 22,
   "metadata": {},
   "outputs": [],
   "source": [
    "def test(s):\n",
    "    test_cases = [\n",
    "        (\"horse\", \"ros\", 3),\n",
    "        (\"intention\", \"execution\", 5)\n",
    "    ]\n",
    "    for i, (word1, word2, expected) in enumerate(test_cases):\n",
    "        assert s.minDistance(word1, word2) == expected, f\"wrong answer at test case {i + 1}: word1 = {word1}, word2 = {word2}\"\n",
    "    print(\"Succeed\")\n",
    "\n",
    "# Example usage\n",
    "# s = Solution()\n",
    "# test(s)\n"
   ]
  },
  {
   "cell_type": "code",
   "execution_count": 23,
   "metadata": {},
   "outputs": [
    {
     "name": "stdout",
     "output_type": "stream",
     "text": [
      "Succeed\n"
     ]
    }
   ],
   "source": [
    "'''\n",
    "    How the hell is this medium.\n",
    "    https://leetcode.cn/problems/edit-distance/solutions/188223/bian-ji-ju-chi-by-leetcode-solution/\n",
    "\n",
    "    Levenshtein distance.\n",
    "    Time complexity: O(mn)\n",
    "'''\n",
    "\n",
    "class Solution:\n",
    "    def minDistance(self, word1: str, word2: str) -> int:\n",
    "        m = len(word1)\n",
    "        n = len(word2)\n",
    "\n",
    "        # If either of m or n is zero, return the length of the other word.\n",
    "        if m*n == 0:\n",
    "            return m+n\n",
    "\n",
    "        dp = [[0 for _ in range(n+1)] for _ in range(m+1)]\n",
    "\n",
    "        # initializing the dp matrix. Based on the principle above.\n",
    "        for i in range(1, n+1):\n",
    "            dp[0][i] = i\n",
    "        for j in range(1, m+1):\n",
    "            dp[j][0] = j\n",
    "\n",
    "        for i in range(1, m+1):\n",
    "            for j in range(1, n+1):\n",
    "                if word1[i-1] != word2[j-1]:\n",
    "                    dp[i][j] = min(dp[i-1][j], dp[i][j-1], dp[i-1][j-1])+1\n",
    "                else:\n",
    "                    dp[i][j] = min(dp[i-1][j], dp[i][j-1], dp[i-1][j-1]-1)+1\n",
    "\n",
    "        return dp[m][n]\n",
    "\n",
    "\n",
    "test(Solution())"
   ]
  },
  {
   "cell_type": "code",
   "execution_count": null,
   "metadata": {},
   "outputs": [],
   "source": []
  }
 ],
 "metadata": {
  "kernelspec": {
   "display_name": "Python 3",
   "language": "python",
   "name": "python3"
  },
  "language_info": {
   "codemirror_mode": {
    "name": "ipython",
    "version": 3
   },
   "file_extension": ".py",
   "mimetype": "text/x-python",
   "name": "python",
   "nbconvert_exporter": "python",
   "pygments_lexer": "ipython3",
   "version": "3.10.11"
  }
 },
 "nbformat": 4,
 "nbformat_minor": 2
}
