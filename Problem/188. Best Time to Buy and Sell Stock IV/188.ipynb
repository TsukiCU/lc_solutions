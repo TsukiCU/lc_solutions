{
 "cells": [
  {
   "cell_type": "markdown",
   "metadata": {},
   "source": [
    "# Best Time to Buy and Sell Stock IV\n",
    "\n",
    "**Problem**:\n",
    "Given an array `prices` representing the price of a stock on each day, and an integer `k` representing the maximum number of transactions allowed (a transaction consists of buying and then selling one share of the stock), find the maximum profit you can achieve.\n",
    "\n",
    "**Note**: You cannot engage in multiple transactions at the same time (you must sell the stock before buying again).\n",
    "\n",
    "**Examples**:\n",
    "\n",
    "1. **Input**:\n",
    "   `k = 2`, `prices = [2,4,1]`\n",
    "   \n",
    "   **Output**: `2`\n",
    "   \n",
    "   **Explanation**:\n",
    "   Buy on day 1 (price = 2) and sell on day 2 (price = 4) for a profit of 2.\n",
    "\n",
    "2. **Input**:\n",
    "   `k = 2`, `prices = [3,2,6,5,0,3]`\n",
    "   \n",
    "   **Output**: `7`\n",
    "   \n",
    "   **Explanation**:\n",
    "   Buy on day 2 (price = 2) and sell on day 3 (price = 6) for a profit of 4. Then buy on day 5 (price = 0) and sell on day 6 (price = 3) for a profit of 3.\n",
    "\n",
    "**Constraints**:\n",
    "- `1 <= k <= 100`\n",
    "- `1 <= prices.length <= 1000`\n",
    "- `0 <= prices[i] <= 1000`\n"
   ]
  },
  {
   "cell_type": "markdown",
   "metadata": {},
   "source": [
    "### **This is the fourth questions of the series: Best Time to Buy and Sell Stock**"
   ]
  },
  {
   "cell_type": "code",
   "execution_count": 2,
   "metadata": {},
   "outputs": [],
   "source": [
    "from typing import List\n",
    "def test(s):\n",
    "    test_cases = [\n",
    "        (2, [2,4,1], 2),\n",
    "        (2, [3,2,6,5,0,3], 7)\n",
    "    ]\n",
    "    for i, (k, prices, expected) in enumerate(test_cases):\n",
    "        assert s.maxProfit(k, prices) == expected, f\"wrong answer at test case {i + 1}: k = {k}, prices = {prices}\"\n",
    "    print(\"Succeed\")\n",
    "\n",
    "# Example usage\n",
    "# s = Solution()\n",
    "# test(s)\n"
   ]
  },
  {
   "cell_type": "code",
   "execution_count": 17,
   "metadata": {},
   "outputs": [
    {
     "name": "stdout",
     "output_type": "stream",
     "text": [
      "Succeed\n"
     ]
    }
   ],
   "source": [
    "'''\n",
    "    Basically pretty much similar to #123.\n",
    "\n",
    "    NOTE: 2*k+1 because I need the first line which is all zero.\n",
    "'''\n",
    "\n",
    "class Solution:\n",
    "    def maxProfit(self, k: int, prices: List[int]) -> int:\n",
    "        n = len(prices)\n",
    "        max_profit = 0\n",
    "        if n == 1:\n",
    "            return 0\n",
    "        dp = [[0 for _ in range(n)] for _ in range(2*k+1)]\n",
    "        # initializing\n",
    "        # dp[0][0] = 0\n",
    "        dp[1][0] = - prices[0]\n",
    "        for i in range(2, 2*k+1):\n",
    "            dp[i][0] = float('-inf')\n",
    "\n",
    "        for i in range(1, 2*k+1):\n",
    "            for j in range(1, n):\n",
    "                if i % 2 == 0:\n",
    "                    dp[i][j] = max(dp[i][j-1], dp[i-1][j-1] + prices[j])\n",
    "                else:\n",
    "                    dp[i][j] = max(dp[i][j-1], dp[i-1][j-1] - prices[j])\n",
    "\n",
    "        for i in range(2, 2*k+2, 2):\n",
    "            temp = max(dp[i])\n",
    "            if temp > max_profit:\n",
    "                max_profit = temp\n",
    "\n",
    "        return max_profit\n",
    "\n",
    "\n",
    "test(Solution())"
   ]
  },
  {
   "cell_type": "code",
   "execution_count": null,
   "metadata": {},
   "outputs": [],
   "source": []
  }
 ],
 "metadata": {
  "kernelspec": {
   "display_name": "Python 3",
   "language": "python",
   "name": "python3"
  },
  "language_info": {
   "codemirror_mode": {
    "name": "ipython",
    "version": 3
   },
   "file_extension": ".py",
   "mimetype": "text/x-python",
   "name": "python",
   "nbconvert_exporter": "python",
   "pygments_lexer": "ipython3",
   "version": "3.10.11"
  }
 },
 "nbformat": 4,
 "nbformat_minor": 2
}
