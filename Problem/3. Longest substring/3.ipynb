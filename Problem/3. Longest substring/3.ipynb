{
 "cells": [
  {
   "cell_type": "markdown",
   "metadata": {},
   "source": [
    "# Longest Substring Without Repeating Characters\n",
    "\n",
    "**Problem**:\n",
    "Given a string `s`, find the length of the longest substring without repeating characters.\n",
    "\n",
    "**Examples**:\n",
    "\n",
    "1. **Input**:\n",
    "   `s = \"abcabcbb\"`\n",
    "   \n",
    "   **Output**: `3`\n",
    "   \n",
    "   **Explanation**:\n",
    "   The answer is \"abc\", with the length of 3.\n",
    "\n",
    "2. **Input**:\n",
    "   `s = \"bbbbb\"`\n",
    "   \n",
    "   **Output**: `1`\n",
    "   \n",
    "   **Explanation**:\n",
    "   The answer is \"b\", with the length of 1.\n",
    "\n",
    "3. **Input**:\n",
    "   `s = \"pwwkew\"`\n",
    "   \n",
    "   **Output**: `3`\n",
    "   \n",
    "   **Explanation**:\n",
    "   The answer is \"wke\", with the length of 3. Notice that \"pwke\" is a subsequence and not a substring.\n",
    "\n",
    "**Constraints**:\n",
    "- `0 <= s.length <= 5 * 10^4`\n",
    "- `s` consists of English letters, digits, symbols, and spaces.\n"
   ]
  },
  {
   "cell_type": "code",
   "execution_count": 39,
   "metadata": {},
   "outputs": [],
   "source": [
    "def test(s):\n",
    "    test_cases = [\"abcabcbb\", \"bbbbb\", \"bbtablud\", \"a\"]\n",
    "    ref = [3, 1, 6, 1]\n",
    "    for i in range(len(test_cases)):\n",
    "        assert s.lengthOfLongestSubstring(test_cases[i]) == ref[i], f\"wrong answer at test case {test_cases[i]}\"\n",
    "\n",
    "    print(\"Succeed\")"
   ]
  },
  {
   "cell_type": "code",
   "execution_count": 40,
   "metadata": {},
   "outputs": [
    {
     "name": "stdout",
     "output_type": "stream",
     "text": [
      "Succeed\n"
     ]
    }
   ],
   "source": [
    "'''\n",
    "    This is dumb\n",
    "'''\n",
    "\n",
    "class Solution1:\n",
    "    def lengthOfLongestSubstring(self, s: str) -> int:\n",
    "        i=0\n",
    "        h = {}\n",
    "        cur = ''\n",
    "        longest = ''\n",
    "\n",
    "        for i in range(len(s)):\n",
    "            if s[i] not in cur:\n",
    "                cur += s[i]\n",
    "                h[s[i]] = i\n",
    "            else:\n",
    "                if len(cur) > len(longest):\n",
    "                    longest = cur\n",
    "                pos = h[s[i]]\n",
    "                h = {key:val for key, val in h.items() if val>=pos}\n",
    "                pos = cur.index(s[i])\n",
    "                cur = cur[pos+1:]+s[i]\n",
    "                h[s[i]] = i\n",
    "\n",
    "        if len(cur) > len(longest):\n",
    "            longest = cur\n",
    "        return len(longest)\n",
    "\n",
    "test(Solution1())"
   ]
  },
  {
   "cell_type": "code",
   "execution_count": 41,
   "metadata": {},
   "outputs": [
    {
     "name": "stdout",
     "output_type": "stream",
     "text": [
      "Succeed\n"
     ]
    }
   ],
   "source": [
    "class Solution2:\n",
    "    def lengthOfLongestSubstring(self, s: str) -> int:\n",
    "        h = {}\n",
    "        longest = 0\n",
    "        start = 0\n",
    "\n",
    "        for i, char in enumerate(s):   # for i in range(s), s[i]\n",
    "            if char in h and h[char] >= start:   # h[char] >= start !!!\n",
    "                start = h[char] + 1   # e.g. \"bab...\" start is at 0(b) before, now should move to 1(a)\n",
    "            h[char] = i\n",
    "            longest = max(longest, i - start + 1)\n",
    "\n",
    "        return longest\n",
    "\n",
    "test(Solution2())"
   ]
  },
  {
   "cell_type": "code",
   "execution_count": null,
   "metadata": {},
   "outputs": [],
   "source": []
  }
 ],
 "metadata": {
  "kernelspec": {
   "display_name": "Python 3",
   "language": "python",
   "name": "python3"
  },
  "language_info": {
   "codemirror_mode": {
    "name": "ipython",
    "version": 3
   },
   "file_extension": ".py",
   "mimetype": "text/x-python",
   "name": "python",
   "nbconvert_exporter": "python",
   "pygments_lexer": "ipython3",
   "version": "3.10.11"
  }
 },
 "nbformat": 4,
 "nbformat_minor": 2
}
