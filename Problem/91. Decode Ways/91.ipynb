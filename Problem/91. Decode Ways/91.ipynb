{
 "cells": [
  {
   "cell_type": "markdown",
   "metadata": {},
   "source": [
    "# Decode Ways\n",
    "\n",
    "**Problem**:\n",
    "Given a string `s` containing only digits, represent the number of ways it can be decoded into letters from A-Z, where 'A' -> \"1\", 'B' -> \"2\", ..., and 'Z' -> \"26\". The digits must be grouped and then mapped back into letters using the reverse of the mapping above.\n",
    "\n",
    "**Examples**:\n",
    "\n",
    "1. **Input**:\n",
    "   `s = \"12\"`\n",
    "   \n",
    "   **Output**: `2`\n",
    "   \n",
    "   **Explanation**:\n",
    "   \"12\" could be decoded as \"AB\" (1 2) or \"L\" (12).\n",
    "\n",
    "2. **Input**:\n",
    "   `s = \"226\"`\n",
    "   \n",
    "   **Output**: `3`\n",
    "   \n",
    "   **Explanation**:\n",
    "   \"226\" could be decoded as \"BZ\" (2 26), \"VF\" (22 6), or \"BBF\" (2 2 6).\n",
    "\n",
    "3. **Input**:\n",
    "   `s = \"06\"`\n",
    "   \n",
    "   **Output**: `0`\n",
    "   \n",
    "   **Explanation**:\n",
    "   \"06\" cannot be mapped to \"F\" because of the leading zero (\"6\" is different from \"06\").\n",
    "\n",
    "**Constraints**:\n",
    "- `1 <= s.length <= 100`\n",
    "- `s` contains only digits and may contain leading zero(s).\n"
   ]
  },
  {
   "cell_type": "code",
   "execution_count": 8,
   "metadata": {},
   "outputs": [],
   "source": [
    "def test(s):\n",
    "    test_cases = [\n",
    "        (\"12\", 2),\n",
    "        (\"226\", 3),\n",
    "        (\"06\", 0),\n",
    "        (\"00\", 0),\n",
    "        (\"0\", 0),\n",
    "        (\"10\", 1)\n",
    "    ]\n",
    "    for i, (input_str, expected) in enumerate(test_cases):\n",
    "        assert s.numDecodings(input_str) == expected, f\"wrong answer at test case {i + 1}: s = {input_str}\"\n",
    "    print(\"Succeed\")\n",
    "\n",
    "# Example usage\n",
    "# s = Solution()\n",
    "# test(s)"
   ]
  },
  {
   "cell_type": "code",
   "execution_count": 6,
   "metadata": {},
   "outputs": [
    {
     "data": {
      "text/plain": [
       "5"
      ]
     },
     "execution_count": 6,
     "metadata": {},
     "output_type": "execute_result"
    }
   ],
   "source": [
    "'''\n",
    "    f(n) = f(n-1) (if s[0] is valid) + f(n-2) (if s[0:2] is valid)\n",
    "\n",
    "    Ah fuck this is hedious\n",
    "'''\n",
    "\n",
    "class Solution:\n",
    "    def numDecodings(self, s: str) -> int:\n",
    "        res = 0\n",
    "        tmp = 0\n",
    "        h = {}\n",
    "        n = len(s)\n",
    "\n",
    "        if n == 0:\n",
    "            return 0\n",
    "        if n == 1:\n",
    "            return 0 if s == \"0\" else 1\n",
    "        if n == 2:\n",
    "            if int(s[0]) == 0:\n",
    "                return 0\n",
    "            if int(s[1]) != 0:\n",
    "                res += 1\n",
    "            if int(s) < 27:\n",
    "                res += 1\n",
    "\n",
    "            return res\n",
    "\n",
    "        mid1 = int(s[1:])\n",
    "        mid2 = int(s[2:])\n",
    "\n",
    "        if int(s[0]) > 0:\n",
    "            if mid1 in h:\n",
    "                res += h[mid1]\n",
    "            else:\n",
    "                tmp = self.numDecodings(s[1:])\n",
    "                h[mid1] = tmp\n",
    "                res += tmp\n",
    "            if int(s[0:2]) < 27:\n",
    "                if mid2 in h:\n",
    "                    res += h[mid2]\n",
    "                else:\n",
    "                    tmp = self.numDecodings(s[2:])\n",
    "                    h[mid2] = tmp\n",
    "                    res += tmp\n",
    "\n",
    "        return res\n",
    "\n",
    "\n",
    "s = Solution()\n",
    "s.numDecodings(\"2222\")"
   ]
  },
  {
   "cell_type": "code",
   "execution_count": 17,
   "metadata": {},
   "outputs": [
    {
     "name": "stdout",
     "output_type": "stream",
     "text": [
      "[1, 1, 0, 0]\n",
      "here1\n",
      "here2\n",
      "[1, 1, 1, 1]\n"
     ]
    },
    {
     "data": {
      "text/plain": [
       "1"
      ]
     },
     "execution_count": 17,
     "metadata": {},
     "output_type": "execute_result"
    }
   ],
   "source": [
    "'''\n",
    "    This is the real dp.\n",
    "'''\n",
    "\n",
    "class Solution:\n",
    "    def numDecodings(self, s: str) -> int:\n",
    "        if not s or s[0] == \"0\":\n",
    "            return 0\n",
    "\n",
    "        n = len(s)\n",
    "        dp = [0] * (n+1)\n",
    "        dp[0], dp[1] = 1, 1\n",
    "\n",
    "        for i in range(2, n+1):\n",
    "            if s[i-1] != \"0\":\n",
    "                dp[i] += dp[i-1]\n",
    "            if 10 <= int(s[i-2:i]) <= 26:\n",
    "                dp[i] += dp[i-2]\n",
    "\n",
    "        return dp[n]\n",
    "\n",
    "\n",
    "#test(Solution())\n",
    "s = Solution()\n",
    "s.numDecodings(\"320\")"
   ]
  },
  {
   "cell_type": "code",
   "execution_count": null,
   "metadata": {},
   "outputs": [],
   "source": []
  }
 ],
 "metadata": {
  "kernelspec": {
   "display_name": "Python 3",
   "language": "python",
   "name": "python3"
  },
  "language_info": {
   "codemirror_mode": {
    "name": "ipython",
    "version": 3
   },
   "file_extension": ".py",
   "mimetype": "text/x-python",
   "name": "python",
   "nbconvert_exporter": "python",
   "pygments_lexer": "ipython3",
   "version": "3.10.11"
  }
 },
 "nbformat": 4,
 "nbformat_minor": 2
}
