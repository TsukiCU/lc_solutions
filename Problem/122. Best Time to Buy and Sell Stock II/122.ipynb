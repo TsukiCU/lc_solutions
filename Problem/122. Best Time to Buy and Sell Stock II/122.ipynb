{
 "cells": [
  {
   "cell_type": "markdown",
   "metadata": {},
   "source": [
    "# Best Time to Buy and Sell Stock II\n",
    "\n",
    "**Problem**:\n",
    "Given an array `prices` where `prices[i]` is the price of a given stock on the `i`th day, determine the maximum profit you can achieve. You may buy and/or sell the stock on any day, holding at most one share at a time, but you can also buy and immediately sell it on the same day.\n",
    "\n",
    "**Examples**:\n",
    "\n",
    "1. **Input**:\n",
    "   `prices = [7,1,5,3,6,4]`\n",
    "   \n",
    "   **Output**: `7`\n",
    "   \n",
    "   **Explanation**:\n",
    "   Buy on day 2 (price = 1) and sell on day 3 (price = 5) for a profit of 4. Then buy on day 4 (price = 3) and sell on day 5 (price = 6) for a profit of 3. Total profit is 4 + 3 = 7.\n",
    "\n",
    "2. **Input**:\n",
    "   `prices = [1,2,3,4,5]`\n",
    "   \n",
    "   **Output**: `4`\n",
    "   \n",
    "   **Explanation**:\n",
    "   Buy on day 1 (price = 1) and sell on day 5 (price = 5) for a profit of 4. Total profit is 4.\n",
    "\n",
    "3. **Input**:\n",
    "   `prices = [7,6,4,3,1]`\n",
    "   \n",
    "   **Output**: `0`\n",
    "   \n",
    "   **Explanation**:\n",
    "   There is no way to make a positive profit, so the maximum profit is 0.\n",
    "\n",
    "**Constraints**:\n",
    "- `1 <= prices.length <= 3 * 10^4`\n",
    "- `0 <= prices[i] <= 10^4`\n"
   ]
  },
  {
   "cell_type": "markdown",
   "metadata": {},
   "source": [
    "### **This is the second questions of the series: Best Time to Buy and Sell Stock**"
   ]
  },
  {
   "cell_type": "code",
   "execution_count": 2,
   "metadata": {},
   "outputs": [],
   "source": [
    "from typing import List\n",
    "def test(s):\n",
    "    test_cases = [\n",
    "        ([7,1,5,3,6,4], 7),\n",
    "        ([1,2,3,4,5], 4),\n",
    "        ([7,6,4,3,1], 0)\n",
    "    ]\n",
    "    for i, (prices, expected) in enumerate(test_cases):\n",
    "        assert s.maxProfit(prices) == expected, f\"wrong answer at test case {i + 1}: prices = {prices}\"\n",
    "    print(\"Succeed\")\n",
    "\n",
    "# Example usage\n",
    "# s = Solution()\n",
    "# test(s)\n"
   ]
  },
  {
   "cell_type": "code",
   "execution_count": 14,
   "metadata": {},
   "outputs": [
    {
     "name": "stdout",
     "output_type": "stream",
     "text": [
      "Succeed\n"
     ]
    }
   ],
   "source": [
    "'''\n",
    "    Greedy\n",
    "\n",
    "    If today's price is more than yesterday, sell it.\n",
    "    If today's price is less than tomorrow, buy it.\n",
    "    We may be doing buy-and-sell in one day, it's okay.\n",
    "'''\n",
    "\n",
    "class Solution:\n",
    "    def maxProfit(self, prices: List[int]) -> int:\n",
    "        n = len(prices)\n",
    "        bought = 0\n",
    "        profit = 0\n",
    "        if n == 1:\n",
    "            return 0\n",
    "        if prices[1] > prices[0]:\n",
    "            profit -= prices[0]\n",
    "            bought = 1\n",
    "\n",
    "        for i in range(1, n-1):\n",
    "            if prices[i] > prices[i-1]:\n",
    "                if bought:\n",
    "                    profit += prices[i]\n",
    "                    bought = 0\n",
    "            if prices[i] < prices[i+1]:\n",
    "                if not bought:\n",
    "                    profit -= prices[i]\n",
    "                    bought = 1\n",
    "\n",
    "        if bought:\n",
    "            profit += prices[-1]\n",
    "\n",
    "        return profit\n",
    "\n",
    "\n",
    "test(Solution())"
   ]
  },
  {
   "cell_type": "code",
   "execution_count": 5,
   "metadata": {},
   "outputs": [
    {
     "name": "stdout",
     "output_type": "stream",
     "text": [
      "Succeed\n"
     ]
    }
   ],
   "source": [
    "'''\n",
    "    DP\n",
    "\n",
    "    dp[i][j] refers to the max profit on that day.\n",
    "    i: date   j: whether or not hold the stock.\n",
    "    return max() is a commonly used technique.\n",
    "\n",
    "    [There is improvement of space.]\n",
    "'''\n",
    "\n",
    "class Solution:\n",
    "    def maxProfit(self, prices: List[int]) -> int:\n",
    "        n = len(prices)\n",
    "        if n == 1:\n",
    "            return 0\n",
    "        dp = [[i for i in range(n)] for _ in range(2)]\n",
    "        dp[0][0], dp[1][0] = 0, -prices[0]\n",
    "\n",
    "        for i in range(1, n):\n",
    "            dp[0][i] = max(dp[0][i-1], prices[i] + dp[1][i-1])\n",
    "            dp[1][i] = max(dp[1][i-1], dp[0][i-1] - prices[i])\n",
    "\n",
    "        return max(dp[0])\n",
    "\n",
    "\n",
    "test(Solution())"
   ]
  },
  {
   "cell_type": "code",
   "execution_count": null,
   "metadata": {},
   "outputs": [],
   "source": [
    "'''\n",
    "    Scrolling array. optimize space complexity.\n",
    "'''\n",
    "\n",
    "class Solution:\n",
    "    def maxProfit(self, prices: List[int]) -> int:\n",
    "        n = len(prices)\n",
    "        if n == 1:\n",
    "            return 0\n",
    "        dp = [[0], [-prices[0]]]\n",
    "        max_profit = 0\n",
    "\n",
    "        for i in range(1, n):\n",
    "            tmp = max(dp[0][0], prices[i] + dp[1][0])\n",
    "            dp[1][0] = max(dp[1][0], dp[0][0] - prices[i])\n",
    "            dp[0][0] = tmp\n",
    "            if dp[0][0] > max_profit:\n",
    "                max_profit = dp[0][0]\n",
    "\n",
    "        return max_profit\n"
   ]
  }
 ],
 "metadata": {
  "kernelspec": {
   "display_name": "Python 3",
   "language": "python",
   "name": "python3"
  },
  "language_info": {
   "codemirror_mode": {
    "name": "ipython",
    "version": 3
   },
   "file_extension": ".py",
   "mimetype": "text/x-python",
   "name": "python",
   "nbconvert_exporter": "python",
   "pygments_lexer": "ipython3",
   "version": "3.10.11"
  }
 },
 "nbformat": 4,
 "nbformat_minor": 2
}
