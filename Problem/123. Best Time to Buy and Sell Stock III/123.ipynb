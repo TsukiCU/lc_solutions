{
 "cells": [
  {
   "cell_type": "markdown",
   "metadata": {},
   "source": [
    "# Best Time to Buy and Sell Stock III\n",
    "\n",
    "**Problem**:\n",
    "Given an array `prices` where `prices[i]` is the price of a given stock on the `i`th day, determine the maximum profit possible with at most two transactions.\n",
    "\n",
    "**Note**: Multiple transactions cannot occur simultaneously, meaning you must sell the stock before buying again.\n",
    "\n",
    "**Examples**:\n",
    "\n",
    "1. **Input**:\n",
    "   `prices = [3,3,5,0,0,3,1,4]`\n",
    "   \n",
    "   **Output**: `6`\n",
    "   \n",
    "   **Explanation**:\n",
    "   Buy on day 4 (price = 0) and sell on day 6 (price = 3) for a profit of 3. Then buy on day 7 (price = 1) and sell on day 8 (price = 4) for another profit of 3.\n",
    "\n",
    "2. **Input**:\n",
    "   `prices = [1,2,3,4,5]`\n",
    "   \n",
    "   **Output**: `4`\n",
    "   \n",
    "   **Explanation**:\n",
    "   Buy on day 1 (price = 1) and sell on day 5 (price = 5) for a profit of 4. Note that buying on day 1 and 2 and then selling is not allowed as it counts as engaging in multiple transactions at once.\n",
    "\n",
    "3. **Input**:\n",
    "   `prices = [7,6,4,3,1]`\n",
    "   \n",
    "   **Output**: `0`\n",
    "   \n",
    "   **Explanation**:\n",
    "   No transaction leads to a profit, hence the maximum profit is 0.\n",
    "\n",
    "**Constraints**:\n",
    "- `1 <= prices.length <= 10^5`\n",
    "- `0 <= prices[i] <= 10^5`\n"
   ]
  },
  {
   "cell_type": "code",
   "execution_count": 1,
   "metadata": {},
   "outputs": [],
   "source": [
    "from typing import List\n",
    "def test(s):\n",
    "    test_cases = [\n",
    "        ([3,3,5,0,0,3,1,4], 6),\n",
    "        ([1,2,3,4,5], 4),\n",
    "        ([7,6,4,3,1], 0)\n",
    "    ]\n",
    "    for i, (prices, expected) in enumerate(test_cases):\n",
    "        assert s.maxProfit(prices) == expected, f\"wrong answer at test case {i + 1}: prices = {prices}\"\n",
    "    print(\"Succeed\")\n",
    "\n",
    "# Example usage\n",
    "# s = Solution()\n",
    "# test(s)\n"
   ]
  },
  {
   "cell_type": "code",
   "execution_count": 15,
   "metadata": {},
   "outputs": [
    {
     "name": "stdout",
     "output_type": "stream",
     "text": [
      "[[0, 0, 2, 2, 2, 5, 5, 8, 8], [-3, -3, -3, 2, 2, 2, 4, 4, 5], [0, 0, 1, 0, 0, 1, 0, 1, 0]]\n"
     ]
    },
    {
     "data": {
      "text/plain": [
       "0"
      ]
     },
     "execution_count": 15,
     "metadata": {},
     "output_type": "execute_result"
    }
   ],
   "source": [
    "class Solution:\n",
    "    def maxProfit(self, prices: List[int]) -> int:\n",
    "        n = len(prices)\n",
    "        if n == 1:\n",
    "            return 0\n",
    "        dp = [[0 for _ in range(n)] for _ in range(3)]\n",
    "        dp[1][0] = -prices[0]\n",
    "        max_profit = 0\n",
    "\n",
    "        for i in range(1, n):\n",
    "            # dp[0][i] = max(dp[0][i-1], prices[i] + dp[1][i-1])\n",
    "            if prices[i] + dp[1][i-1] > dp[0][i-1]:\n",
    "                dp[0][i] = prices[i] + dp[1][i-1]\n",
    "                dp[2][i] = dp[2][i-1] + 1\n",
    "                if dp[2][i] == 2:\n",
    "                    if dp[0][i] > max_profit:\n",
    "                        print(\"ee\")\n",
    "                        max_profit = dp[0][i]\n",
    "                    dp[2][i] = 1\n",
    "                    dp[1][i] = dp[1][i-1]\n",
    "            else:\n",
    "                dp[0][i] = dp[0][i-1]\n",
    "\n",
    "            dp[1][i] = max(dp[1][i-1], dp[0][i-1] - prices[i])\n",
    "        print(dp)\n",
    "\n",
    "        return max_profit\n",
    "\n",
    "s = Solution()\n",
    "s.maxProfit([3,3,5,0,0,3,1,4,3])"
   ]
  },
  {
   "cell_type": "code",
   "execution_count": null,
   "metadata": {},
   "outputs": [],
   "source": []
  }
 ],
 "metadata": {
  "kernelspec": {
   "display_name": "Python 3",
   "language": "python",
   "name": "python3"
  },
  "language_info": {
   "codemirror_mode": {
    "name": "ipython",
    "version": 3
   },
   "file_extension": ".py",
   "mimetype": "text/x-python",
   "name": "python",
   "nbconvert_exporter": "python",
   "pygments_lexer": "ipython3",
   "version": "3.10.11"
  }
 },
 "nbformat": 4,
 "nbformat_minor": 2
}
