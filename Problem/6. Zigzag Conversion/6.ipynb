{
 "cells": [
  {
   "cell_type": "markdown",
   "metadata": {},
   "source": [
    "Reading line by line produces \"PAHNAPLSIIGYIR\".\n",
    "\n",
    "2. **Input**:\n",
    "`s = \"PAYPALISHIRING\"`, `numRows = 4`\n",
    "\n",
    "**Output**: `\"PINALSIGYAHRPI\"`\n",
    "\n",
    "**Explanation**:\n",
    "The string is written as:\n",
    "\n",
    "```\n",
    "\n",
    "P         I         N\n",
    "\n",
    "A      L  S      I  G\n",
    "\n",
    "Y   A     H   R\n",
    "\n",
    "P         I\n",
    "```\n",
    "\n",
    "Reading line by line produces \"PINALSIGYAHRPI\".\n",
    "\n",
    "3. **Input**:\n",
    "`s = \"A\"`, `numRows = 1`\n",
    "\n",
    "**Output**: `\"A\"`\n",
    "\n",
    "**Explanation**:\n",
    "With only one row, the zigzag is just the original string.\n",
    "\n",
    "**Constraints**:\n",
    "- `1 <= s.length <= 1000`\n",
    "- `s` consists of English letters (lowercase and uppercase), ',' and '.'.\n",
    "- `1 <= numRows <= 1000`\n"
   ]
  },
  {
   "cell_type": "code",
   "execution_count": 14,
   "metadata": {},
   "outputs": [],
   "source": [
    "def test(s):\n",
    "    test_cases = [\n",
    "        (\"PAYPALISHIRING\", 3, \"PAHNAPLSIIGYIR\"),\n",
    "        (\"PAYPALISHIRING\", 4, \"PINALSIGYAHRPI\"),\n",
    "        (\"A\", 1, \"A\"),\n",
    "        (\"AB\", 1, \"AB\")\n",
    "    ]\n",
    "    for input_str, numRows, expected in test_cases:\n",
    "        result = s.convert(input_str, numRows)\n",
    "        assert result == expected, f\"wrong answer for input = {input_str} with {numRows} rows, expected = {expected}\"\n",
    "    print(\"Succeed\")\n",
    "\n",
    "# Example usage\n",
    "# s = Solution()\n",
    "# test(s)\n"
   ]
  },
  {
   "cell_type": "code",
   "execution_count": 16,
   "metadata": {},
   "outputs": [
    {
     "name": "stdout",
     "output_type": "stream",
     "text": [
      "Succeed\n"
     ]
    }
   ],
   "source": [
    "class Solution:\n",
    "    def convert(self, s: str, numRows: int) -> str:\n",
    "        n = len(s)\n",
    "        if n <= numRows or numRows == 1:\n",
    "            return s\n",
    "        res = \"\"\n",
    "        for i in range(numRows):\n",
    "            for j in range(0, n-i, 2*(numRows-1)):\n",
    "                res += s[j + i]\n",
    "                if 0 < i < numRows - 1 and j +  2*(numRows-1)- i < n:\n",
    "                    res += (s[j + 2*(numRows-1) - i])\n",
    "\n",
    "        return res\n",
    "    \n",
    "\n",
    "test(Solution())"
   ]
  },
  {
   "cell_type": "code",
   "execution_count": null,
   "metadata": {},
   "outputs": [],
   "source": []
  }
 ],
 "metadata": {
  "kernelspec": {
   "display_name": "Python 3",
   "language": "python",
   "name": "python3"
  },
  "language_info": {
   "codemirror_mode": {
    "name": "ipython",
    "version": 3
   },
   "file_extension": ".py",
   "mimetype": "text/x-python",
   "name": "python",
   "nbconvert_exporter": "python",
   "pygments_lexer": "ipython3",
   "version": "3.9.6"
  }
 },
 "nbformat": 4,
 "nbformat_minor": 2
}
