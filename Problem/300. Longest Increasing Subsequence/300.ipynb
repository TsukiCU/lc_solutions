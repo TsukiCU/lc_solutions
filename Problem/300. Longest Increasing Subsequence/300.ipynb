{
 "cells": [
  {
   "cell_type": "markdown",
   "metadata": {},
   "source": [
    "# Longest Increasing Subsequence\n",
    "\n",
    "**Problem**:\n",
    "Given an integer array `nums`, find the length of the longest strictly increasing subsequence.\n",
    "\n",
    "**NOTE:**\n",
    "\n",
    "A subsequence is an array that can be derived from another array by *deleting* some or no elements without changing the order of the remaining elements.\n",
    "\n",
    "**Examples**:\n",
    "\n",
    "1. **Input**:\n",
    "   `nums = [10,9,2,5,3,7,101,18]`\n",
    "   \n",
    "   **Output**: `4`\n",
    "   \n",
    "   **Explanation**:\n",
    "   The longest increasing subsequence is `[2,3,7,101]`, thus the length is 4.\n",
    "\n",
    "2. **Input**:\n",
    "   `nums = [0,1,0,3,2,3]`\n",
    "   \n",
    "   **Output**: `4`\n",
    "   \n",
    "   **Explanation**:\n",
    "   An example of a longest increasing subsequence is `[0,1,2,3]`.\n",
    "\n",
    "3. **Input**:\n",
    "   `nums = [7,7,7,7,7,7,7]`\n",
    "   \n",
    "   **Output**: `1`\n",
    "   \n",
    "   **Explanation**:\n",
    "   Since all elements are equal, the longest increasing subsequence has a length of 1.\n",
    "\n",
    "**Constraints**:\n",
    "- `1 <= nums.length <= 2500`\n",
    "- `-10^4 <= nums[i] <= 10^4`\n",
    "\n",
    "\n",
    "### **Follow up**:\n",
    "Can you devise an algorithm that runs in `O(n log(n))` time complexity?\n"
   ]
  },
  {
   "cell_type": "code",
   "execution_count": 2,
   "metadata": {},
   "outputs": [],
   "source": [
    "from typing import List\n",
    "def test(s):\n",
    "    test_cases = [\n",
    "        ([10,9,2,5,3,7,101,18], 4),\n",
    "        ([0,1,0,3,2,3], 4),\n",
    "        ([7,7,7,7,7,7,7], 1),\n",
    "        ([1,3,6,7,9,4,10,5,6], 6),\n",
    "        ([1], 1)\n",
    "    ]\n",
    "    for i, (nums, expected) in enumerate(test_cases):\n",
    "        assert s.lengthOfLIS(nums) == expected, f\"wrong answer at test case {i + 1}: nums = {nums}\"\n",
    "    print(\"Succeed\")\n",
    "\n",
    "# Example usage\n",
    "# s = Solution()\n",
    "# test(s)\n"
   ]
  },
  {
   "cell_type": "code",
   "execution_count": 4,
   "metadata": {},
   "outputs": [
    {
     "name": "stdout",
     "output_type": "stream",
     "text": [
      "Succeed\n"
     ]
    }
   ],
   "source": [
    "'''\n",
    "    Easy to think, but it's O(n^2). Nah, not good enough.\n",
    "'''\n",
    "\n",
    "class Solution:\n",
    "    def lengthOfLIS(self, nums: List[int]) -> int:\n",
    "        n = len(nums)\n",
    "        dp = [1 for _ in range(n)]\n",
    "        for i in range(1, n):\n",
    "            for j in range(i-1, -1, -1):\n",
    "                if nums[j] < nums[i] and dp[j] >= dp[i]:\n",
    "                    dp[i] = dp[j] + 1\n",
    "\n",
    "        return max(dp)\n",
    "\n",
    "\n",
    "test(Solution())"
   ]
  },
  {
   "cell_type": "code",
   "execution_count": null,
   "metadata": {},
   "outputs": [],
   "source": []
  }
 ],
 "metadata": {
  "kernelspec": {
   "display_name": "Python 3",
   "language": "python",
   "name": "python3"
  },
  "language_info": {
   "codemirror_mode": {
    "name": "ipython",
    "version": 3
   },
   "file_extension": ".py",
   "mimetype": "text/x-python",
   "name": "python",
   "nbconvert_exporter": "python",
   "pygments_lexer": "ipython3",
   "version": "3.10.11"
  }
 },
 "nbformat": 4,
 "nbformat_minor": 2
}
