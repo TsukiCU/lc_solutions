{
 "cells": [
  {
   "cell_type": "markdown",
   "metadata": {},
   "source": [
    "# Minimum Number of Coins to be Added\n",
    "\n",
    "**Problem**:\n",
    "Given a 0-indexed integer array `coins` representing available coin values, and an integer `target`, determine the minimum number of coins of any value that need to be added to `coins` such that every integer from 1 to `target` can be formed as a sum of a subsequence of the resulting array.\n",
    "\n",
    "**Examples**:\n",
    "\n",
    "1. **Input**:\n",
    "   `coins = [1,4,10]`, `target = 19`\n",
    "   \n",
    "   **Output**: `2`\n",
    "   \n",
    "   **Explanation**:\n",
    "   Adding coins 2 and 8 makes every integer from 1 to 19 obtainable.\n",
    "\n",
    "2. **Input**:\n",
    "   `coins = [1,4,10,5,7,19]`, `target = 19`\n",
    "   \n",
    "   **Output**: `1`\n",
    "   \n",
    "   **Explanation**:\n",
    "   Adding the coin 2 makes every integer from 1 to 19 obtainable.\n",
    "\n",
    "3. **Input**:\n",
    "   `coins = [1,1,1]`, `target = 20`\n",
    "   \n",
    "   **Output**: `3`\n",
    "   \n",
    "   **Explanation**:\n",
    "   Adding coins 4, 8, and 16 makes every integer from 1 to 20 obtainable.\n",
    "\n",
    "**Constraints**:\n",
    "- `1 <= coins.length <= 10^4`\n",
    "- `1 <= coins[i], target <= 10^9`\n"
   ]
  },
  {
   "cell_type": "code",
   "execution_count": 4,
   "metadata": {},
   "outputs": [],
   "source": [
    "from typing import List\n",
    "\n",
    "def test(s: object):\n",
    "    test_cases = [\n",
    "        ([1,4,10], 19, 2),\n",
    "        ([1,4,10,5,7,19], 19, 1),\n",
    "        ([1,1,1], 20, 3)\n",
    "    ]\n",
    "    for coins, target, expected in test_cases:\n",
    "        result = s.minimumAddedCoins(coins, target)  # Assuming the method name is minCoinsToAdd\n",
    "        assert result == expected, f\"wrong result for coins = {coins} and target = {target}, expected = {expected}\"\n",
    "    print(\"Succeed\")\n",
    "\n",
    "# Example usage\n",
    "# s = Solution()\n",
    "# test(s)\n"
   ]
  },
  {
   "cell_type": "code",
   "execution_count": 5,
   "metadata": {},
   "outputs": [
    {
     "name": "stdout",
     "output_type": "stream",
     "text": [
      "Succeed\n"
     ]
    }
   ],
   "source": [
    "'''\n",
    "This is fking genius.\n",
    "https://leetcode.cn/problems/minimum-number-of-coins-to-be-added/description/?envType=daily-question&envId=2024-03-30\n",
    "'''\n",
    "\n",
    "class Solution:\n",
    "    def minimumAddedCoins(self, coins: List[int], target: int) -> int:\n",
    "        coins.sort()\n",
    "        ans, x = 0, 1   # x = 1 is really clever.\n",
    "        index, n = 0, len(coins)\n",
    "\n",
    "        while x <= target:\n",
    "            if index < n and coins[index] <= x:\n",
    "                x += coins[index]\n",
    "                index += 1\n",
    "            else:\n",
    "                x <<= 1 # x *= 2 is really clever\n",
    "                ans += 1\n",
    "            \n",
    "        return ans\n",
    "    \n",
    "\n",
    "test(Solution())"
   ]
  },
  {
   "cell_type": "code",
   "execution_count": null,
   "metadata": {},
   "outputs": [],
   "source": []
  }
 ],
 "metadata": {
  "kernelspec": {
   "display_name": "Python 3",
   "language": "python",
   "name": "python3"
  },
  "language_info": {
   "codemirror_mode": {
    "name": "ipython",
    "version": 3
   },
   "file_extension": ".py",
   "mimetype": "text/x-python",
   "name": "python",
   "nbconvert_exporter": "python",
   "pygments_lexer": "ipython3",
   "version": "3.9.6"
  }
 },
 "nbformat": 4,
 "nbformat_minor": 2
}
