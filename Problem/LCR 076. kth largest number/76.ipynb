{
 "cells": [
  {
   "cell_type": "markdown",
   "metadata": {},
   "source": [
    "## 76. kth largest number\n",
    "\n",
    "Given an array of integers nums and an integer k, return the kth largest element of the array.\n",
    "\n",
    "Note that you are looking for the kth largest element of the array after sorting, not the kth different element.\n",
    "\n",
    "### Examples\n",
    "**Example 1**\n",
    "\n",
    "+ Input : [3,2,1,5,6,4], k = 2\n",
    "\n",
    "+ Output: 5\n",
    "\n",
    "**Example 2**\n",
    "\n",
    "+ Input: [3,2,3,1,2,4,5,5,6], k = 4\n",
    "\n",
    "+ Output: 4"
   ]
  },
  {
   "cell_type": "code",
   "execution_count": 1,
   "metadata": {},
   "outputs": [],
   "source": [
    "from typing import List"
   ]
  },
  {
   "cell_type": "code",
   "execution_count": 2,
   "metadata": {},
   "outputs": [
    {
     "data": {
      "text/plain": [
       "6"
      ]
     },
     "execution_count": 2,
     "metadata": {},
     "output_type": "execute_result"
    }
   ],
   "source": [
    "##### Duhhhhhhhhhhhhhhhh ####\n",
    "\n",
    "class Solution1:\n",
    "    def findKthLargest(self, nums: List[int], k: int) -> int:\n",
    "        nums.sort(reverse=True)\n",
    "        return nums[k-1]\n",
    "\n",
    "nums = [1, 4, 2, 5, 3, 6, 2, 8]\n",
    "s1 = Solution1()\n",
    "s1.findKthLargest(nums, 2)"
   ]
  },
  {
   "cell_type": "code",
   "execution_count": 3,
   "metadata": {},
   "outputs": [
    {
     "data": {
      "text/plain": [
       "6"
      ]
     },
     "execution_count": 3,
     "metadata": {},
     "output_type": "execute_result"
    }
   ],
   "source": [
    "# This is an obvious sorting problem\n",
    "\n",
    "# merge\n",
    "class Solution2:\n",
    "    def findKthLargest(self, nums: List[int], k: int) -> int:\n",
    "        def merge(nums):\n",
    "            if len(nums) == 1:\n",
    "                return\n",
    "            mid = len(nums) // 2\n",
    "            left_half = nums[:mid]\n",
    "            right_half = nums[mid:]\n",
    "\n",
    "            merge(left_half)\n",
    "            merge(right_half)\n",
    "\n",
    "            i = j = k = 0\n",
    "\n",
    "            while i < len(left_half) and j < len(right_half):\n",
    "                if left_half[i] >= right_half[j]:\n",
    "                    nums[k] = left_half[i]\n",
    "                    i += 1\n",
    "                else:\n",
    "                    nums[k] = right_half[j]\n",
    "                    j += 1\n",
    "                k += 1\n",
    "\n",
    "            while i < len(left_half):\n",
    "                nums[k] = left_half[i]\n",
    "                k += 1\n",
    "                i +=1\n",
    "\n",
    "            while j < len(right_half):\n",
    "                nums[k] = right_half[j]\n",
    "                k += 1\n",
    "                j +=1\n",
    "\n",
    "            return nums\n",
    "\n",
    "        nums = merge(nums)\n",
    "        return nums[k-1]\n",
    "\n",
    "\n",
    "nums = [1, 4, 2, 5, 3, 6, 2, 8]\n",
    "s2 = Solution2()\n",
    "s2.findKthLargest(nums, 2)\n"
   ]
  },
  {
   "cell_type": "code",
   "execution_count": 4,
   "metadata": {},
   "outputs": [
    {
     "data": {
      "text/plain": [
       "6"
      ]
     },
     "execution_count": 4,
     "metadata": {},
     "output_type": "execute_result"
    }
   ],
   "source": [
    "class Solution3:\n",
    "    def findKthLargest(self, nums: List[int], k: int) -> int:\n",
    "        def count(nums):\n",
    "            length = len(nums)\n",
    "            min_val = min(nums)\n",
    "            max_val = max(nums)\n",
    "\n",
    "            count_arr = [0] * (max_val - min_val + 1)\n",
    "            output_arr = [0] * length\n",
    "\n",
    "            for num in nums:\n",
    "                count_arr[num-min_val] += 1\n",
    "\n",
    "            for i in range(1, len(count_arr)):\n",
    "                count_arr[i] += count_arr[i-1]\n",
    "\n",
    "            for i in range(length):\n",
    "                output_arr[count_arr[nums[i]-min_val]-1] = nums[i]\n",
    "                count_arr[nums[i]-min_val] -= 1\n",
    "\n",
    "            for i in range(length):\n",
    "                nums[length-i-1] = output_arr[i]\n",
    "\n",
    "            return nums\n",
    "\n",
    "        nums = count(nums)\n",
    "        return nums[k-1]\n",
    "\n",
    "nums = [1, 4, 2, 5, 3, 6, 2, 8]\n",
    "s3 = Solution3()\n",
    "s3 = Solution3()\n",
    "s3.findKthLargest(nums, 2)"
   ]
  },
  {
   "cell_type": "code",
   "execution_count": 18,
   "metadata": {},
   "outputs": [
    {
     "data": {
      "text/plain": [
       "6"
      ]
     },
     "execution_count": 18,
     "metadata": {},
     "output_type": "execute_result"
    }
   ],
   "source": [
    "class Solution4:\n",
    "    def findKthLargest(self, nums: List[int], k: int) -> int:\n",
    "        def quick(nums, low, high):\n",
    "            if low<high:\n",
    "                pi = partition(nums, low, high)\n",
    "                quick(nums, low, pi-1)\n",
    "                quick(nums, pi+1, high)\n",
    "\n",
    "        def partition(nums, low, high):\n",
    "            i = low-1\n",
    "            pivot = nums[high]\n",
    "\n",
    "            for j in range(low, high):\n",
    "                if nums[j] < pivot:\n",
    "                    i += 1\n",
    "                    nums[i], nums[j] = nums[j], nums[i]\n",
    "            nums[i+1], nums[high] = nums[high], nums[i+1]\n",
    "            return i+1\n",
    "\n",
    "\n",
    "        quick(nums, 0, len(nums)-1)\n",
    "        return nums[len(nums)-k]\n",
    "\n",
    "nums = [1, 4, 2, 5, 3, 6, 2, 8]\n",
    "s4 = Solution4()\n",
    "s4 = Solution4()\n",
    "s4.findKthLargest(nums, 2)"
   ]
  },
  {
   "cell_type": "code",
   "execution_count": null,
   "metadata": {},
   "outputs": [],
   "source": [
    "class Solution5:\n",
    "    def findKthLargest(self, nums: List[int], k: int) -> int:\n",
    "        def bubble(nums):\n",
    "            pass\n",
    "\n",
    "        nums = bubble(nums)\n",
    "        return nums[k-1]\n",
    "\n",
    "\n",
    "nums = [1, 4, 2, 5, 3, 6, 2, 8]\n",
    "s5 = Solution5()\n",
    "s5 = Solution5()\n",
    "s5.findKthLargest(nums, 2)"
   ]
  },
  {
   "cell_type": "code",
   "execution_count": 14,
   "metadata": {},
   "outputs": [
    {
     "name": "stdout",
     "output_type": "stream",
     "text": [
      "7\n",
      "1\n",
      "4\n",
      "3\n",
      "5\n"
     ]
    },
    {
     "data": {
      "text/plain": [
       "[1, 2, 2, 3, 4, 5, 6, 8]"
      ]
     },
     "execution_count": 14,
     "metadata": {},
     "output_type": "execute_result"
    }
   ],
   "source": []
  },
  {
   "cell_type": "code",
   "execution_count": null,
   "metadata": {},
   "outputs": [],
   "source": []
  }
 ],
 "metadata": {
  "kernelspec": {
   "display_name": "Python 3",
   "language": "python",
   "name": "python3"
  },
  "language_info": {
   "codemirror_mode": {
    "name": "ipython",
    "version": 3
   },
   "file_extension": ".py",
   "mimetype": "text/x-python",
   "name": "python",
   "nbconvert_exporter": "python",
   "pygments_lexer": "ipython3",
   "version": "3.10.11"
  }
 },
 "nbformat": 4,
 "nbformat_minor": 2
}
