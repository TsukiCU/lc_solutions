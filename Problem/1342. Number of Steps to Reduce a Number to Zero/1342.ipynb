{
 "cells": [
  {
   "cell_type": "markdown",
   "metadata": {},
   "source": [
    "# Number of Steps to Reduce a Number to Zero\n",
    "\n",
    "**Problem**:\n",
    "Given an integer `num`, calculate the number of steps required to reduce it to zero. In one step:\n",
    "- If the current number is even, divide it by 2.\n",
    "- If the current number is odd, subtract 1 from it.\n",
    "\n",
    "**Examples**:\n",
    "\n",
    "1. **Input**:\n",
    "   `num = 14`\n",
    "   \n",
    "   **Output**: `6`\n",
    "   \n",
    "   **Explanation**:\n",
    "   The steps to reduce 14 to zero are: 14 -> 7 -> 6 -> 3 -> 2 -> 1 -> 0.\n",
    "\n",
    "2. **Input**:\n",
    "   `num = 8`\n",
    "   \n",
    "   **Output**: `4`\n",
    "   \n",
    "   **Explanation**:\n",
    "   The steps to reduce 8 to zero are: 8 -> 4 -> 2 -> 1 -> 0.\n",
    "\n",
    "3. **Input**:\n",
    "   `num = 123`\n",
    "   \n",
    "   **Output**: `12`\n",
    "   \n",
    "   **Explanation**:\n",
    "   It takes 12 steps to reduce 123 to zero.\n",
    "\n",
    "**Constraints**:\n",
    "- `0 <= num <= 10^6`\n"
   ]
  },
  {
   "cell_type": "code",
   "execution_count": 8,
   "metadata": {},
   "outputs": [],
   "source": [
    "def test(s):\n",
    "    test_cases = [\n",
    "        (14, 6),\n",
    "        (8, 4),\n",
    "        (123, 12)\n",
    "    ]\n",
    "    for i, (num, expected) in enumerate(test_cases):\n",
    "        assert s.numberOfSteps(num) == expected, f\"wrong answer at test case {i + 1}: num = {num}\"\n",
    "    print(\"Succeed\")\n",
    "\n",
    "# Example usage\n",
    "# s = Solution()\n",
    "# test(s)\n"
   ]
  },
  {
   "cell_type": "code",
   "execution_count": 10,
   "metadata": {},
   "outputs": [
    {
     "name": "stdout",
     "output_type": "stream",
     "text": [
      "Succeed\n"
     ]
    }
   ],
   "source": [
    "class Solution:\n",
    "    def numberOfSteps(self, num: int) -> int:\n",
    "        if num <=2:\n",
    "            return num\n",
    "\n",
    "        res = 0\n",
    "        while True:\n",
    "            if num % 2:\n",
    "                num -= 1\n",
    "            else:\n",
    "                num /=2\n",
    "            res += 1\n",
    "            if num == 0:\n",
    "                break\n",
    "        return res\n",
    "\n",
    "\n",
    "test(Solution())"
   ]
  },
  {
   "cell_type": "code",
   "execution_count": 11,
   "metadata": {},
   "outputs": [
    {
     "name": "stdout",
     "output_type": "stream",
     "text": [
      "Succeed\n"
     ]
    }
   ],
   "source": [
    "'''\n",
    "    其实还是很巧妙的。\n",
    "\n",
    "    (1). num&1 判断奇偶 如果为1就减去, 本身也是要-1的, 正好趁着就减掉\n",
    "    (2). (奇数-1)/2 的操作其实可以用 num >>= 1一句完成, 这一句覆盖了这两步\n",
    "'''\n",
    "\n",
    "class Solution:\n",
    "    def numberOfSteps(self, num: int) -> int:\n",
    "        ans = 0\n",
    "        while num:\n",
    "            ans += num & 1\n",
    "            if num > 1:\n",
    "                ans += 1\n",
    "            num >>= 1\n",
    "        return ans\n",
    "\n",
    "\n",
    "test(Solution())"
   ]
  },
  {
   "cell_type": "code",
   "execution_count": null,
   "metadata": {},
   "outputs": [],
   "source": []
  }
 ],
 "metadata": {
  "kernelspec": {
   "display_name": "Python 3",
   "language": "python",
   "name": "python3"
  },
  "language_info": {
   "codemirror_mode": {
    "name": "ipython",
    "version": 3
   },
   "file_extension": ".py",
   "mimetype": "text/x-python",
   "name": "python",
   "nbconvert_exporter": "python",
   "pygments_lexer": "ipython3",
   "version": "3.10.11"
  }
 },
 "nbformat": 4,
 "nbformat_minor": 2
}
