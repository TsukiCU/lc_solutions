{
 "cells": [
  {
   "cell_type": "markdown",
   "metadata": {},
   "source": [
    "# Remove Duplicates from Sorted Array II\n",
    "\n",
    "**Problem**:\n",
    "Given a sorted array `nums`, remove duplicates in-place so that each element appears at most twice. The relative order of the elements must be maintained.\n",
    "\n",
    "After removing the duplicates, the first `k` elements of `nums` should hold the final result, where `k` is the number of elements remaining after the removal. The rest of the array beyond `k` does not matter.\n",
    "\n",
    "**Objective**:\n",
    "Return `k` after placing the final result in the first `k` slots of `nums`. The operation should be done in-place with O(1) extra memory.\n",
    "\n",
    "**Examples**:\n",
    "\n",
    "1. **Input**:\n",
    "   `nums = [1,1,1,2,2,3]`\n",
    "   \n",
    "   **Output**: `5`, `nums = [1,1,2,2,3,_]`\n",
    "   \n",
    "   **Explanation**:\n",
    "   The function returns `k = 5`, with the first five elements of `nums` being `1, 1, 2, 2, and 3`. The remaining part of the array does not matter (represented as underscores).\n",
    "\n",
    "2. **Input**:\n",
    "   `nums = [0,0,1,1,1,1,2,3,3]`\n",
    "   \n",
    "   **Output**: `7`, `nums = [0,0,1,1,2,3,3,_,_]`\n",
    "   \n",
    "   **Explanation**:\n",
    "   The function returns `k = 7`, with the first seven elements of `nums` being `0, 0, 1, 1, 2, 3, and 3`. The remaining part of the array does not matter (represented as underscores).\n",
    "\n",
    "**Constraints**:\n",
    "- The array `nums` is sorted in non-decreasing order.\n",
    "- `1 <= nums.length <= 3 * 10^4`\n",
    "- `-10^4 <= nums[i] <= 10^4`\n"
   ]
  },
  {
   "cell_type": "code",
   "execution_count": 1,
   "metadata": {},
   "outputs": [],
   "source": [
    "from typing import List\n",
    "def test(s):\n",
    "    test_cases = [\n",
    "        ([1,1,1,2,2,3], 5),\n",
    "        ([0,0,1,1,1,1,2,3,3], 7)\n",
    "    ]\n",
    "    for nums, expected in test_cases:\n",
    "        result = s.removeDuplicates(nums)\n",
    "        assert result == expected, f\"wrong answer: nums = {nums}, expected = {expected}\"\n",
    "        for i in range(result):\n",
    "            assert nums[i] == nums[i], f\"nums at {i} is not as expected after removal\"\n",
    "    print(\"Succeed\")\n",
    "\n",
    "# Example usage\n",
    "# s = Solution()\n",
    "# test(s)\n"
   ]
  },
  {
   "cell_type": "code",
   "execution_count": 3,
   "metadata": {},
   "outputs": [
    {
     "name": "stdout",
     "output_type": "stream",
     "text": [
      "Succeed\n"
     ]
    }
   ],
   "source": [
    "class Solution:\n",
    "    def removeDuplicates(self, nums: List[int]) -> int:\n",
    "        n = len(nums)\n",
    "        last = nums[0]\n",
    "        accumulate_seen = 1\n",
    "        j = 1\n",
    "        count = 0\n",
    "\n",
    "        for i in range(1, n):\n",
    "            if nums[i] == last:\n",
    "                if accumulate_seen == 2:\n",
    "                    # third from now on. nd to remove.\n",
    "                    count += 1\n",
    "                else:\n",
    "                    accumulate_seen += 1\n",
    "                    nums[j] = nums[i]\n",
    "                    j += 1\n",
    "            else:\n",
    "                accumulate_seen = 1\n",
    "                last = nums[i]\n",
    "                nums[j] = nums[i]\n",
    "                j += 1\n",
    "\n",
    "        del nums[n-count:]\n",
    "        return n-count\n",
    "    \n",
    "test(Solution())"
   ]
  },
  {
   "cell_type": "code",
   "execution_count": null,
   "metadata": {},
   "outputs": [],
   "source": []
  }
 ],
 "metadata": {
  "kernelspec": {
   "display_name": "Python 3",
   "language": "python",
   "name": "python3"
  },
  "language_info": {
   "codemirror_mode": {
    "name": "ipython",
    "version": 3
   },
   "file_extension": ".py",
   "mimetype": "text/x-python",
   "name": "python",
   "nbconvert_exporter": "python",
   "pygments_lexer": "ipython3",
   "version": "3.9.6"
  }
 },
 "nbformat": 4,
 "nbformat_minor": 2
}
