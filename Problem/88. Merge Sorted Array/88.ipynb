{
 "cells": [
  {
   "cell_type": "markdown",
   "metadata": {},
   "source": [
    "# Merge Sorted Array\n",
    "\n",
    "**Problem**:\n",
    "- Given two sorted integer arrays `nums1` and `nums2`.\n",
    "- `nums1` has a length of `m + n`, where `m` is the number of non-zero elements in `nums1`, and `n` is the number of elements in `nums2`. The first `m` elements of `nums1` are the elements to be merged, and the last `n` elements are set to 0 and should be ignored.\n",
    "- `nums2` is a sorted array with `n` elements.\n",
    "\n",
    "**Objective**: Merge `nums1` and `nums2` into a single array sorted in non-decreasing order. The merged array should be stored in `nums1`.\n",
    "\n",
    "**Examples**:\n",
    "\n",
    "1. **Input**: `nums1 = [1,2,3,0,0,0]`, `m = 3`, `nums2 = [2,5,6]`, `n = 3`\n",
    "   **Output**: `[1,2,2,3,5,6]`\n",
    "   **Explanation**: Merging `[1,2,3]` with `[2,5,6]` results in `[1,2,2,3,5,6]`.\n",
    "\n",
    "2. **Input**: `nums1 = [1]`, `m = 1`, `nums2 = []`, `n = 0`\n",
    "   **Output**: `[1]`\n",
    "   **Explanation**: Merging `[1]` with `[]` results in `[1]`.\n",
    "\n",
    "3. **Input**: `nums1 = [0]`, `m = 0`, `nums2 = [1]`, `n = 1`\n",
    "   **Output**: `[1]`\n",
    "   **Explanation**: Merging `[]` with `[1]` results in `[1]`. `nums1` has `m = 0`, so there are no elements in it initially.\n",
    "\n",
    "**Note**: The final sorted array should be stored inside `nums1`.\n"
   ]
  },
  {
   "cell_type": "code",
   "execution_count": 1,
   "metadata": {},
   "outputs": [],
   "source": [
    "from typing import List"
   ]
  },
  {
   "cell_type": "code",
   "execution_count": 3,
   "metadata": {},
   "outputs": [
    {
     "data": {
      "text/plain": [
       "[1, 2, 2, 3, 5, 6]"
      ]
     },
     "execution_count": 3,
     "metadata": {},
     "output_type": "execute_result"
    }
   ],
   "source": [
    "'''\n",
    "    sort kicks every easy problem's ass\n",
    "'''\n",
    "\n",
    "class Solution1:\n",
    "    def merge(self, nums1: List[int], m: int, nums2: List[int], n: int) -> None:\n",
    "        \"\"\"\n",
    "        Do not return anything, modify nums1 in-place instead.\n",
    "        \"\"\"\n",
    "        if m == 0:\n",
    "            nums1[:] = nums2    # note that it's incorrect to write smth like \"nums1 = nums2\", which only changes reference.\n",
    "        else:\n",
    "            nums1[m:] = nums2\n",
    "            nums1.sort()\n",
    "\n",
    "\n",
    "nums1 = [1,2,3,0,0,0]\n",
    "nums2 = [2,5,6]\n",
    "s = Solution1()\n",
    "s.merge(nums1, 3, nums2, 3)\n",
    "nums1"
   ]
  },
  {
   "cell_type": "code",
   "execution_count": 9,
   "metadata": {},
   "outputs": [
    {
     "data": {
      "text/plain": [
       "[1, 2, 2, 3, 5, 6]"
      ]
     },
     "execution_count": 9,
     "metadata": {},
     "output_type": "execute_result"
    }
   ],
   "source": [
    "'''\n",
    "    Dual pointers\n",
    "'''\n",
    "\n",
    "class Solution2:\n",
    "    def merge(self, nums1: List[int], m: int, nums2: List[int], n: int) -> None:\n",
    "        \"\"\"\n",
    "        Do not return anything, modify nums1 in-place instead.\n",
    "        \"\"\"\n",
    "        if m == 0:\n",
    "            nums1[:] = nums2\n",
    "\n",
    "        i = j = 0\n",
    "        k = 0\n",
    "        res = [0] * (m+n)\n",
    "        while i < m and j < n:\n",
    "            if nums1[i] <= nums2[j]:\n",
    "                res[k] = nums1[i]\n",
    "                i +=1\n",
    "            else:\n",
    "                res[k] = nums2[j]\n",
    "                j += 1\n",
    "            k += 1\n",
    "\n",
    "        if i < m:\n",
    "            res[k:] = nums1[i:]\n",
    "        if j < n:\n",
    "            res[k:] = nums2[j:]\n",
    "\n",
    "        nums1[:] = res\n",
    "\n",
    "\n",
    "nums1 = [1,2,3,0,0,0]\n",
    "nums2 = [2,5,6]\n",
    "s = Solution2()\n",
    "s.merge(nums1, 3, nums2, 3)\n",
    "nums1"
   ]
  },
  {
   "cell_type": "code",
   "execution_count": 24,
   "metadata": {},
   "outputs": [
    {
     "data": {
      "text/plain": [
       "[1, 2, 3, 4, 4, 5]"
      ]
     },
     "execution_count": 24,
     "metadata": {},
     "output_type": "execute_result"
    }
   ],
   "source": [
    "'''\n",
    "    Inverse Dual pointers\n",
    "    No need for extra space.\n",
    "    This works because the two arrays are sorted already.\n",
    "'''\n",
    "\n",
    "class Solution3:\n",
    "    def merge(self, nums1: List[int], m: int, nums2: List[int], n: int) -> None:\n",
    "        \"\"\"\n",
    "        Do not return anything, modify nums1 in-place instead.\n",
    "        \"\"\"\n",
    "        if m == 0:\n",
    "            nums1[:] = nums2\n",
    "        if n == 0:\n",
    "            return\n",
    "\n",
    "        i = m-1\n",
    "        j = n-1\n",
    "        k = m+n-1\n",
    "\n",
    "        while i >= 0 and j >= 0:\n",
    "            if nums1[i] >= nums2[j]:\n",
    "                nums1[k] = nums1[i]\n",
    "                i -= 1\n",
    "            else:\n",
    "                nums1[k] = nums2[j]\n",
    "                j -= 1\n",
    "            k -= 1\n",
    "\n",
    "        if j >= 0:\n",
    "            nums1[:k+1] = nums2[:j+1]\n",
    "\n",
    "nums1 = [4,0,0,0,0,0]\n",
    "nums2 = [1, 2, 3, 4, 5]\n",
    "s = Solution3()\n",
    "s.merge(nums1, 1, nums2, 5)\n",
    "nums1"
   ]
  },
  {
   "cell_type": "code",
   "execution_count": 18,
   "metadata": {},
   "outputs": [
    {
     "data": {
      "text/plain": [
       "[1]"
      ]
     },
     "execution_count": 18,
     "metadata": {},
     "output_type": "execute_result"
    }
   ],
   "source": []
  },
  {
   "cell_type": "code",
   "execution_count": null,
   "metadata": {},
   "outputs": [],
   "source": []
  }
 ],
 "metadata": {
  "kernelspec": {
   "display_name": "Python 3",
   "language": "python",
   "name": "python3"
  },
  "language_info": {
   "codemirror_mode": {
    "name": "ipython",
    "version": 3
   },
   "file_extension": ".py",
   "mimetype": "text/x-python",
   "name": "python",
   "nbconvert_exporter": "python",
   "pygments_lexer": "ipython3",
   "version": "3.10.11"
  }
 },
 "nbformat": 4,
 "nbformat_minor": 2
}
