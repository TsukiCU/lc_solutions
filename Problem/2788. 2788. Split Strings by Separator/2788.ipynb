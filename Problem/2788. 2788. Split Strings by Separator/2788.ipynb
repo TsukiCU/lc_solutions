{
 "cells": [
  {
   "cell_type": "markdown",
   "metadata": {},
   "source": [
    "# Split Strings by Separator\n",
    "\n",
    "**Problem**:\n",
    "Given an array of strings `words` and a character `separator`, split each string in `words` by `separator`, forming new strings. The function should return an array of these new strings, excluding any empty strings.\n",
    "\n",
    "**Notes**:\n",
    "- `separator` is used for splitting but is not included in the resulting strings.\n",
    "- A split can result in more than two strings.\n",
    "- The order of resulting strings should be maintained as in the original array.\n",
    "\n",
    "**Examples**:\n",
    "\n",
    "1. **Input**:\n",
    "   `words = [\"one.two.three\", \"four.five\", \"six\"]`, `separator = \".\"`\n",
    "   \n",
    "   **Output**: `[\"one\", \"two\", \"three\", \"four\", \"five\", \"six\"]`\n",
    "   \n",
    "   **Explanation**:\n",
    "   - \"one.two.three\" -> \"one\", \"two\", \"three\"\n",
    "   - \"four.five\" -> \"four\", \"five\"\n",
    "   - \"six\" -> \"six\"\n",
    "\n",
    "2. **Input**:\n",
    "   `words = [\"$easy$\", \"$problem$\"]`, `separator = \"$\"`\n",
    "   \n",
    "   **Output**: `[\"easy\", \"problem\"]`\n",
    "   \n",
    "   **Explanation**:\n",
    "   - \"$easy$\" -> \"easy\"\n",
    "   - \"$problem$\" -> \"problem\"\n",
    "\n",
    "3. **Input**:\n",
    "   `words = [\"|||\"]`, `separator = \"|\"`\n",
    "   \n",
    "   **Output**: `[]`\n",
    "   \n",
    "   **Explanation**:\n",
    "   - The split of \"|||\" results in only empty strings, so an empty array is returned.\n",
    "\n",
    "**Constraints**:\n",
    "- `1 <= words.length <= 100`\n",
    "- `1 <= words[i].length <= 20`\n",
    "- Characters in `words[i]` are either lowercase English letters or characters from the string `\".|$#@\"`\n",
    "- `separator` is a character from the string `\".|$#@\"`\n"
   ]
  },
  {
   "cell_type": "code",
   "execution_count": 1,
   "metadata": {},
   "outputs": [],
   "source": [
    "from typing import List\n",
    "def test(s):\n",
    "    test_cases = [\n",
    "        ([\"one.two.three\", \"four.five\", \"six\"], \".\"),\n",
    "        ([\"$easy$\", \"$problem$\"], \"$\"),\n",
    "        ([\"|||\"], \"|\")\n",
    "    ]\n",
    "    ref = [\n",
    "        [\"one\", \"two\", \"three\", \"four\", \"five\", \"six\"],\n",
    "        [\"easy\", \"problem\"],\n",
    "        []\n",
    "    ]\n",
    "    for i, ((words, separator), expected) in enumerate(zip(test_cases, ref)):\n",
    "        assert s.splitWordsBySeparator(words, separator) == expected, f\"wrong answer at test case {i + 1}: words = {words}, separator = {separator}\"\n",
    "    print(\"Succeed\")\n",
    "\n",
    "# Example usage\n",
    "# s = Solution()\n",
    "# test(s)\n"
   ]
  },
  {
   "cell_type": "code",
   "execution_count": 7,
   "metadata": {},
   "outputs": [
    {
     "name": "stdout",
     "output_type": "stream",
     "text": [
      "Succeed\n"
     ]
    }
   ],
   "source": [
    "'''\n",
    "    STOP TRYING TO REINVENT THE WHEEL LMFAO\n",
    "'''\n",
    "\n",
    "class Solution1:\n",
    "    def splitWordsBySeparator(self, words: List[str], separator: str) -> List[str]:\n",
    "        words_str = \"\"\n",
    "        for n in words[:-1]:\n",
    "            words_str += n\n",
    "            words_str += separator\n",
    "        words_str += words[-1]\n",
    "        return [item for item in words_str.split(separator) if item]\n",
    "\n",
    "\n",
    "test(Solution1())\n",
    "[\"$easy$\",\"$problem$\"]"
   ]
  },
  {
   "cell_type": "code",
   "execution_count": 36,
   "metadata": {},
   "outputs": [
    {
     "name": "stdout",
     "output_type": "stream",
     "text": [
      "Succeed\n"
     ]
    }
   ],
   "source": [
    "'''\n",
    "    Be careful of the edge cases.\n",
    "\n",
    "    Super slow it is.\n",
    "'''\n",
    "\n",
    "class Solution2:\n",
    "    def splitWordsBySeparator(self, words: List[str], separator: str) -> List[str]:\n",
    "        res = []\n",
    "        cur = \"\"\n",
    "        words_str = \"\"\n",
    "        for n in words[:-1]:\n",
    "            words_str += n\n",
    "            words_str += separator\n",
    "        words_str += words[-1]\n",
    "        n = len(words_str)\n",
    "\n",
    "        for i, letter in enumerate(words_str):\n",
    "            if letter == separator:\n",
    "                if cur:\n",
    "                    res.append(cur)\n",
    "                    cur = \"\"\n",
    "                    continue\n",
    "                else:\n",
    "                    cur = \"\"\n",
    "                    continue\n",
    "            elif i == n-1:\n",
    "                cur += letter\n",
    "                res.append(cur)\n",
    "\n",
    "            cur += letter\n",
    "\n",
    "        return res\n",
    "\n",
    "\n",
    "test(Solution2())"
   ]
  },
  {
   "cell_type": "code",
   "execution_count": 27,
   "metadata": {},
   "outputs": [
    {
     "data": {
      "text/plain": [
       "False"
      ]
     },
     "execution_count": 27,
     "metadata": {},
     "output_type": "execute_result"
    }
   ],
   "source": []
  },
  {
   "cell_type": "code",
   "execution_count": null,
   "metadata": {},
   "outputs": [],
   "source": []
  }
 ],
 "metadata": {
  "kernelspec": {
   "display_name": "Python 3",
   "language": "python",
   "name": "python3"
  },
  "language_info": {
   "codemirror_mode": {
    "name": "ipython",
    "version": 3
   },
   "file_extension": ".py",
   "mimetype": "text/x-python",
   "name": "python",
   "nbconvert_exporter": "python",
   "pygments_lexer": "ipython3",
   "version": "3.10.11"
  }
 },
 "nbformat": 4,
 "nbformat_minor": 2
}
