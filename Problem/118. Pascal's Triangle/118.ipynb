{
 "cells": [
  {
   "cell_type": "markdown",
   "metadata": {},
   "source": [
    "# Pascal's Triangle\n",
    "\n",
    "**Problem**:\n",
    "Given an integer `numRows`, generate the first `numRows` of Pascal's triangle.\n",
    "\n",
    "Pascal's triangle is a triangular array of the binomial coefficients. In Pascal's triangle, each number is the sum of the two numbers directly above it.\n",
    "\n",
    "**Examples**:\n",
    "\n",
    "1. **Input**:\n",
    "   `numRows = 5`\n",
    "   \n",
    "   **Output**: `[[1],[1,1],[1,2,1],[1,3,3,1],[1,4,6,4,1]]`\n",
    "   \n",
    "   **Explanation**:\n",
    "   The first five rows of Pascal's triangle are displayed.\n",
    "\n",
    "2. **Input**:\n",
    "   `numRows = 1`\n",
    "   \n",
    "   **Output**: `[[1]]`\n",
    "   \n",
    "   **Explanation**:\n",
    "   The first row of Pascal's triangle is a single 1.\n",
    "\n",
    "**Constraints**:\n",
    "- `1 <= numRows <= 30`\n"
   ]
  },
  {
   "cell_type": "code",
   "execution_count": 1,
   "metadata": {},
   "outputs": [],
   "source": [
    "from typing import List\n",
    "def test(s):\n",
    "    test_cases = [\n",
    "        (5, [[1],[1,1],[1,2,1],[1,3,3,1],[1,4,6,4,1]]),\n",
    "        (1, [[1]])\n",
    "    ]\n",
    "    for i, (numRows, expected) in enumerate(test_cases):\n",
    "        assert s.generate(numRows) == expected, f\"wrong answer at test case {i + 1}: numRows = {numRows}\"\n",
    "    print(\"Succeed\")\n",
    "\n",
    "# Example usage\n",
    "# s = Solution()\n",
    "# test(s)\n"
   ]
  },
  {
   "cell_type": "code",
   "execution_count": 6,
   "metadata": {},
   "outputs": [
    {
     "name": "stdout",
     "output_type": "stream",
     "text": [
      "Succeed\n"
     ]
    }
   ],
   "source": [
    "class Solution:\n",
    "    def generate(self, numRows: int) -> List[List[int]]:\n",
    "        res = [[1]*(i+1) for i in range(numRows)]\n",
    "\n",
    "        for i in range(2, numRows):\n",
    "            for j in range(1, i):\n",
    "                res[i][j] = res[i-1][j-1] + res[i-1][j]\n",
    "\n",
    "        return res\n",
    "\n",
    "test(Solution())"
   ]
  },
  {
   "cell_type": "code",
   "execution_count": 11,
   "metadata": {},
   "outputs": [
    {
     "name": "stdout",
     "output_type": "stream",
     "text": [
      "Succeed\n"
     ]
    }
   ],
   "source": [
    "'''\n",
    "    Optimize space complexity.\n",
    "\n",
    "    We only need to keep track of the last row. So space complexity can be optimized to o(n)\n",
    "'''\n",
    "\n",
    "class Solution:\n",
    "    def generate(self, numRows: int) -> List[List[int]]:\n",
    "        if numRows == 1:\n",
    "            return [[1]]\n",
    "\n",
    "        mid = []\n",
    "        res = [[1], [1, 1]]\n",
    "\n",
    "        for i in range(2, numRows):\n",
    "            mid = [1]\n",
    "            for j in range(1, i):\n",
    "                mid.append(res[i-1][j-1] + res[i-1][j])\n",
    "            mid.append(1)\n",
    "            res.append(mid)\n",
    "\n",
    "        return res\n",
    "\n",
    "test(Solution())"
   ]
  },
  {
   "cell_type": "code",
   "execution_count": null,
   "metadata": {},
   "outputs": [],
   "source": []
  }
 ],
 "metadata": {
  "kernelspec": {
   "display_name": "Python 3",
   "language": "python",
   "name": "python3"
  },
  "language_info": {
   "codemirror_mode": {
    "name": "ipython",
    "version": 3
   },
   "file_extension": ".py",
   "mimetype": "text/x-python",
   "name": "python",
   "nbconvert_exporter": "python",
   "pygments_lexer": "ipython3",
   "version": "3.10.11"
  }
 },
 "nbformat": 4,
 "nbformat_minor": 2
}
