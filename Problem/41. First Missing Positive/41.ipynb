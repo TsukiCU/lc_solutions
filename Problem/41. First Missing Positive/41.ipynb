{
 "cells": [
  {
   "cell_type": "markdown",
   "metadata": {},
   "source": [
    "# First Missing Positive\n",
    "\n",
    "**Problem**:\n",
    "Given an unsorted integer array `nums`, find the smallest missing positive integer. Your algorithm should run in **O(n)** time and use **O(1)** auxiliary space.\n",
    "\n",
    "**Examples**:\n",
    "\n",
    "1. **Input**:\n",
    "   `nums = [1,2,0]`\n",
    "   \n",
    "   **Output**: `3`\n",
    "   \n",
    "   **Explanation**:\n",
    "   1 and 2 are in the array, so the smallest missing positive integer is 3.\n",
    "\n",
    "2. **Input**:\n",
    "   `num = [3,4,-1,1]`\n",
    "   \n",
    "   **Output**: `2`\n",
    "   \n",
    "   **Explanation**:\n",
    "   1 is in the array, but 2 is missing.\n",
    "\n",
    "3. **Input**:\n",
    "   `num = [7,8,9,11,12]`\n",
    "   \n",
    "   **Output**: `1`\n",
    "   \n",
    "   **Explanation**:\n",
    "   The smallest positive integer 1 is missing.\n",
    "\n",
    "**Constraints**:\n",
    "- `1 <= num.length <= 10^5`\n",
    "- `-2^31 <= nums[i] <= 2^31 - 1`\n"
   ]
  },
  {
   "cell_type": "code",
   "execution_count": 36,
   "metadata": {},
   "outputs": [],
   "source": [
    "from typing import List\n",
    "def test(s):\n",
    "    test_cases = [\n",
    "        ([1,2,0], 3),\n",
    "        ([3,4,-1,1], 2),\n",
    "        ([7,8,9,11,12], 1), \n",
    "        ([0], 1)\n",
    "    ]\n",
    "    for nums, expected in test_cases:\n",
    "        result = s.firstMissingPositive(nums)\n",
    "        assert result == expected, f\"wrong answer for nums = {nums}, expected = {expected}\"\n",
    "    print(\"Succeed\")"
   ]
  },
  {
   "cell_type": "code",
   "execution_count": 39,
   "metadata": {},
   "outputs": [
    {
     "name": "stdout",
     "output_type": "stream",
     "text": [
      "Succeed\n"
     ]
    },
    {
     "data": {
      "text/plain": [
       "1"
      ]
     },
     "execution_count": 39,
     "metadata": {},
     "output_type": "execute_result"
    }
   ],
   "source": [
    "\"\"\"\n",
    "sort() is O(nlog(n)) in average why does it work?\n",
    "\"\"\"\n",
    "\n",
    "class Solution:\n",
    "    def firstMissingPositive(self, nums: List[int]) -> int:\n",
    "        def rm_negative_and_duplicate():\n",
    "            pos, last = 0, 0\n",
    "            for i in range(len(nums)):\n",
    "                if nums[i] > 0 and nums[i] != last:\n",
    "                    nums[pos] = nums[i]\n",
    "                    pos += 1\n",
    "                    last = nums[i]\n",
    "            del(nums[pos:])\n",
    "\n",
    "        rm_negative_and_duplicate()\n",
    "\n",
    "        nums.sort()\n",
    "        \n",
    "        if len(nums) == 0 or nums[0] > 1:\n",
    "            return 1\n",
    "        last = nums[0]\n",
    "        for i in nums[1:]:\n",
    "            if i - last > 1:\n",
    "                return last + 1\n",
    "            last = i\n",
    "        return nums[-1] + 1\n",
    "\n",
    "\n",
    "test(Solution())"
   ]
  },
  {
   "cell_type": "code",
   "execution_count": null,
   "metadata": {},
   "outputs": [],
   "source": []
  }
 ],
 "metadata": {
  "kernelspec": {
   "display_name": "Python 3",
   "language": "python",
   "name": "python3"
  },
  "language_info": {
   "codemirror_mode": {
    "name": "ipython",
    "version": 3
   },
   "file_extension": ".py",
   "mimetype": "text/x-python",
   "name": "python",
   "nbconvert_exporter": "python",
   "pygments_lexer": "ipython3",
   "version": "3.11.2"
  }
 },
 "nbformat": 4,
 "nbformat_minor": 2
}
