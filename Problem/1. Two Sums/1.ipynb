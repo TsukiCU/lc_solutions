{
 "cells": [
  {
   "cell_type": "markdown",
   "metadata": {},
   "source": [
    "# Two Sum\n",
    "\n",
    "**Problem**:\n",
    "Given an array of integers `nums` and an integer `target`, find the two numbers in `nums` that add up to `target` and return their indices.\n",
    "\n",
    "You may assume that each input has exactly one solution, and the same element cannot be used twice. The answer can be returned in any order.\n",
    "\n",
    "**Examples**:\n",
    "\n",
    "1. **Input**:\n",
    "   `nums = [2,7,11,15]`, `target = 9`\n",
    "   \n",
    "   **Output**: `[0,1]`\n",
    "   \n",
    "   **Explanation**:\n",
    "   `nums[0] + nums[1] == 9`, so we return `[0, 1]`.\n",
    "\n",
    "2. **Input**:\n",
    "   `nums = [3,2,4]`, `target = 6`\n",
    "   \n",
    "   **Output**: `[1,2]`\n",
    "   \n",
    "   **Explanation**:\n",
    "   `nums[1] + nums[2] == 6`, so we return `[1, 2]`.\n",
    "\n",
    "3. **Input**:\n",
    "   `nums = [3,3]`, `target = 6`\n",
    "   \n",
    "   **Output**: `[0,1]`\n",
    "   \n",
    "   **Explanation**:\n",
    "   `nums[0] + nums[1] == 6`, so we return `[0, 1]`.\n",
    "\n",
    "**Hints**:\n",
    "- `2 <= nums.length <= 10^4`\n",
    "- `-10^9 <= nums[i] <= 10^9`\n",
    "- `-10^9 <= target <= 10^9`\n",
    "- There is exactly one valid answer.\n"
   ]
  },
  {
   "cell_type": "code",
   "execution_count": 1,
   "metadata": {},
   "outputs": [],
   "source": [
    "from typing import List\n",
    "\n",
    "def test(s):\n",
    "    test_cases = [\n",
    "        ([2,7,11,15], 9, [0,1]),\n",
    "        ([3,2,4], 6, [1,2]),\n",
    "        ([3,3], 6, [0,1])\n",
    "    ]\n",
    "    for i, (nums, target, expected) in enumerate(test_cases):\n",
    "        result = s.twoSum(nums, target)\n",
    "        assert sorted(result) == sorted(expected), f\"wrong answer at test case {i + 1}: nums = {nums}, target = {target}\"\n",
    "    print(\"Succeed\")\n",
    "\n",
    "# Example usage\n",
    "# s = Solution()\n",
    "# test(s)\n"
   ]
  },
  {
   "cell_type": "code",
   "execution_count": 2,
   "metadata": {},
   "outputs": [
    {
     "name": "stdout",
     "output_type": "stream",
     "text": [
      "Succeed\n"
     ]
    }
   ],
   "source": [
    "class Solution:\n",
    "    def twoSum(self, nums: List[int], target: int) -> List[int]:\n",
    "        # so dumb that I dont even know why it's even here.\n",
    "        h = {}\n",
    "        for i, num in enumerate(nums):\n",
    "            if target-num in h:\n",
    "                return [i, h[target-num]]\n",
    "            else:\n",
    "                h[num] = i\n",
    "\n",
    "\n",
    "test(Solution())"
   ]
  },
  {
   "cell_type": "code",
   "execution_count": null,
   "metadata": {},
   "outputs": [],
   "source": []
  }
 ],
 "metadata": {
  "kernelspec": {
   "display_name": "Python 3",
   "language": "python",
   "name": "python3"
  },
  "language_info": {
   "codemirror_mode": {
    "name": "ipython",
    "version": 3
   },
   "file_extension": ".py",
   "mimetype": "text/x-python",
   "name": "python",
   "nbconvert_exporter": "python",
   "pygments_lexer": "ipython3",
   "version": "3.10.11"
  }
 },
 "nbformat": 4,
 "nbformat_minor": 2
}
