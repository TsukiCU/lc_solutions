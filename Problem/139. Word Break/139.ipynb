{
 "cells": [
  {
   "cell_type": "markdown",
   "metadata": {},
   "source": [
    "# Word Break\n",
    "\n",
    "**Problem**:\n",
    "Given a string `s` and a dictionary `wordDict`, determine if `s` can be segmented into a sequence of one or more words from the dictionary. Words in the dictionary can be reused multiple times in the segmentation.\n",
    "\n",
    "**Examples**:\n",
    "\n",
    "1. **Input**:\n",
    "   `s = \"leetcode\"`, `wordDict = [\"leet\",\"code\"]`\n",
    "   \n",
    "   **Output**: `true`\n",
    "   \n",
    "   **Explanation**:\n",
    "   \"leetcode\" can be segmented as \"leet code\".\n",
    "\n",
    "2. **Input**:\n",
    "   `s = \"applepenapple\"`, `wordDict = [\"apple\",\"pen\"]`\n",
    "   \n",
    "   **Output**: `true`\n",
    "   \n",
    "   **Explanation**:\n",
    "   \"applepenapple\" can be segmented as \"apple pen apple\". Words in the dictionary can be reused.\n",
    "\n",
    "3. **Input**:\n",
    "   `s = \"catsandog\"`, `wordDict = [\"cats\",\"dog\",\"sand\",\"and\",\"cat\"]`\n",
    "   \n",
    "   **Output**: `false`\n",
    "   \n",
    "   **Explanation**:\n",
    "   \"catsandog\" cannot be segmented into a sequence of dictionary words.\n",
    "\n",
    "**Constraints**:\n",
    "- `1 <= s.length <= 300`\n",
    "- `1 <= wordDict.length <= 1000`\n",
    "- `1 <= wordDict[i].length <= 20`\n",
    "- `s` and `wordDict[i]` consist of only lowercase English letters.\n",
    "- All the strings in `wordDict` are unique.\n"
   ]
  },
  {
   "cell_type": "code",
   "execution_count": 60,
   "metadata": {},
   "outputs": [],
   "source": [
    "from typing import List\n",
    "\n",
    "def test(s: object):\n",
    "    test_cases = [\n",
    "        (\"leetcode\", [\"leet\", \"code\"], True),\n",
    "        (\"applepenapple\", [\"apple\", \"pen\"], True),\n",
    "        (\"catsandog\", [\"cats\", \"dog\", \"sand\", \"and\", \"cat\"], False),\n",
    "        (\"aaa\", [\"a\"], True)\n",
    "    ]\n",
    "    for input_str, wordDict, expected in test_cases:\n",
    "        result = s.wordBreak(input_str, wordDict)\n",
    "        assert result == expected, f\"wrong result for s = '{input_str}' with wordDict = {wordDict}, expected = {expected}\"\n",
    "    print(\"Succeed\")\n",
    "\n",
    "# Example usage\n",
    "# s = Solution()\n",
    "# test(s)\n"
   ]
  },
  {
   "cell_type": "code",
   "execution_count": 61,
   "metadata": {},
   "outputs": [
    {
     "name": "stdout",
     "output_type": "stream",
     "text": [
      "Succeed\n"
     ]
    },
    {
     "data": {
      "text/plain": [
       "True"
      ]
     },
     "execution_count": 61,
     "metadata": {},
     "output_type": "execute_result"
    }
   ],
   "source": [
    "\"\"\"\n",
    "first attempt AC. Defeat 5% of ppl lmao.\n",
    "\"\"\"\n",
    "\n",
    "class Solution:\n",
    "    def wordBreak(self, s: str, wordDict: List[str]) -> bool:\n",
    "        n, word_lenghth = len(s), len(wordDict)\n",
    "        h = {}\n",
    "        for word in wordDict:\n",
    "            h[word] = 1\n",
    "\n",
    "        dp = [[False for i in range(n)] for j in range(word_lenghth)]\n",
    "\n",
    "        for i in range(word_lenghth):\n",
    "            for j in range(n):\n",
    "                if dp[i-1][j]:\n",
    "                    dp[i][j] = True\n",
    "                elif s[:j+1] in h:\n",
    "                    dp[i][j] = True\n",
    "                else:\n",
    "                    for word in wordDict[:i+1]:\n",
    "                        if j >= len(word) and dp[i][j-len(word)] and s[j-len(word)+1:j+1] in h:\n",
    "                            dp[i][j] = True\n",
    "\n",
    "        return dp[word_lenghth-1][n-1]\n",
    "\n",
    "\n",
    "test(Solution())"
   ]
  },
  {
   "cell_type": "code",
   "execution_count": 80,
   "metadata": {},
   "outputs": [
    {
     "name": "stdout",
     "output_type": "stream",
     "text": [
      "Succeed\n"
     ]
    }
   ],
   "source": [
    "\"\"\"\n",
    "This is much better.\n",
    "\"\"\"\n",
    "\n",
    "class Solution:\n",
    "    def wordBreak(self, s: str, wordDict: List[str]) -> bool:\n",
    "        n = len(s)\n",
    "        h = {}\n",
    "        for word in wordDict:\n",
    "            h[word] = 1\n",
    "        tmp = []\n",
    "\n",
    "        dp = [0 for i in range(n)]\n",
    "        for i in range(n):\n",
    "            if s[:i+1] in h:\n",
    "                dp[i] = 1\n",
    "                tmp.append(i)\n",
    "            for j in tmp:\n",
    "                if s[j+1:i+1] in h:\n",
    "                    dp[i] = 1\n",
    "                    tmp.append(i)\n",
    "                    break\n",
    "\n",
    "        return True if dp[-1] else False\n",
    "\n",
    "\n",
    "test(Solution())"
   ]
  },
  {
   "cell_type": "code",
   "execution_count": null,
   "metadata": {},
   "outputs": [],
   "source": []
  }
 ],
 "metadata": {
  "kernelspec": {
   "display_name": "Python 3",
   "language": "python",
   "name": "python3"
  },
  "language_info": {
   "codemirror_mode": {
    "name": "ipython",
    "version": 3
   },
   "file_extension": ".py",
   "mimetype": "text/x-python",
   "name": "python",
   "nbconvert_exporter": "python",
   "pygments_lexer": "ipython3",
   "version": "3.9.6"
  }
 },
 "nbformat": 4,
 "nbformat_minor": 2
}
