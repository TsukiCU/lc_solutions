{
 "cells": [
  {
   "cell_type": "markdown",
   "metadata": {},
   "source": [
    "# Palindrome Number\n",
    "\n",
    "**Problem**:\n",
    "Determine whether an integer `x` is a palindrome. An integer is a palindrome when it reads the same backward as forward.\n",
    "\n",
    "**Examples**:\n",
    "\n",
    "1. **Input**:\n",
    "   `x = 121`\n",
    "   \n",
    "   **Output**: `true`\n",
    "   \n",
    "   **Explanation**:\n",
    "   121 is a palindrome because it reads the same from left to right and from right to left.\n",
    "\n",
    "2. **Input**:\n",
    "   `x = -121`\n",
    "   \n",
    "   **Output**: `false`\n",
    "   \n",
    "   **Explanation**:\n",
    "   -121 reads as -121 from left to right and 121- from right to left, making it not a palindrome.\n",
    "\n",
    "3. **Input**:\n",
    "   `x = 10`\n",
    "   \n",
    "   **Output**: `false`\n",
    "   \n",
    "   **Explanation**:\n",
    "   10 reads as 01 from right to left, making it not a palindrome.\n",
    "\n",
    "**Constraints**:\n",
    "- `-2^31 <= x <= 2^31 - 1`\n",
    "\n",
    "**Follow-up**:\n",
    "Can you solve this problem without converting the integer to a string?\n"
   ]
  },
  {
   "cell_type": "code",
   "execution_count": 1,
   "metadata": {},
   "outputs": [],
   "source": [
    "def test(s):\n",
    "    test_cases = [\n",
    "        (121, True),\n",
    "        (-121, False),\n",
    "        (10, False),\n",
    "        (1, True),\n",
    "        (9999, True)\n",
    "    ]\n",
    "    for i, (x, expected) in enumerate(test_cases):\n",
    "        assert s.isPalindrome(x) == expected, f\"wrong answer at test case {i + 1}: x = {x}\"\n",
    "    print(\"Succeed\")\n",
    "\n",
    "# Example usage\n",
    "# s = Solution()\n",
    "# test(s)"
   ]
  },
  {
   "cell_type": "code",
   "execution_count": 2,
   "metadata": {},
   "outputs": [
    {
     "name": "stdout",
     "output_type": "stream",
     "text": [
      "Succeed\n"
     ]
    }
   ],
   "source": [
    "'''\n",
    "    Convert to string and use dual pointers.\n",
    "'''\n",
    "\n",
    "class Solution:\n",
    "    def isPalindrome(self, x: int) -> bool:\n",
    "        if x<0:\n",
    "            return False\n",
    "        x = str(x)\n",
    "        i, j = 0, len(x)-1\n",
    "        while i<j:\n",
    "            if x[i] != x[j]:\n",
    "                return False\n",
    "            i += 1\n",
    "            j -= 1\n",
    "\n",
    "        return True\n",
    "\n",
    "test(Solution())"
   ]
  },
  {
   "cell_type": "code",
   "execution_count": 5,
   "metadata": {},
   "outputs": [
    {
     "name": "stdout",
     "output_type": "stream",
     "text": [
      "Succeed\n"
     ]
    }
   ],
   "source": [
    "'''\n",
    "    No turning x into string\n",
    "'''\n",
    "class Solution:\n",
    "    def isPalindrome(self, x: int) -> bool:\n",
    "        if x<0:\n",
    "            return False\n",
    "        n = 0\n",
    "        temp = x\n",
    "        while temp:\n",
    "            temp //= 10\n",
    "            n += 1\n",
    "\n",
    "        while n > 0:\n",
    "            high = x // pow(10, n-1)\n",
    "            low = x % 10\n",
    "            if high != low:\n",
    "                return False\n",
    "            x //= 10\n",
    "            x -= high * pow(10, n-2)\n",
    "            n -= 2\n",
    "\n",
    "        return True\n",
    "\n",
    "\n",
    "test(Solution())"
   ]
  },
  {
   "cell_type": "code",
   "execution_count": 10,
   "metadata": {},
   "outputs": [
    {
     "data": {
      "text/plain": [
       "12.1"
      ]
     },
     "execution_count": 10,
     "metadata": {},
     "output_type": "execute_result"
    }
   ],
   "source": []
  },
  {
   "cell_type": "code",
   "execution_count": null,
   "metadata": {},
   "outputs": [],
   "source": []
  }
 ],
 "metadata": {
  "kernelspec": {
   "display_name": "Python 3",
   "language": "python",
   "name": "python3"
  },
  "language_info": {
   "codemirror_mode": {
    "name": "ipython",
    "version": 3
   },
   "file_extension": ".py",
   "mimetype": "text/x-python",
   "name": "python",
   "nbconvert_exporter": "python",
   "pygments_lexer": "ipython3",
   "version": "3.10.11"
  }
 },
 "nbformat": 4,
 "nbformat_minor": 2
}
