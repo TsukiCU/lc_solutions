{
 "cells": [
  {
   "cell_type": "markdown",
   "metadata": {},
   "source": [
    "# Spiral Matrix\n",
    "\n",
    "**Problem**:\n",
    "Given an `m x n` matrix, return all elements of the matrix in spiral order.\n",
    "\n",
    "**Examples**:\n",
    "\n",
    "1. **Input**:\n",
    "   `matrix = [[1,2,3],[4,5,6],[7,8,9]]`\n",
    "   \n",
    "   **Output**: `[1,2,3,6,9,8,7,4,5]`\n",
    "   \n",
    "   **Explanation**:\n",
    "   The elements are returned in the order they appear in a spiral path, starting from the top-left corner and moving right initially.\n",
    "\n",
    "2. **Input**:\n",
    "   `matrix = [[1,2,3,4],[5,6,7,8],[9,10,11,12]]`\n",
    "   \n",
    "   **Output**: `[1,2,3,4,8,12,11,10,9,5,6,7]`\n",
    "   \n",
    "   **Explanation**:\n",
    "   The elements are returned following the spiral order starting from the top-left corner.\n",
    "\n",
    "**Constraints**:\n",
    "- `m == matrix.length`\n",
    "- `n == matrix[i].length`\n",
    "- `1 <= m, n <= 10`\n",
    "- `-100 <= matrix[i][j] <= 100`\n"
   ]
  },
  {
   "cell_type": "code",
   "execution_count": 2,
   "metadata": {},
   "outputs": [],
   "source": [
    "from typing import List\n",
    "def test(s):\n",
    "    test_cases = [\n",
    "        ([[1,2,3],[4,5,6],[7,8,9]], [1,2,3,6,9,8,7,4,5]),\n",
    "        ([[1,2,3,4],[5,6,7,8],[9,10,11,12]], [1,2,3,4,8,12,11,10,9,5,6,7])\n",
    "    ]\n",
    "    for matrix, expected in test_cases:\n",
    "        result = s.spiralOrder(matrix)\n",
    "        assert result == expected, f\"wrong answer for matrix = {matrix}, expected = {expected}\"\n",
    "    print(\"Succeed\")\n"
   ]
  },
  {
   "cell_type": "code",
   "execution_count": 7,
   "metadata": {},
   "outputs": [
    {
     "name": "stdout",
     "output_type": "stream",
     "text": [
      "Succeed\n"
     ]
    }
   ],
   "source": [
    "class Solution:\n",
    "    def spiralOrder(self, matrix: List[List[int]]) -> List[int]:\n",
    "        if not matrix or not matrix[0]:\n",
    "            return []\n",
    "\n",
    "        ans = []\n",
    "        top, bottom = 0, len(matrix)\n",
    "        left, right = 0, len(matrix[0])\n",
    "\n",
    "        #############!!!!!!!!!!!###############\n",
    "        while left < right and top < bottom:\n",
    "            # left to right\n",
    "            for i in range(left, right):\n",
    "                ans.append(matrix[top][i])\n",
    "            top += 1\n",
    "            \n",
    "            # right to bottom\n",
    "            for i in range(top, bottom):\n",
    "                ans.append(matrix[i][right-1])\n",
    "            right -= 1\n",
    "\n",
    "            # 😭\n",
    "            if not (left < right and top < bottom):\n",
    "                break\n",
    "            \n",
    "            # right to left\n",
    "            for i in range(right-1, left-1, -1):\n",
    "                ans.append(matrix[bottom-1][i])\n",
    "            bottom -= 1\n",
    "            \n",
    "            # bottom to top\n",
    "            for i in range(bottom-1, top-1, -1):\n",
    "                ans.append(matrix[i][left])\n",
    "            left += 1\n",
    "\n",
    "\n",
    "        return ans\n",
    "\n",
    "\n",
    "test(Solution())"
   ]
  },
  {
   "cell_type": "code",
   "execution_count": null,
   "metadata": {},
   "outputs": [],
   "source": []
  }
 ],
 "metadata": {
  "kernelspec": {
   "display_name": "Python 3",
   "language": "python",
   "name": "python3"
  },
  "language_info": {
   "codemirror_mode": {
    "name": "ipython",
    "version": 3
   },
   "file_extension": ".py",
   "mimetype": "text/x-python",
   "name": "python",
   "nbconvert_exporter": "python",
   "pygments_lexer": "ipython3",
   "version": "3.9.6"
  }
 },
 "nbformat": 4,
 "nbformat_minor": 2
}
