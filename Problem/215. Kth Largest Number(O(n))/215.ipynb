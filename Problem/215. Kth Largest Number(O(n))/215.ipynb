{
 "cells": [
  {
   "cell_type": "markdown",
   "metadata": {},
   "source": [
    "# Kth Largest Element in an numsay\n",
    "\n",
    "**Problem**:\n",
    "Given an integer numsay `nums` and an integer `k`, return the kth largest element in the numsay.\n",
    "\n",
    "**Note**:\n",
    "You need to find the kth largest element in the sorted order, not the kth distinct element. \n",
    "\n",
    "You must design and implement an algorithm with ***O(n)*** time complexity to solve this problem.\n",
    "\n",
    "**Examples**:\n",
    "\n",
    "1. **Input**: `nums = [3,2,1,5,6,4]`, `k = 2`\n",
    "   **Output**: `5`\n",
    "   **Explanation**: The second largest element in the sorted order is `5`.\n",
    "\n",
    "2. **Input**: `nums = [3,2,3,1,2,4,5,5,6]`, `k = 4`\n",
    "   **Output**: `4`\n",
    "   **Explanation**: The fourth largest element in the sorted order is `4`.\n",
    "\n",
    "**Hints**:\n",
    "- `1 <= k <= nums.length <= 10^5`\n",
    "- `-10^4 <= nums[i] <= 10^4`\n"
   ]
  },
  {
   "cell_type": "code",
   "execution_count": 2,
   "metadata": {},
   "outputs": [],
   "source": [
    "from typing import List\n",
    "import time\n",
    "import heapq\n",
    "\n",
    "compare = True\n",
    "\n",
    "def compare_time(s1, s2, nums, k):\n",
    "    start1 = time.perf_counter()\n",
    "    res1 = s1.findKthLargest(nums, k)\n",
    "    end1 = time.perf_counter()\n",
    "\n",
    "    start2 = time.perf_counter()\n",
    "    res2 = s2.findKthLargest(nums, k)\n",
    "    end2 = time.perf_counter()\n",
    "\n",
    "    assert res1 == res2, \"go back check your code\"\n",
    "    print(f\"s1 used time : {end1-start1}\")\n",
    "    print(f\"s2 used time : {end2-start2}\")"
   ]
  },
  {
   "cell_type": "code",
   "execution_count": 3,
   "metadata": {},
   "outputs": [
    {
     "data": {
      "text/plain": [
       "5"
      ]
     },
     "execution_count": 3,
     "metadata": {},
     "output_type": "execute_result"
    }
   ],
   "source": [
    "'''\n",
    "    Counting Sort has a time complexity of O(N+k)\n",
    "'''\n",
    "\n",
    "class Solution1:\n",
    "    def findKthLargest(self, nums: List[int], k: int) -> int:\n",
    "        min_val = min(nums)\n",
    "        max_val = max(nums)\n",
    "\n",
    "        count_nums = [0] * (max_val - min_val + 1)\n",
    "        output_nums = [0] * len(nums)\n",
    "\n",
    "        for i in range(len(nums)):\n",
    "            count_nums[nums[i]-min_val] += 1\n",
    "\n",
    "        for i in range(1, len(count_nums)):\n",
    "            count_nums[i] += count_nums[i-1]\n",
    "\n",
    "        for i in range(len(nums)):\n",
    "            output_nums[count_nums[nums[i]-min_val]-1] = nums[i]\n",
    "            count_nums[nums[i]-min_val] -= 1\n",
    "\n",
    "        for i in range(len(nums)):\n",
    "            nums[i] = output_nums[i]\n",
    "\n",
    "        return nums[len(nums)-k]\n",
    "\n",
    "\n",
    "nums = [3, 2, 1, 5, 6, 4]\n",
    "k = 2\n",
    "s1 = Solution1()\n",
    "s1.findKthLargest(nums, k)"
   ]
  },
  {
   "cell_type": "code",
   "execution_count": 27,
   "metadata": {},
   "outputs": [
    {
     "name": "stdout",
     "output_type": "stream",
     "text": [
      "5 5\n",
      "s1 used time : 1.0600022505968809e-05\n",
      "s2 used time : 6.199989002197981e-06\n"
     ]
    }
   ],
   "source": [
    "'''\n",
    "    improved quick sort\n",
    "\n",
    "    Each time we perform \"partition\", we have one number's position fixed\n",
    "    We return that number directly if that position is exactly k.\n",
    "\n",
    "    It doesn't satisfy the time complexity requirement though.\n",
    "'''\n",
    "class Solution2:\n",
    "    def findKthLargest(self, nums: List[int], k: int) -> int:\n",
    "        def quick(nums, low, high):\n",
    "            if low < high:\n",
    "                i = low-1\n",
    "                pivot = nums[high]\n",
    "\n",
    "                for j in range(low, high):\n",
    "                    if nums[j] < pivot:\n",
    "                        i += 1\n",
    "                        nums[i], nums[j] = nums[j], nums[i]\n",
    "\n",
    "                if i+1 == len(nums)-k:\n",
    "                    return nums[high]\n",
    "                nums[high], nums[i+1] = nums[i+1], nums[high]\n",
    "\n",
    "                if quick(nums, low, i) is not None:\n",
    "                    return quick(nums, low, i)\n",
    "                if quick(nums, i+2, high) is not None:\n",
    "                    return quick(nums, i+2, high)\n",
    "\n",
    "        return quick(nums, 0, len(nums)-1)\n",
    "\n",
    "\n",
    "nums = [3, 2, 1, 5, 6, 4]\n",
    "k = 2\n",
    "s2 = Solution2()\n",
    "\n",
    "if not compare:\n",
    "    s2.findKthLargest(nums, k)\n",
    "else:\n",
    "    compare_time(s1, s2, nums, k)"
   ]
  },
  {
   "cell_type": "code",
   "execution_count": 30,
   "metadata": {},
   "outputs": [
    {
     "name": "stdout",
     "output_type": "stream",
     "text": [
      "s1 used time : 8.800008799880743e-06\n",
      "s2 used time : 4.500034265220165e-06\n"
     ]
    }
   ],
   "source": [
    "'''\n",
    "    Build a max heap, pop k-1 times, the top number\n",
    "    on the heap is the answer we are looking for.\n",
    "\n",
    "    This is better.\n",
    "'''\n",
    "class Solution3:\n",
    "    def findKthLargest(self, nums: List[int], k: int) -> int:\n",
    "        heap = []\n",
    "        for item in nums:\n",
    "            heapq.heappush(heap, -item)\n",
    "\n",
    "        for i in range(k):\n",
    "            ret = -heapq.heappop(heap)\n",
    "\n",
    "        return ret\n",
    "\n",
    "\n",
    "nums = [3, 2, 1, 5, 6, 4]\n",
    "k = 2\n",
    "s3 = Solution3()\n",
    "\n",
    "if not compare:\n",
    "    s3.findKthLargest(nums, k)\n",
    "else:\n",
    "    compare_time(s1, s3, nums, k)"
   ]
  },
  {
   "cell_type": "markdown",
   "metadata": {},
   "source": []
  },
  {
   "cell_type": "code",
   "execution_count": 7,
   "metadata": {},
   "outputs": [
    {
     "name": "stdout",
     "output_type": "stream",
     "text": [
      "s1 used time : 1.0400020983070135e-05\n",
      "s2 used time : 1.2299977242946625e-05\n"
     ]
    }
   ],
   "source": [
    "'''\n",
    "    It's not very cool to just use API.\n",
    "    Let's build a max heap manually.\n",
    "\n",
    "    This is to implement build, heapify, push, and pop.\n",
    "    But not surprisingly, it's not efficient enough.\n",
    "'''\n",
    "class Solution4:\n",
    "    def findKthLargest(self, nums: List[int], k: int) -> int:\n",
    "        def heapify(nums, n, i):\n",
    "            largest = i\n",
    "            left = 2 * i + 1\n",
    "            right = 2 * i + 2\n",
    "\n",
    "            if left < n and nums[largest] < nums[left]:\n",
    "                largest = left\n",
    "\n",
    "            if right < n and nums[largest] < nums[right]:\n",
    "                largest = right\n",
    "\n",
    "            if largest != i:\n",
    "                nums[largest], nums[i] = nums[i], nums[largest]\n",
    "                heapify(nums, n, largest)\n",
    "\n",
    "        def build_heap(nums, n):\n",
    "            for i in range(n//2 - 1, -1, -1):\n",
    "                heapify(nums, n, i)\n",
    "\n",
    "        def heap_push(nums, item):\n",
    "            nums.append(item)\n",
    "            i = len(nums) - 1\n",
    "\n",
    "            while i > 0 and nums[i] > nums[(i-1)//2]:           # -1//2 == -1\n",
    "                nums[i], nums[(i-1)//2] = nums[(i-1)//2], nums[i]\n",
    "                i = (i-1)//2\n",
    "\n",
    "        def heap_pop(nums):\n",
    "            n = len(nums)\n",
    "            if n == 0:\n",
    "                return None\n",
    "\n",
    "            nums[0], nums[-1] = nums[-1], nums[0]\n",
    "            max_item = nums.pop()\n",
    "\n",
    "            heapify(nums, n-1, 0)\n",
    "            return max_item\n",
    "\n",
    "        def Heap(nums):\n",
    "            n = len(nums)\n",
    "\n",
    "            build_heap(nums, n)\n",
    "\n",
    "            for i in range(n-1, n-1-k, -1):\n",
    "                ret = heap_pop(nums)\n",
    "\n",
    "            return ret\n",
    "\n",
    "        return Heap(nums)\n",
    "\n",
    "\n",
    "nums = [3, 2, 1, 5, 6, 4]\n",
    "k = 2\n",
    "s4 = Solution4()\n",
    "\n",
    "if not compare:\n",
    "    s4.findKthLargest(nums, k)\n",
    "else:\n",
    "    compare_time(s1, s4, nums, k)"
   ]
  },
  {
   "cell_type": "code",
   "execution_count": 36,
   "metadata": {},
   "outputs": [
    {
     "data": {
      "text/plain": [
       "4"
      ]
     },
     "execution_count": 36,
     "metadata": {},
     "output_type": "execute_result"
    }
   ],
   "source": []
  },
  {
   "cell_type": "code",
   "execution_count": null,
   "metadata": {},
   "outputs": [],
   "source": []
  }
 ],
 "metadata": {
  "kernelspec": {
   "display_name": "Python 3",
   "language": "python",
   "name": "python3"
  },
  "language_info": {
   "codemirror_mode": {
    "name": "ipython",
    "version": 3
   },
   "file_extension": ".py",
   "mimetype": "text/x-python",
   "name": "python",
   "nbconvert_exporter": "python",
   "pygments_lexer": "ipython3",
   "version": "3.10.11"
  }
 },
 "nbformat": 4,
 "nbformat_minor": 2
}
