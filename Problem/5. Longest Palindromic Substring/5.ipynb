{
 "cells": [
  {
   "cell_type": "markdown",
   "metadata": {},
   "source": [
    "# Longest Palindromic Substring\n",
    "\n",
    "**Problem**:\n",
    "Given a string `s`, find the longest palindromic substring in `s`.\n",
    "\n",
    "**Examples**:\n",
    "\n",
    "1. **Input**:\n",
    "   `s = \"babad\"`\n",
    "   \n",
    "   **Output**: `\"bab\"`\n",
    "   \n",
    "   **Explanation**:\n",
    "   \"aba\" is also a valid answer as it is a palindrome and has the same length as \"bab\".\n",
    "\n",
    "2. **Input**:\n",
    "   `s = \"cbbd\"`\n",
    "   \n",
    "   **Output**: `\"bb\"`\n",
    "   \n",
    "   **Explanation**:\n",
    "   \"bb\" is the longest palindromic substring in \"cbbd\".\n",
    "\n",
    "**Constraints**:\n",
    "- `1 <= s.length <= 1000`\n",
    "- `s` consists of only digits and English letters.\n"
   ]
  },
  {
   "cell_type": "markdown",
   "metadata": {},
   "source": [
    "👇\n",
    "\n",
    "https://writings.sh/post/algorithm-longest-palindromic-substring"
   ]
  },
  {
   "cell_type": "code",
   "execution_count": 2,
   "metadata": {},
   "outputs": [],
   "source": [
    "def test(s):\n",
    "    test_cases = [\n",
    "        (\"babad\", [\"bab\", \"aba\"]),  # Either \"bab\" or \"aba\" is acceptable\n",
    "        (\"cbbd\", [\"bb\"])\n",
    "    ]\n",
    "    for i, (input_str, expected) in enumerate(test_cases):\n",
    "        result = s.longestPalindrome(input_str)\n",
    "        assert result in expected, f\"wrong answer at test case {i + 1}: s = {input_str}\"\n",
    "    print(\"Succeed\")\n",
    "\n",
    "# Example usage\n",
    "# s = Solution()\n",
    "# test(s)\n"
   ]
  },
  {
   "cell_type": "code",
   "execution_count": 41,
   "metadata": {},
   "outputs": [
    {
     "data": {
      "text/plain": [
       "'aa'"
      ]
     },
     "execution_count": 41,
     "metadata": {},
     "output_type": "execute_result"
    }
   ],
   "source": [
    "'''\n",
    "    2d dp.\n",
    "    dp[i][j] refers to\n",
    "'''\n",
    "\n",
    "class Solution:\n",
    "    def longestPalindrome(self, s: str) -> str:\n",
    "        n = len(s)\n",
    "        if n <= 2:\n",
    "            return s\n",
    "\n",
    "        max_length = 0\n",
    "        begin = 0  # starting place\n",
    "\n",
    "        dp = [[0 for j in range(n)] for i in range(n)]\n",
    "        for i in range(n):\n",
    "            dp[i][i] = 1\n",
    "\n",
    "        for i in range(n-1, -1, -1):\n",
    "            for j in range(i, n):\n",
    "                if s[i] == s[j]:\n",
    "                    if j-1 >= i+1:\n",
    "                        dp[i][j] = dp[i+1][j-1]\n",
    "                    else:\n",
    "                        dp[i][j] = 1\n",
    "\n",
    "                if dp[i][j]:\n",
    "                    if j-i+1> max_length:\n",
    "                        max_length = j-i+1\n",
    "                        begin = i\n",
    "\n",
    "        return s[begin:begin+max_length]\n",
    "\n",
    "\n",
    "s = Solution()\n",
    "s.longestPalindrome('aa')\n",
    "# test(Solution())"
   ]
  },
  {
   "cell_type": "code",
   "execution_count": 31,
   "metadata": {},
   "outputs": [
    {
     "data": {
      "text/plain": [
       "'aa'"
      ]
     },
     "execution_count": 31,
     "metadata": {},
     "output_type": "execute_result"
    }
   ],
   "source": []
  },
  {
   "cell_type": "code",
   "execution_count": null,
   "metadata": {},
   "outputs": [],
   "source": []
  }
 ],
 "metadata": {
  "kernelspec": {
   "display_name": "Python 3",
   "language": "python",
   "name": "python3"
  },
  "language_info": {
   "codemirror_mode": {
    "name": "ipython",
    "version": 3
   },
   "file_extension": ".py",
   "mimetype": "text/x-python",
   "name": "python",
   "nbconvert_exporter": "python",
   "pygments_lexer": "ipython3",
   "version": "3.10.11"
  }
 },
 "nbformat": 4,
 "nbformat_minor": 2
}
