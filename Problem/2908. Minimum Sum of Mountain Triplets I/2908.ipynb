{
 "cells": [
  {
   "cell_type": "markdown",
   "metadata": {},
   "source": [
    "# Minimum Sum of Mountain Triplets I\n",
    "\n",
    "**Problem**:\n",
    "Given a 0-indexed integer array `nums`, find the minimum sum of a mountain triplet. A mountain triplet is defined by indices `(i, j, k)` where `i < j < k`, `nums[i] < nums[j]`, and `nums[k] < nums[j]`. If no mountain triplet exists, return `-1`.\n",
    "\n",
    "**Examples**:\n",
    "\n",
    "1. **Input**:\n",
    "   `nums = [8,6,1,5,3]`\n",
    "   \n",
    "   **Output**: `9`\n",
    "   \n",
    "   **Explanation**:\n",
    "   The triplet (2, 3, 4) forms a mountain and has the minimum sum of 9 (`nums[2] + nums[3] + nums[4]`).\n",
    "\n",
    "2. **Input**:\n",
    "   `nums = [5,4,8,7,10,2]`\n",
    "   \n",
    "   **Output**: `13`\n",
    "   \n",
    "   **Explanation**:\n",
    "   The triplet (1, 3, 5) forms a mountain and has the minimum sum of 13 (`nums[1] + nums[3] + nums[5]`).\n",
    "\n",
    "3. **Input**:\n",
    "   `nums = [6,5,4,3,4,5]`\n",
    "   \n",
    "   **Output**: `-1`\n",
    "   \n",
    "   **Explanation**:\n",
    "   There are no mountain triplets in `nums`.\n",
    "\n",
    "**Constraints**:\n",
    "- `1 <= nums.length <= 10^4`\n",
    "- `-10^4 <= nums[i] <= 10^4`\n"
   ]
  },
  {
   "cell_type": "code",
   "execution_count": 4,
   "metadata": {},
   "outputs": [],
   "source": [
    "from typing import List\n",
    "\n",
    "def test(s: object):\n",
    "    test_cases = [\n",
    "        ([8,6,1,5,3], 9),\n",
    "        ([5,4,8,7,10,2], 13),\n",
    "        ([6,5,4,3,4,5], -1)\n",
    "    ]\n",
    "    for nums, expected in test_cases:\n",
    "        result = s.minimumSum(nums)\n",
    "        assert result == expected, f\"wrong result for nums = {nums}, expected = {expected}\"\n",
    "    print(\"Succeed\")\n"
   ]
  },
  {
   "cell_type": "code",
   "execution_count": 14,
   "metadata": {},
   "outputs": [
    {
     "name": "stdout",
     "output_type": "stream",
     "text": [
      "Succeed\n"
     ]
    }
   ],
   "source": [
    "# omg this is like horrible\n",
    "\n",
    "class Solution:\n",
    "    def minimumSum(self, nums: List[int]) -> int:\n",
    "        ans = float(\"inf\")\n",
    "        tmp = -1\n",
    "        n = len(nums)\n",
    "        left, right =0, 0\n",
    "        for i in range(1, n-1):\n",
    "            left, right = 0, 0\n",
    "            for j in range(i):\n",
    "                if nums[j] < nums[i]:\n",
    "                    left = nums[j]\n",
    "                    for k in range(i+1, n):\n",
    "                        if nums[k] < nums[i]:\n",
    "                            right = nums[k]\n",
    "                        if left and right:\n",
    "                            tmp = left + right + nums[i]\n",
    "                            if tmp < ans:\n",
    "                                ans = tmp\n",
    "    \n",
    "        return -1 if ans == float(\"inf\") else ans\n",
    "    \n",
    "\n",
    "test(Solution())"
   ]
  },
  {
   "cell_type": "code",
   "execution_count": 29,
   "metadata": {},
   "outputs": [
    {
     "name": "stdout",
     "output_type": "stream",
     "text": [
      "Succeed\n"
     ]
    }
   ],
   "source": [
    "\"\"\"\n",
    "The \"prefix sum\" does not necessarily be \"SUM\"\n",
    "\"\"\"\n",
    "class Solution:\n",
    "    def minimumSum(self, nums: List[int]) -> int:\n",
    "        n = len(nums)\n",
    "        ans = float('inf')\n",
    "        prefix_min = [nums[0] for i in range(n)]\n",
    "        suffix_min = [nums[-1] for j in range(n)]\n",
    "\n",
    "        # construct the prefix min array\n",
    "        for i in range(1, n):\n",
    "            prefix_min[i] = min(nums[i], prefix_min[i-1])\n",
    "\n",
    "        # construct the suffix min array\n",
    "        for i in range(n-2, -1, -1):\n",
    "            suffix_min[i] = min(nums[i], suffix_min[i+1])\n",
    "\n",
    "        for i in range(1, n-1):\n",
    "            if nums[i] > prefix_min[i-1] and nums[i] > suffix_min[i+1]:\n",
    "                ans = min(ans, prefix_min[i-1] + nums[i] + suffix_min[i+1])\n",
    "\n",
    "        return -1 if ans == float(\"inf\") else ans\n",
    "    \n",
    "\n",
    "test(Solution())"
   ]
  },
  {
   "cell_type": "code",
   "execution_count": null,
   "metadata": {},
   "outputs": [],
   "source": []
  }
 ],
 "metadata": {
  "kernelspec": {
   "display_name": "Python 3",
   "language": "python",
   "name": "python3"
  },
  "language_info": {
   "codemirror_mode": {
    "name": "ipython",
    "version": 3
   },
   "file_extension": ".py",
   "mimetype": "text/x-python",
   "name": "python",
   "nbconvert_exporter": "python",
   "pygments_lexer": "ipython3",
   "version": "3.9.6"
  }
 },
 "nbformat": 4,
 "nbformat_minor": 2
}
