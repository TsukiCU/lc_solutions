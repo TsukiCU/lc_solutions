{
 "cells": [
  {
   "cell_type": "markdown",
   "metadata": {},
   "source": [
    "# Paint House\n",
    "\n",
    "**Problem**:\n",
    "Given a row of `n` houses, each house can be painted with one of three colors: red, blue, or green, with different costs. You must paint all houses such that no two adjacent houses have the same color. Given an `n x 3` cost matrix `costs`, where `costs[i][j]` represents the cost of painting house `i` with color `j`, return the minimum cost to paint all houses.\n",
    "\n",
    "**Examples**:\n",
    "\n",
    "1. **Input**:\n",
    "   `costs = [[17,2,17],[16,16,5],[14,3,19]]`\n",
    "   \n",
    "   **Output**: `10`\n",
    "   \n",
    "   **Explanation**:\n",
    "   Paint house 0 blue (cost 2), house 1 green (cost 5), and house 2 blue (cost 3) for a minimum total cost of 10.\n",
    "\n",
    "**Constraints**:\n",
    "- `costs.length == n`\n",
    "- `costs[i].length == 3`\n",
    "- `1 <= n <= 100`\n",
    "- `1 <= costs[i][j] <= 20`"
   ]
  },
  {
   "cell_type": "code",
   "execution_count": 4,
   "metadata": {},
   "outputs": [],
   "source": [
    "from typing import List\n",
    "\n",
    "def test(s: object):\n",
    "    test_cases = [\n",
    "        ([[17,2,17],[16,16,5],[14,3,19]], 10),\n",
    "        ([[7,4,2]], 2)\n",
    "    ]\n",
    "    for costs, expected in test_cases:\n",
    "        result = s.minCost(costs)\n",
    "        assert result == expected, f\"wrong result for costs = {costs}, expected = {expected}\"\n",
    "    print(\"Succeed\")\n",
    "\n",
    "# Example usage\n",
    "# s = Solution()\n",
    "# test(s)\n"
   ]
  },
  {
   "cell_type": "code",
   "execution_count": 5,
   "metadata": {},
   "outputs": [
    {
     "name": "stdout",
     "output_type": "stream",
     "text": [
      "Succeed\n"
     ]
    }
   ],
   "source": [
    "\"\"\"\n",
    "This is a general solution to those situations where there are more than 3 colors.\n",
    "\"\"\"\n",
    "\n",
    "class Solution:\n",
    "    def minCost(self, costs: List[List[int]]) -> int:\n",
    "        m, n = len(costs), len(costs[0])\n",
    "        dp = [[0 for i in range(n)] for j in range(m)]\n",
    "\n",
    "        # initialize\n",
    "        for i in range(n):\n",
    "            dp[0][i] = costs[0][i]\n",
    "\n",
    "        for i in range(1, m):\n",
    "            for j in range(n):\n",
    "                tmp = float(\"inf\")\n",
    "                for k in range(n):\n",
    "                    if k == j:\n",
    "                        continue\n",
    "                    tmp = min(tmp, dp[i-1][k]+costs[i][j])\n",
    "                dp[i][j] = tmp\n",
    "\n",
    "        return min(dp[-1])\n",
    "    \n",
    "\n",
    "test(Solution())"
   ]
  },
  {
   "cell_type": "code",
   "execution_count": null,
   "metadata": {},
   "outputs": [],
   "source": []
  }
 ],
 "metadata": {
  "kernelspec": {
   "display_name": "Python 3",
   "language": "python",
   "name": "python3"
  },
  "language_info": {
   "codemirror_mode": {
    "name": "ipython",
    "version": 3
   },
   "file_extension": ".py",
   "mimetype": "text/x-python",
   "name": "python",
   "nbconvert_exporter": "python",
   "pygments_lexer": "ipython3",
   "version": "3.9.6"
  }
 },
 "nbformat": 4,
 "nbformat_minor": 2
}
