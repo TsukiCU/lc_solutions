{
 "cells": [
  {
   "cell_type": "markdown",
   "metadata": {},
   "source": [
    "# Partition Equal Subset Sum\n",
    "\n",
    "**Problem**:\n",
    "Given an integer array `nums`, determine if the array can be partitioned into two subsets such that the sum of the elements in both subsets is equal.\n",
    "\n",
    "**Examples**:\n",
    "\n",
    "1. **Input**:\n",
    "   `nums = [1,5,11,5]`\n",
    "   \n",
    "   **Output**: `true`\n",
    "   \n",
    "   **Explanation**:\n",
    "   The array can be partitioned into [1, 5, 5] and [11] with equal sums.\n",
    "\n",
    "2. **Input**:\n",
    "   `nums = [1,2,3,5]`\n",
    "   \n",
    "   **Output**: `false`\n",
    "   \n",
    "   **Explanation**:\n",
    "   The array cannot be partitioned into two subsets with equal sums.\n",
    "\n",
    "**Constraints**:\n",
    "- `1 <= nums.length <= 200`\n",
    "- `1 <= nums[i] <= 100`\n"
   ]
  },
  {
   "cell_type": "code",
   "execution_count": 41,
   "metadata": {},
   "outputs": [],
   "source": [
    "from typing import List\n",
    "\n",
    "def test(s: object):\n",
    "    test_cases = [\n",
    "        ([1,5,11,5], True),\n",
    "        ([1,2,3,5], False),\n",
    "        ([2,2,1,1], True),\n",
    "        ([2,2,3,5], False),\n",
    "        ([1,1], True)\n",
    "    ]\n",
    "    for nums, expected in test_cases:\n",
    "        result = s.canPartition(nums)\n",
    "        assert result == expected, f\"wrong result for nums = {nums}, expected = {expected}\"\n",
    "    print(\"Succeed\")\n",
    "\n",
    "# Example usage\n",
    "# s = Solution()\n",
    "# test(s)\n"
   ]
  },
  {
   "cell_type": "code",
   "execution_count": 53,
   "metadata": {},
   "outputs": [
    {
     "name": "stdout",
     "output_type": "stream",
     "text": [
      "Succeed\n"
     ]
    }
   ],
   "source": [
    "class Solution:\n",
    "    def canPartition(self, nums: List[int]) -> bool:\n",
    "        sumNum = sum(nums)\n",
    "        if sumNum % 2:\n",
    "            return False\n",
    "        target = int(sumNum / 2)\n",
    "        n = len(nums)\n",
    "        \n",
    "        dp = [[False for i in range(target+1)] for j in range(n)]\n",
    "        # dp[i][j] : choose some numbers from nums[0, i] that add up to j.\n",
    "\n",
    "        for i in range(1, n):\n",
    "            for j in range(1, target+1):\n",
    "                if dp[i-1][j]:\n",
    "                    dp[i][j] = True\n",
    "                elif nums[i] < j and dp[i-1][j-nums[i]]:\n",
    "                    dp[i][j] = True\n",
    "                elif nums[i] == j:\n",
    "                    dp[i][j] = True\n",
    "        return dp[n-1][target]\n",
    "    \n",
    "\n",
    "test(Solution())"
   ]
  },
  {
   "cell_type": "code",
   "execution_count": null,
   "metadata": {},
   "outputs": [],
   "source": []
  },
  {
   "cell_type": "code",
   "execution_count": null,
   "metadata": {},
   "outputs": [],
   "source": []
  }
 ],
 "metadata": {
  "kernelspec": {
   "display_name": "Python 3",
   "language": "python",
   "name": "python3"
  },
  "language_info": {
   "codemirror_mode": {
    "name": "ipython",
    "version": 3
   },
   "file_extension": ".py",
   "mimetype": "text/x-python",
   "name": "python",
   "nbconvert_exporter": "python",
   "pygments_lexer": "ipython3",
   "version": "3.9.6"
  }
 },
 "nbformat": 4,
 "nbformat_minor": 2
}
