{
 "cells": [
  {
   "cell_type": "code",
   "execution_count": 4,
   "metadata": {},
   "outputs": [
    {
     "data": {
      "text/plain": [
       "[1, 2, 3, 3, 5, 5, 6, 6, 7, 8]"
      ]
     },
     "execution_count": 4,
     "metadata": {},
     "output_type": "execute_result"
    }
   ],
   "source": [
    "def quick1(nums, low, high):\n",
    "    if low < high:\n",
    "        pi = partition(nums, low, high)\n",
    "        quick1(nums, low, pi-1)\n",
    "        quick1(nums, pi+1, high)\n",
    "\n",
    "def partition(nums, low, high):\n",
    "    i = low-1\n",
    "    pivot = nums[high]\n",
    "\n",
    "    for j in range(low, high):\n",
    "        if nums[j] < pivot:\n",
    "            i += 1\n",
    "            nums[j], nums[i] = nums[i], nums[j]\n",
    "    nums[i+1], nums[high] = nums[high], nums[i+1]\n",
    "    return i+1\n",
    "\n",
    "nums = [1, 3, 5, 2, 5, 6, 3, 6, 7, 8]\n",
    "quick1(nums, 0, len(nums)-1)\n",
    "nums"
   ]
  },
  {
   "cell_type": "code",
   "execution_count": null,
   "metadata": {},
   "outputs": [],
   "source": []
  }
 ],
 "metadata": {
  "kernelspec": {
   "display_name": "Python 3",
   "language": "python",
   "name": "python3"
  },
  "language_info": {
   "codemirror_mode": {
    "name": "ipython",
    "version": 3
   },
   "file_extension": ".py",
   "mimetype": "text/x-python",
   "name": "python",
   "nbconvert_exporter": "python",
   "pygments_lexer": "ipython3",
   "version": "3.10.11"
  }
 },
 "nbformat": 4,
 "nbformat_minor": 2
}
