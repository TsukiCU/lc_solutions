{
 "cells": [
  {
   "cell_type": "markdown",
   "metadata": {},
   "source": [
    "# Small Sum Problem\n",
    "The Small Sum Problem is a classic problem in computer science, often used to illustrate the concept of inversion counting in an array.\n",
    "\n",
    "### Example\n",
    "Consider the array [1, 3, 4, 2]. The small sum is calculated as follows:\n",
    "\n",
    "+ For 1, there are no elements to the left, so the contribution is 0.\n",
    "+ For 3, there's only one element (1) smaller to its left. So, contribution is 1.\n",
    "+ For 4, similar to 3, there are two elements that are smaller to 3 to its left, so the contribution is 1 + 3\n",
    "+ For 2, there are one element (1) to the left, so the contribution is 1.\n",
    "\n",
    "Adding these contributions together gives the small sum of the array: 1 + 4 + 1 = 6"
   ]
  },
  {
   "cell_type": "code",
   "execution_count": 5,
   "metadata": {},
   "outputs": [
    {
     "data": {
      "text/plain": [
       "6"
      ]
     },
     "execution_count": 5,
     "metadata": {},
     "output_type": "execute_result"
    }
   ],
   "source": [
    "def merge_and_count(arr, left_half, right_half):\n",
    "    i = j = k = 0\n",
    "    small_sum = 0\n",
    "    while i < len(left_half) and j < len(right_half):\n",
    "        if right_half[j] < left_half[i]:\n",
    "            arr[k] = right_half[j]\n",
    "            j += 1\n",
    "        else:\n",
    "            small_sum += left_half[i] * (len(right_half) - j)\n",
    "            arr[k] = left_half[i]\n",
    "            i += 1\n",
    "        k += 1\n",
    "    while i < len(left_half):\n",
    "        arr[k] = left_half[i]\n",
    "        i += 1\n",
    "        k += 1\n",
    "    while j < len(right_half):\n",
    "        arr[k] = right_half[j]\n",
    "        j += 1\n",
    "        k += 1\n",
    "    return small_sum\n",
    "\n",
    "def small_sum(arr):\n",
    "    if arr is None or len(arr) == 1:\n",
    "        return 0\n",
    "\n",
    "    mid = len(arr) // 2\n",
    "    left_half = arr[:mid]\n",
    "    right_half = arr[mid:]\n",
    "\n",
    "    left_sum = small_sum(left_half)\n",
    "    right_sum = small_sum(right_half)\n",
    "\n",
    "    merge_sum = merge_and_count(arr, left_half, right_half)\n",
    "\n",
    "    return left_sum + right_sum + merge_sum\n",
    "\n",
    "\n",
    "a = [1, 3, 4, 2]\n",
    "small_sum(a)"
   ]
  },
  {
   "cell_type": "markdown",
   "metadata": {},
   "source": [
    "# Inversion Counting Problem\n",
    "\n",
    "**Definition**: An *inversion in an array* is when two elements are out of order, i.e., a larger element appears before a smaller one. \n",
    "\n",
    "**Problem**: Count the total number of inversions in a given array.\n",
    "\n",
    "**Example**: \n",
    "- Array: `[1, 3, 5, 2, 4, 6]`\n",
    "- Inversions: `(3, 2)`, `(5, 2)`, `(5, 4)`\n",
    "- Total Inversions: 3\n",
    "\n",
    "**Application**: This problem is crucial in analyzing the efficiency of sorting algorithms, as it represents the number of swaps needed to sort the array.\n"
   ]
  },
  {
   "cell_type": "markdown",
   "metadata": {},
   "source": []
  },
  {
   "cell_type": "code",
   "execution_count": 16,
   "metadata": {},
   "outputs": [
    {
     "name": "stdout",
     "output_type": "stream",
     "text": [
      "5 4\n",
      "6 4\n",
      "6 5\n",
      "2 1\n",
      "3 1\n",
      "3 2\n",
      "6 1\n",
      "6 2\n",
      "6 3\n",
      "5 1\n",
      "5 2\n",
      "5 3\n",
      "4 1\n",
      "4 2\n",
      "4 3\n"
     ]
    },
    {
     "data": {
      "text/plain": [
       "15"
      ]
     },
     "execution_count": 16,
     "metadata": {},
     "output_type": "execute_result"
    }
   ],
   "source": [
    "def merge_and_count(arr, left_half, right_half):\n",
    "    i = len(left_half) - 1\n",
    "    j = len(right_half) - 1\n",
    "    k = len(left_half) + len(right_half) - 1\n",
    "    inverse_sum = 0\n",
    "\n",
    "    # reverse order, this is to avoid repetitive counting.\n",
    "    # think of this example: [1, 2, 3] [4, 5, 6]\n",
    "    inverse_sum = 0\n",
    "    while i >= 0 and j >= 0:\n",
    "        if left_half[i] >= right_half[j]:\n",
    "            # for w in range(j+1):\n",
    "            #     print(left_half[i], right_half[w])\n",
    "            inverse_sum += j + 1\n",
    "            arr[k] = left_half[i]\n",
    "            i -= 1\n",
    "        else:\n",
    "            arr[k] = right_half[j]\n",
    "            j -= 1\n",
    "        k -= 1\n",
    "\n",
    "    if i >= 0:\n",
    "        arr[:k+1] = left_half[:i+1]   # +1!\n",
    "\n",
    "    if j >= 0:\n",
    "        arr[:k+1] = right_half[:j+1]\n",
    "\n",
    "    return inverse_sum\n",
    "\n",
    "def Inversion(arr):\n",
    "    if arr is None or len(arr) == 1:\n",
    "        return 0\n",
    "\n",
    "    mid = len(arr) // 2\n",
    "    left_half = arr[:mid]\n",
    "    right_half = arr[mid:]\n",
    "\n",
    "    left_sum = Inversion(left_half)\n",
    "    right_sum = Inversion(right_half)\n",
    "\n",
    "    merge_sum = merge_and_count(arr, left_half, right_half)\n",
    "\n",
    "    return left_sum + right_sum + merge_sum\n",
    "\n",
    "\n",
    "a = [6, 5, 4, 3, 2, 1]\n",
    "Inversion(a)"
   ]
  },
  {
   "cell_type": "markdown",
   "metadata": {},
   "source": [
    "# Merge Sorted Array\n",
    "\n",
    "**Problem**: Given two sorted arrays, merge them into a single, sorted array.\n",
    "\n",
    "**Description**: \n",
    "- Inputs: Two arrays, `arr1` and `arr2`, each sorted in non-decreasing order.\n",
    "- Output: A single array that combines the elements of `arr1` and `arr2`, sorted in non-decreasing order.\n",
    "\n",
    "**Example**:\n",
    "- `arr1`: `[1, 3, 5]`\n",
    "- `arr2`: `[2, 4, 6]`\n",
    "- Merged Array: `[1, 2, 3, 4, 5, 6]`\n",
    "\n",
    "**Approach**:\n",
    "- Use two pointers, each starting at the beginning of `arr1` and `arr2`.\n",
    "- Compare elements at the pointers, add the smaller one to the result, and move the corresponding pointer.\n",
    "- Continue until all elements from both arrays are in the result array.\n",
    "\n",
    "**Application**: This problem is fundamental in sorting algorithms, especially merge sort, and is also used in algorithms that require merging datasets, like in external sorting or stream processing.\n"
   ]
  },
  {
   "cell_type": "markdown",
   "metadata": {},
   "source": []
  },
  {
   "cell_type": "code",
   "execution_count": null,
   "metadata": {},
   "outputs": [],
   "source": []
  },
  {
   "cell_type": "markdown",
   "metadata": {},
   "source": []
  }
 ],
 "metadata": {
  "kernelspec": {
   "display_name": "Python 3",
   "language": "python",
   "name": "python3"
  },
  "language_info": {
   "codemirror_mode": {
    "name": "ipython",
    "version": 3
   },
   "file_extension": ".py",
   "mimetype": "text/x-python",
   "name": "python",
   "nbconvert_exporter": "python",
   "pygments_lexer": "ipython3",
   "version": "3.10.11"
  }
 },
 "nbformat": 4,
 "nbformat_minor": 2
}
