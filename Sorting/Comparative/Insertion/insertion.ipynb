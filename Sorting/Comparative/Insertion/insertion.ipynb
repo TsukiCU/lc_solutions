{
 "cells": [
  {
   "cell_type": "code",
   "execution_count": 12,
   "metadata": {},
   "outputs": [
    {
     "data": {
      "text/plain": [
       "[-1, 2, 2, 3, 3, 4, 4, 5, 5, 5, 6, 6, 6, 10, 19]"
      ]
     },
     "execution_count": 12,
     "metadata": {},
     "output_type": "execute_result"
    }
   ],
   "source": [
    "def insertion1(arr):\n",
    "    for i in range(len(arr)):\n",
    "        j = i-1\n",
    "        k = i\n",
    "        for j in range(i-1, -1, -1):\n",
    "            if arr[j] > arr[k]:\n",
    "                arr[k], arr[j] = arr[j], arr[k]\n",
    "                k = j\n",
    "    return arr\n",
    "\n",
    "nums = [10, 3, 6, 2,4, 2,5 ,4, 5, 6, -1, 3, 5, 6, 19]\n",
    "insertion1(nums)"
   ]
  },
  {
   "cell_type": "code",
   "execution_count": 13,
   "metadata": {},
   "outputs": [
    {
     "data": {
      "text/plain": [
       "[-1, 2, 2, 3, 3, 4, 4, 5, 5, 5, 6, 6, 6, 10, 19]"
      ]
     },
     "execution_count": 13,
     "metadata": {},
     "output_type": "execute_result"
    }
   ],
   "source": [
    "def insertion2(arr):\n",
    "    for i in range(1, len(arr)):\n",
    "        key = arr[i]\n",
    "        j = i - 1\n",
    "        while j >= 0 and arr[j] > key:\n",
    "            # skip some comparisons so it's quicker\n",
    "            arr[j + 1] = arr[j]\n",
    "            j -= 1\n",
    "        arr[j + 1] = key\n",
    "    return arr\n",
    "\n",
    "nums = [10, 3, 6, 2,4, 2,5 ,4, 5, 6, -1, 3, 5, 6, 19]\n",
    "insertion2(nums)"
   ]
  },
  {
   "cell_type": "code",
   "execution_count": null,
   "metadata": {},
   "outputs": [],
   "source": []
  }
 ],
 "metadata": {
  "kernelspec": {
   "display_name": "Python 3",
   "language": "python",
   "name": "python3"
  },
  "language_info": {
   "codemirror_mode": {
    "name": "ipython",
    "version": 3
   },
   "file_extension": ".py",
   "mimetype": "text/x-python",
   "name": "python",
   "nbconvert_exporter": "python",
   "pygments_lexer": "ipython3",
   "version": "3.10.11"
  }
 },
 "nbformat": 4,
 "nbformat_minor": 2
}
