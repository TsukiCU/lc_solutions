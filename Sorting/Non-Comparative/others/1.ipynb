{
 "cells": [
  {
   "cell_type": "code",
   "execution_count": 1,
   "metadata": {},
   "outputs": [],
   "source": [
    "scoreboard = [\n",
    "    {\n",
    "    \"id\": 1,\n",
    "    \"name\": \"Boston Bruins\",\n",
    "    \"score\": 7\n",
    "    },\n",
    "\n",
    "    {\n",
    "    \"id\": 2,\n",
    "    \"name\": \"Tampa Bay Lightning\", \n",
    "    \"score\": 5\n",
    "    },\n",
    "\n",
    "    {\n",
    "    \"id\": 3,\n",
    "    \"name\": \"Toronto Maple Leafs\", \n",
    "    \"score\": 2\n",
    "    },\n",
    "\n",
    "    {\n",
    "    \"id\": 4,\n",
    "    \"name\": \"Florida Panthers\", \n",
    "    \"score\": 1\n",
    "    },\n",
    "\n",
    "    {\n",
    "    \"id\": 5,\n",
    "    \"name\": \"Buffalo Sabres\", \n",
    "    \"score\": 1\n",
    "    },\n",
    "]"
   ]
  },
  {
   "cell_type": "markdown",
   "metadata": {},
   "source": [
    "### Above is a json file. sort it based on the \"score\" key."
   ]
  },
  {
   "cell_type": "code",
   "execution_count": 2,
   "metadata": {},
   "outputs": [
    {
     "data": {
      "text/plain": [
       "[{'id': 4, 'name': 'Florida Panthers', 'score': 1},\n",
       " {'id': 5, 'name': 'Buffalo Sabres', 'score': 1},\n",
       " {'id': 3, 'name': 'Toronto Maple Leafs', 'score': 2},\n",
       " {'id': 2, 'name': 'Tampa Bay Lightning', 'score': 5},\n",
       " {'id': 1, 'name': 'Boston Bruins', 'score': 7}]"
      ]
     },
     "execution_count": 2,
     "metadata": {},
     "output_type": "execute_result"
    }
   ],
   "source": [
    "def sort(board):\n",
    "    return sorted(board, key=lambda x:x[\"score\"], reverse=False)\n",
    "\n",
    "sort(scoreboard)"
   ]
  },
  {
   "cell_type": "code",
   "execution_count": null,
   "metadata": {},
   "outputs": [],
   "source": []
  }
 ],
 "metadata": {
  "kernelspec": {
   "display_name": "Python 3",
   "language": "python",
   "name": "python3"
  },
  "language_info": {
   "codemirror_mode": {
    "name": "ipython",
    "version": 3
   },
   "file_extension": ".py",
   "mimetype": "text/x-python",
   "name": "python",
   "nbconvert_exporter": "python",
   "pygments_lexer": "ipython3",
   "version": "3.9.6"
  }
 },
 "nbformat": 4,
 "nbformat_minor": 2
}
